{
 "cells": [
  {
   "cell_type": "markdown",
   "metadata": {},
   "source": [
    "# Procesamiento de Lenguaje Natural (NLP): Análisis (clasificación) de sentimientos\n",
    "Daniel Ernesto Zambrano 201914912"
   ]
  },
  {
   "cell_type": "markdown",
   "metadata": {},
   "source": [
    "## Importacion de Librerias"
   ]
  },
  {
   "cell_type": "code",
   "execution_count": 12,
   "metadata": {},
   "outputs": [],
   "source": [
    "import pandas as pd\n",
    "import numpy as np\n",
    "import matplotlib.pyplot as plt\n",
    "import seaborn as sns\n",
    "\n",
    "plt.style.use('ggplot')\n",
    "import nltk"
   ]
  },
  {
   "cell_type": "markdown",
   "metadata": {},
   "source": [
    "## Leer los datos proporcionados"
   ]
  },
  {
   "cell_type": "code",
   "execution_count": 13,
   "metadata": {},
   "outputs": [
    {
     "name": "stdout",
     "output_type": "stream",
     "text": [
      "(195700, 3)\n",
      "(500, 3)\n"
     ]
    }
   ],
   "source": [
    "df = pd.read_csv('../Input_data/DatosSuicidio/SuicidiosProyecto.csv')\n",
    "print(df.shape)\n",
    "df_few = df.head(500)\n",
    "print(df_few.shape)"
   ]
  },
  {
   "cell_type": "code",
   "execution_count": 14,
   "metadata": {},
   "outputs": [
    {
     "data": {
      "text/html": [
       "<div>\n",
       "<style scoped>\n",
       "    .dataframe tbody tr th:only-of-type {\n",
       "        vertical-align: middle;\n",
       "    }\n",
       "\n",
       "    .dataframe tbody tr th {\n",
       "        vertical-align: top;\n",
       "    }\n",
       "\n",
       "    .dataframe thead th {\n",
       "        text-align: right;\n",
       "    }\n",
       "</style>\n",
       "<table border=\"1\" class=\"dataframe\">\n",
       "  <thead>\n",
       "    <tr style=\"text-align: right;\">\n",
       "      <th></th>\n",
       "      <th>Unnamed: 0</th>\n",
       "      <th>text</th>\n",
       "      <th>class</th>\n",
       "    </tr>\n",
       "  </thead>\n",
       "  <tbody>\n",
       "    <tr>\n",
       "      <th>0</th>\n",
       "      <td>173271</td>\n",
       "      <td>i want to destroy myselffor once everything wa...</td>\n",
       "      <td>suicide</td>\n",
       "    </tr>\n",
       "    <tr>\n",
       "      <th>1</th>\n",
       "      <td>336321</td>\n",
       "      <td>I kinda got behind schedule with learning for ...</td>\n",
       "      <td>non-suicide</td>\n",
       "    </tr>\n",
       "    <tr>\n",
       "      <th>2</th>\n",
       "      <td>256637</td>\n",
       "      <td>I'm just not sure anymoreFirst and foremost: I...</td>\n",
       "      <td>suicide</td>\n",
       "    </tr>\n",
       "    <tr>\n",
       "      <th>3</th>\n",
       "      <td>303772</td>\n",
       "      <td>please give me a reason to liveThats too much ...</td>\n",
       "      <td>suicide</td>\n",
       "    </tr>\n",
       "    <tr>\n",
       "      <th>4</th>\n",
       "      <td>293747</td>\n",
       "      <td>27f struggling to find meaning moving forwardI...</td>\n",
       "      <td>suicide</td>\n",
       "    </tr>\n",
       "  </tbody>\n",
       "</table>\n",
       "</div>"
      ],
      "text/plain": [
       "   Unnamed: 0                                               text        class\n",
       "0      173271  i want to destroy myselffor once everything wa...      suicide\n",
       "1      336321  I kinda got behind schedule with learning for ...  non-suicide\n",
       "2      256637  I'm just not sure anymoreFirst and foremost: I...      suicide\n",
       "3      303772  please give me a reason to liveThats too much ...      suicide\n",
       "4      293747  27f struggling to find meaning moving forwardI...      suicide"
      ]
     },
     "execution_count": 14,
     "metadata": {},
     "output_type": "execute_result"
    }
   ],
   "source": [
    "df_few.head()"
   ]
  },
  {
   "cell_type": "code",
   "execution_count": 15,
   "metadata": {},
   "outputs": [
    {
     "data": {
      "text/html": [
       "<div>\n",
       "<style scoped>\n",
       "    .dataframe tbody tr th:only-of-type {\n",
       "        vertical-align: middle;\n",
       "    }\n",
       "\n",
       "    .dataframe tbody tr th {\n",
       "        vertical-align: top;\n",
       "    }\n",
       "\n",
       "    .dataframe thead th {\n",
       "        text-align: right;\n",
       "    }\n",
       "</style>\n",
       "<table border=\"1\" class=\"dataframe\">\n",
       "  <thead>\n",
       "    <tr style=\"text-align: right;\">\n",
       "      <th></th>\n",
       "      <th>id</th>\n",
       "      <th>text</th>\n",
       "      <th>class</th>\n",
       "    </tr>\n",
       "  </thead>\n",
       "  <tbody>\n",
       "    <tr>\n",
       "      <th>0</th>\n",
       "      <td>173271</td>\n",
       "      <td>i want to destroy myselffor once everything wa...</td>\n",
       "      <td>suicide</td>\n",
       "    </tr>\n",
       "    <tr>\n",
       "      <th>1</th>\n",
       "      <td>336321</td>\n",
       "      <td>I kinda got behind schedule with learning for ...</td>\n",
       "      <td>non-suicide</td>\n",
       "    </tr>\n",
       "    <tr>\n",
       "      <th>2</th>\n",
       "      <td>256637</td>\n",
       "      <td>I'm just not sure anymoreFirst and foremost: I...</td>\n",
       "      <td>suicide</td>\n",
       "    </tr>\n",
       "    <tr>\n",
       "      <th>3</th>\n",
       "      <td>303772</td>\n",
       "      <td>please give me a reason to liveThats too much ...</td>\n",
       "      <td>suicide</td>\n",
       "    </tr>\n",
       "    <tr>\n",
       "      <th>4</th>\n",
       "      <td>293747</td>\n",
       "      <td>27f struggling to find meaning moving forwardI...</td>\n",
       "      <td>suicide</td>\n",
       "    </tr>\n",
       "  </tbody>\n",
       "</table>\n",
       "</div>"
      ],
      "text/plain": [
       "       id                                               text        class\n",
       "0  173271  i want to destroy myselffor once everything wa...      suicide\n",
       "1  336321  I kinda got behind schedule with learning for ...  non-suicide\n",
       "2  256637  I'm just not sure anymoreFirst and foremost: I...      suicide\n",
       "3  303772  please give me a reason to liveThats too much ...      suicide\n",
       "4  293747  27f struggling to find meaning moving forwardI...      suicide"
      ]
     },
     "execution_count": 15,
     "metadata": {},
     "output_type": "execute_result"
    }
   ],
   "source": [
    "df = df.rename({'Unnamed: 0': 'id'},axis=1)\n",
    "df_few = df_few.rename({'Unnamed: 0': 'id'},axis=1)\n",
    "\n",
    "df_few.head()"
   ]
  },
  {
   "cell_type": "code",
   "execution_count": 16,
   "metadata": {},
   "outputs": [
    {
     "data": {
      "image/png": "[encoded data removed]",
      "text/plain": [
       "<Figure size 720x360 with 1 Axes>"
      ]
     },
     "metadata": {},
     "output_type": "display_data"
    }
   ],
   "source": [
    "ax = df_few['class'].value_counts().plot(kind='bar',title='Count of classes', \n",
    "                                    figsize=(10,5))\n",
    "ax.set_xlabel('Clases')\n",
    "plt.show()"
   ]
  },
  {
   "cell_type": "code",
   "execution_count": 17,
   "metadata": {},
   "outputs": [
    {
     "data": {
      "image/png": "[encoded data removed]",
      "text/plain": [
       "<Figure size 720x360 with 1 Axes>"
      ]
     },
     "metadata": {},
     "output_type": "display_data"
    },
    {
     "data": {
      "text/plain": [
       "non-suicide    110165\n",
       "suicide         85535\n",
       "Name: class, dtype: int64"
      ]
     },
     "execution_count": 17,
     "metadata": {},
     "output_type": "execute_result"
    }
   ],
   "source": [
    "ax = df['class'].value_counts().plot(kind='bar',title='Count of classes', \n",
    "                                    figsize=(10,5))\n",
    "ax.set_xlabel('Clases')\n",
    "plt.show()\n",
    "\n",
    "df['class'].value_counts()"
   ]
  },
  {
   "cell_type": "markdown",
   "metadata": {},
   "source": [
    "Al hacer este analisis sobre el total de etiquetas para cada clase podemos ver que el problema tiene un conjunto de datos balanceado, en particular $\\frac{||Suic||}{||NonSuic||} = 0.77 $,  indicativo de que entre tamaño de las clases **no** es considerablemente dispar en tamaño, luego no es necesario hacer un balanceo en etapas posteriores de procesamiento.\n",
    "\n",
    "Con esto en consideracion, se procede a usar el archivo ya procesado por el flujo de limpieza de datos hecho en Tableu prep  "
   ]
  },
  {
   "cell_type": "code",
   "execution_count": 18,
   "metadata": {},
   "outputs": [
    {
     "data": {
      "text/plain": [
       "(195683, 3)"
      ]
     },
     "execution_count": 18,
     "metadata": {},
     "output_type": "execute_result"
    }
   ],
   "source": [
    "df_clean = pd.read_csv(\"../Input_data/DatosSuicidio/SuicidiosProyecto_clean.csv\")\n",
    "df_clean = df_clean.rename({'Unnamed: 0': 'id'},axis=1)\n",
    "df_clean.shape"
   ]
  },
  {
   "cell_type": "code",
   "execution_count": 19,
   "metadata": {},
   "outputs": [
    {
     "data": {
      "text/html": [
       "<div>\n",
       "<style scoped>\n",
       "    .dataframe tbody tr th:only-of-type {\n",
       "        vertical-align: middle;\n",
       "    }\n",
       "\n",
       "    .dataframe tbody tr th {\n",
       "        vertical-align: top;\n",
       "    }\n",
       "\n",
       "    .dataframe thead th {\n",
       "        text-align: right;\n",
       "    }\n",
       "</style>\n",
       "<table border=\"1\" class=\"dataframe\">\n",
       "  <thead>\n",
       "    <tr style=\"text-align: right;\">\n",
       "      <th></th>\n",
       "      <th>id</th>\n",
       "      <th>text</th>\n",
       "      <th>class</th>\n",
       "    </tr>\n",
       "  </thead>\n",
       "  <tbody>\n",
       "    <tr>\n",
       "      <th>0</th>\n",
       "      <td>250417</td>\n",
       "      <td>hi fello gamers my friend made a discord whos ...</td>\n",
       "      <td>non-suicide</td>\n",
       "    </tr>\n",
       "    <tr>\n",
       "      <th>1</th>\n",
       "      <td>317614</td>\n",
       "      <td>hi fello guys and guyettes sooo my friends hav...</td>\n",
       "      <td>non-suicide</td>\n",
       "    </tr>\n",
       "    <tr>\n",
       "      <th>2</th>\n",
       "      <td>200785</td>\n",
       "      <td>hi fello homo sapiens and hetero sapiens sooo ...</td>\n",
       "      <td>non-suicide</td>\n",
       "    </tr>\n",
       "    <tr>\n",
       "      <th>3</th>\n",
       "      <td>54971</td>\n",
       "      <td>hi fello peeps and peepettes discord server an...</td>\n",
       "      <td>non-suicide</td>\n",
       "    </tr>\n",
       "    <tr>\n",
       "      <th>4</th>\n",
       "      <td>139519</td>\n",
       "      <td>hi fello peeps and peepettes hi anyone wanna h...</td>\n",
       "      <td>non-suicide</td>\n",
       "    </tr>\n",
       "  </tbody>\n",
       "</table>\n",
       "</div>"
      ],
      "text/plain": [
       "       id                                               text        class\n",
       "0  250417  hi fello gamers my friend made a discord whos ...  non-suicide\n",
       "1  317614  hi fello guys and guyettes sooo my friends hav...  non-suicide\n",
       "2  200785  hi fello homo sapiens and hetero sapiens sooo ...  non-suicide\n",
       "3   54971  hi fello peeps and peepettes discord server an...  non-suicide\n",
       "4  139519  hi fello peeps and peepettes hi anyone wanna h...  non-suicide"
      ]
     },
     "execution_count": 19,
     "metadata": {},
     "output_type": "execute_result"
    }
   ],
   "source": [
    "df_clean.head()"
   ]
  },
  {
   "cell_type": "markdown",
   "metadata": {},
   "source": [
    "### Procesamiento NTLK basico"
   ]
  },
  {
   "cell_type": "code",
   "execution_count": 20,
   "metadata": {},
   "outputs": [
    {
     "name": "stdout",
     "output_type": "stream",
     "text": [
      "My mother found my vibe and is screaming at me for not talking about it I can't deal with this anymore. I bought an adult toy recently because my libido is quite high for a teenager and because I'm really stressed because of my mother. She gets angry at the stupidest things possible at me and dad. Today she was acting kinda mean and I didn't understand why. When I was at the mall, she changed my sheets even though she knows how much I hate when she enters my room without permission for anything  (I'm scared of her finding things that she wouldn't like and screaming at me), and found my vibrator. She called me and told me about it in a nit picking way, and kept asking me weird stuff about it. I told her that I'm super uncomfortable and stressed talking about this, and she said that we'll talk home. I told her I don't wanna talk at all about this with her, and she got super pissed, saying that \"I'm your mother and I deserve to know because I do so many things for you \", and \"you're obligated to tell me about this\". I burst out in tears at the mall telling her that I don't wanna do this, and she kept asking \"why are you crying now? I didn't even shout at you\". I ended the call, and she later called me and started the conversation by saying  \"did you finish already\"? (Here we have a word which is super mean to say to a child) which made me burst into tears even more. I texted her saying that I did not like what she said, and she said sorry numerous times. \n",
      "      When I got home:\n",
      "I went to my bedroom waiting in fear of dad coming in my room wanting to talk about it or my mom coming home from gym.  When mom came they both came in my room and started interrogating me about it. Now, my dad is pretty chill,  unlike my mother, but I wasn't prepared for the conversation so I told them numerous times that I don't wanna talk about it. None of them understood and kept trying to ask, so i raised my voice to leave me alone and my mother started shouting that \"you're obligated to tell me\" \"I'm your mother \" so many times and I told both of them to get out of my room. Dad kept trying to pamper me but I was annoyed at the both of them, so I kept repeating that i want them out of my room. They finally left after I started crying, with mom rolling her eyes, and I told them that I didn't wanna see any of them today, but my mother kept trying to find a reason to talk to me.\n",
      "\n",
      "Why am I obligated  to do this? Is this normal? I don't wanna talk at all about this! I feel ashamed of myself and disgusted with her behaviour. Do I have to tell her about it? They're expecting that I'll tell them tomorrow.  Tomorrow I'm going on a trip with my cousin.  I don't wanna talk to anyone about this f2f or phone call. I know I'm overreacting,  but I cried so much today because of her. I can't deal with this bullshit anymore.\n",
      "non-suicide\n"
     ]
    }
   ],
   "source": [
    "eg = df['text'][167]\n",
    "cl_eg = df['class'][167] \n",
    "print(eg)\n",
    "print(cl_eg)"
   ]
  },
  {
   "cell_type": "markdown",
   "metadata": {},
   "source": [
    "En el ejemplo puede verse que el texto refiere a un sentimiento negativo y de fastidio pero dada la etiqueta, el texto es no suicida. "
   ]
  },
  {
   "cell_type": "code",
   "execution_count": 21,
   "metadata": {},
   "outputs": [
    {
     "data": {
      "text/plain": [
       "['My', 'mother', 'found', 'my', 'vibe', 'and', 'is', 'screaming', 'at', 'me']"
      ]
     },
     "execution_count": 21,
     "metadata": {},
     "output_type": "execute_result"
    }
   ],
   "source": [
    "tokens = nltk.word_tokenize(eg)\n",
    "tokens[:10]"
   ]
  },
  {
   "cell_type": "code",
   "execution_count": 22,
   "metadata": {},
   "outputs": [
    {
     "data": {
      "text/plain": [
       "[('My', 'PRP$'),\n",
       " ('mother', 'NN'),\n",
       " ('found', 'VBD'),\n",
       " ('my', 'PRP$'),\n",
       " ('vibe', 'NN'),\n",
       " ('and', 'CC'),\n",
       " ('is', 'VBZ'),\n",
       " ('screaming', 'VBG'),\n",
       " ('at', 'IN'),\n",
       " ('me', 'PRP')]"
      ]
     },
     "execution_count": 22,
     "metadata": {},
     "output_type": "execute_result"
    }
   ],
   "source": [
    "tagged = nltk.pos_tag(tokens)\n",
    "tagged[:10]"
   ]
  },
  {
   "cell_type": "code",
   "execution_count": 23,
   "metadata": {},
   "outputs": [
    {
     "name": "stdout",
     "output_type": "stream",
     "text": [
      "(S\n",
      "  My/PRP$\n",
      "  mother/NN\n",
      "  found/VBD\n",
      "  my/PRP$\n",
      "  vibe/NN\n",
      "  and/CC\n",
      "  is/VBZ\n",
      "  screaming/VBG\n",
      "  at/IN\n",
      "  me/PRP\n",
      "  for/IN\n",
      "  not/RB\n",
      "  talking/VBG\n",
      "  about/IN\n",
      "  it/PRP\n",
      "  I/PRP\n",
      "  ca/MD\n",
      "  n't/RB\n",
      "  deal/VB\n",
      "  with/IN\n",
      "  this/DT\n",
      "  anymore/NN\n",
      "  ./.\n",
      "  I/PRP\n",
      "  bought/VBD\n",
      "  an/DT\n",
      "  adult/NN\n",
      "  toy/NN\n",
      "  recently/RB\n",
      "  because/IN\n",
      "  my/PRP$\n",
      "  libido/NN\n",
      "  is/VBZ\n",
      "  quite/RB\n",
      "  high/JJ\n",
      "  for/IN\n",
      "  a/DT\n",
      "  teenager/NN\n",
      "  and/CC\n",
      "  because/IN\n",
      "  I/PRP\n",
      "  'm/VBP\n",
      "  really/RB\n",
      "  stressed/VBN\n",
      "  because/IN\n",
      "  of/IN\n",
      "  my/PRP$\n",
      "  mother/NN\n",
      "  ./.\n",
      "  She/PRP\n",
      "  gets/VBZ\n",
      "  angry/JJ\n",
      "  at/IN\n",
      "  the/DT\n",
      "  stupidest/JJS\n",
      "  things/NNS\n",
      "  possible/JJ\n",
      "  at/IN\n",
      "  me/PRP\n",
      "  and/CC\n",
      "  dad/VB\n",
      "  ./.\n",
      "  Today/NN\n",
      "  she/PRP\n",
      "  was/VBD\n",
      "  acting/VBG\n",
      "  kinda/NN\n",
      "  mean/NN\n",
      "  and/CC\n",
      "  I/PRP\n",
      "  did/VBD\n",
      "  n't/RB\n",
      "  understand/VB\n",
      "  why/WRB\n",
      "  ./.\n",
      "  When/WRB\n",
      "  I/PRP\n",
      "  was/VBD\n",
      "  at/IN\n",
      "  the/DT\n",
      "  mall/NN\n",
      "  ,/,\n",
      "  she/PRP\n",
      "  changed/VBD\n",
      "  my/PRP$\n",
      "  sheets/NNS\n",
      "  even/RB\n",
      "  though/IN\n",
      "  she/PRP\n",
      "  knows/VBZ\n",
      "  how/WRB\n",
      "  much/JJ\n",
      "  I/PRP\n",
      "  hate/VBP\n",
      "  when/WRB\n",
      "  she/PRP\n",
      "  enters/VBZ\n",
      "  my/PRP$\n",
      "  room/NN\n",
      "  without/IN\n",
      "  permission/NN\n",
      "  for/IN\n",
      "  anything/NN\n",
      "  (/(\n",
      "  I/PRP\n",
      "  'm/VBP\n",
      "  scared/JJ\n",
      "  of/IN\n",
      "  her/PRP$\n",
      "  finding/JJ\n",
      "  things/NNS\n",
      "  that/IN\n",
      "  she/PRP\n",
      "  would/MD\n",
      "  n't/RB\n",
      "  like/VB\n",
      "  and/CC\n",
      "  screaming/VBG\n",
      "  at/IN\n",
      "  me/PRP\n",
      "  )/)\n",
      "  ,/,\n",
      "  and/CC\n",
      "  found/VBD\n",
      "  my/PRP$\n",
      "  vibrator/NN\n",
      "  ./.\n",
      "  She/PRP\n",
      "  called/VBD\n",
      "  me/PRP\n",
      "  and/CC\n",
      "  told/VBD\n",
      "  me/PRP\n",
      "  about/IN\n",
      "  it/PRP\n",
      "  in/IN\n",
      "  a/DT\n",
      "  nit/NN\n",
      "  picking/VBG\n",
      "  way/NN\n",
      "  ,/,\n",
      "  and/CC\n",
      "  kept/VBD\n",
      "  asking/VBG\n",
      "  me/PRP\n",
      "  weird/JJ\n",
      "  stuff/NN\n",
      "  about/IN\n",
      "  it/PRP\n",
      "  ./.\n",
      "  I/PRP\n",
      "  told/VBD\n",
      "  her/PRP\n",
      "  that/IN\n",
      "  I/PRP\n",
      "  'm/VBP\n",
      "  super/JJ\n",
      "  uncomfortable/JJ\n",
      "  and/CC\n",
      "  stressed/VBD\n",
      "  talking/VBG\n",
      "  about/IN\n",
      "  this/DT\n",
      "  ,/,\n",
      "  and/CC\n",
      "  she/PRP\n",
      "  said/VBD\n",
      "  that/IN\n",
      "  we/PRP\n",
      "  'll/MD\n",
      "  talk/VB\n",
      "  home/NN\n",
      "  ./.\n",
      "  I/PRP\n",
      "  told/VBD\n",
      "  her/PRP\n",
      "  I/PRP\n",
      "  do/VBP\n",
      "  n't/RB\n",
      "  wan/VB\n",
      "  na/JJ\n",
      "  talk/NN\n",
      "  at/IN\n",
      "  all/DT\n",
      "  about/IN\n",
      "  this/DT\n",
      "  with/IN\n",
      "  her/PRP\n",
      "  ,/,\n",
      "  and/CC\n",
      "  she/PRP\n",
      "  got/VBD\n",
      "  super/JJ\n",
      "  pissed/VBN\n",
      "  ,/,\n",
      "  saying/VBG\n",
      "  that/IN\n",
      "  ``/``\n",
      "  I/PRP\n",
      "  'm/VBP\n",
      "  your/PRP$\n",
      "  mother/NN\n",
      "  and/CC\n",
      "  I/PRP\n",
      "  deserve/VBP\n",
      "  to/TO\n",
      "  know/VB\n",
      "  because/IN\n",
      "  I/PRP\n",
      "  do/VBP\n",
      "  so/RB\n",
      "  many/JJ\n",
      "  things/NNS\n",
      "  for/IN\n",
      "  you/PRP\n",
      "  ``/``\n",
      "  ,/,\n",
      "  and/CC\n",
      "  ``/``\n",
      "  you/PRP\n",
      "  're/VBP\n",
      "  obligated/VBN\n",
      "  to/TO\n",
      "  tell/VB\n",
      "  me/PRP\n",
      "  about/IN\n",
      "  this/DT\n",
      "  ''/''\n",
      "  ./.\n",
      "  I/PRP\n",
      "  burst/VBP\n",
      "  out/RP\n",
      "  in/IN\n",
      "  tears/NNS\n",
      "  at/IN\n",
      "  the/DT\n",
      "  mall/NN\n",
      "  telling/VBG\n",
      "  her/PRP$\n",
      "  that/IN\n",
      "  I/PRP\n",
      "  do/VBP\n",
      "  n't/RB\n",
      "  wan/VB\n",
      "  na/RB\n",
      "  do/VB\n",
      "  this/DT\n",
      "  ,/,\n",
      "  and/CC\n",
      "  she/PRP\n",
      "  kept/VBD\n",
      "  asking/VBG\n",
      "  ``/``\n",
      "  why/WRB\n",
      "  are/VBP\n",
      "  you/PRP\n",
      "  crying/VBG\n",
      "  now/RB\n",
      "  ?/.\n",
      "  I/PRP\n",
      "  did/VBD\n",
      "  n't/RB\n",
      "  even/RB\n",
      "  shout/VB\n",
      "  at/IN\n",
      "  you/PRP\n",
      "  ''/''\n",
      "  ./.\n",
      "  I/PRP\n",
      "  ended/VBD\n",
      "  the/DT\n",
      "  call/NN\n",
      "  ,/,\n",
      "  and/CC\n",
      "  she/PRP\n",
      "  later/RB\n",
      "  called/VBD\n",
      "  me/PRP\n",
      "  and/CC\n",
      "  started/VBD\n",
      "  the/DT\n",
      "  conversation/NN\n",
      "  by/IN\n",
      "  saying/VBG\n",
      "  ``/``\n",
      "  did/VBD\n",
      "  you/PRP\n",
      "  finish/VB\n",
      "  already/RB\n",
      "  ''/''\n",
      "  ?/.\n",
      "  (/(\n",
      "  Here/RB\n",
      "  we/PRP\n",
      "  have/VBP\n",
      "  a/DT\n",
      "  word/NN\n",
      "  which/WDT\n",
      "  is/VBZ\n",
      "  super/JJ\n",
      "  mean/NN\n",
      "  to/TO\n",
      "  say/VB\n",
      "  to/TO\n",
      "  a/DT\n",
      "  child/NN\n",
      "  )/)\n",
      "  which/WDT\n",
      "  made/VBD\n",
      "  me/PRP\n",
      "  burst/VB\n",
      "  into/IN\n",
      "  tears/NNS\n",
      "  even/RB\n",
      "  more/RBR\n",
      "  ./.\n",
      "  I/PRP\n",
      "  texted/VBD\n",
      "  her/PRP\n",
      "  saying/VBG\n",
      "  that/IN\n",
      "  I/PRP\n",
      "  did/VBD\n",
      "  not/RB\n",
      "  like/IN\n",
      "  what/WP\n",
      "  she/PRP\n",
      "  said/VBD\n",
      "  ,/,\n",
      "  and/CC\n",
      "  she/PRP\n",
      "  said/VBD\n",
      "  sorry/RB\n",
      "  numerous/JJ\n",
      "  times/NNS\n",
      "  ./.\n",
      "  When/WRB\n",
      "  I/PRP\n",
      "  got/VBD\n",
      "  home/NN\n",
      "  :/:\n",
      "  I/PRP\n",
      "  went/VBD\n",
      "  to/TO\n",
      "  my/PRP$\n",
      "  bedroom/NN\n",
      "  waiting/VBG\n",
      "  in/IN\n",
      "  fear/NN\n",
      "  of/IN\n",
      "  dad/NN\n",
      "  coming/VBG\n",
      "  in/IN\n",
      "  my/PRP$\n",
      "  room/NN\n",
      "  wanting/VBG\n",
      "  to/TO\n",
      "  talk/VB\n",
      "  about/IN\n",
      "  it/PRP\n",
      "  or/CC\n",
      "  my/PRP$\n",
      "  mom/NN\n",
      "  coming/VBG\n",
      "  home/NN\n",
      "  from/IN\n",
      "  gym/NN\n",
      "  ./.\n",
      "  When/WRB\n",
      "  mom/NN\n",
      "  came/VBD\n",
      "  they/PRP\n",
      "  both/DT\n",
      "  came/VBD\n",
      "  in/IN\n",
      "  my/PRP$\n",
      "  room/NN\n",
      "  and/CC\n",
      "  started/VBD\n",
      "  interrogating/VBG\n",
      "  me/PRP\n",
      "  about/IN\n",
      "  it/PRP\n",
      "  ./.\n",
      "  Now/RB\n",
      "  ,/,\n",
      "  my/PRP$\n",
      "  dad/NN\n",
      "  is/VBZ\n",
      "  pretty/JJ\n",
      "  chill/NN\n",
      "  ,/,\n",
      "  unlike/IN\n",
      "  my/PRP$\n",
      "  mother/NN\n",
      "  ,/,\n",
      "  but/CC\n",
      "  I/PRP\n",
      "  was/VBD\n",
      "  n't/RB\n",
      "  prepared/VBN\n",
      "  for/IN\n",
      "  the/DT\n",
      "  conversation/NN\n",
      "  so/RB\n",
      "  I/PRP\n",
      "  told/VBD\n",
      "  them/PRP\n",
      "  numerous/JJ\n",
      "  times/NNS\n",
      "  that/IN\n",
      "  I/PRP\n",
      "  do/VBP\n",
      "  n't/RB\n",
      "  wan/VB\n",
      "  na/JJ\n",
      "  talk/NN\n",
      "  about/IN\n",
      "  it/PRP\n",
      "  ./.\n",
      "  None/NN\n",
      "  of/IN\n",
      "  them/PRP\n",
      "  understood/NN\n",
      "  and/CC\n",
      "  kept/VBD\n",
      "  trying/VBG\n",
      "  to/TO\n",
      "  ask/VB\n",
      "  ,/,\n",
      "  so/IN\n",
      "  i/JJ\n",
      "  raised/VBD\n",
      "  my/PRP$\n",
      "  voice/NN\n",
      "  to/TO\n",
      "  leave/VB\n",
      "  me/PRP\n",
      "  alone/RB\n",
      "  and/CC\n",
      "  my/PRP$\n",
      "  mother/NN\n",
      "  started/VBD\n",
      "  shouting/VBG\n",
      "  that/IN\n",
      "  ``/``\n",
      "  you/PRP\n",
      "  're/VBP\n",
      "  obligated/VBN\n",
      "  to/TO\n",
      "  tell/VB\n",
      "  me/PRP\n",
      "  ''/''\n",
      "  ``/``\n",
      "  I/PRP\n",
      "  'm/VBP\n",
      "  your/PRP$\n",
      "  mother/NN\n",
      "  ``/``\n",
      "  so/RB\n",
      "  many/JJ\n",
      "  times/NNS\n",
      "  and/CC\n",
      "  I/PRP\n",
      "  told/VBD\n",
      "  both/DT\n",
      "  of/IN\n",
      "  them/PRP\n",
      "  to/TO\n",
      "  get/VB\n",
      "  out/IN\n",
      "  of/IN\n",
      "  my/PRP$\n",
      "  room/NN\n",
      "  ./.\n",
      "  (PERSON Dad/NNP)\n",
      "  kept/VBD\n",
      "  trying/VBG\n",
      "  to/TO\n",
      "  pamper/VB\n",
      "  me/PRP\n",
      "  but/CC\n",
      "  I/PRP\n",
      "  was/VBD\n",
      "  annoyed/VBN\n",
      "  at/IN\n",
      "  the/DT\n",
      "  both/DT\n",
      "  of/IN\n",
      "  them/PRP\n",
      "  ,/,\n",
      "  so/RB\n",
      "  I/PRP\n",
      "  kept/VBD\n",
      "  repeating/VBG\n",
      "  that/IN\n",
      "  i/NN\n",
      "  want/VBP\n",
      "  them/PRP\n",
      "  out/IN\n",
      "  of/IN\n",
      "  my/PRP$\n",
      "  room/NN\n",
      "  ./.\n",
      "  They/PRP\n",
      "  finally/RB\n",
      "  left/VBD\n",
      "  after/IN\n",
      "  I/PRP\n",
      "  started/VBD\n",
      "  crying/VBG\n",
      "  ,/,\n",
      "  with/IN\n",
      "  mom/NN\n",
      "  rolling/VBG\n",
      "  her/PRP$\n",
      "  eyes/NNS\n",
      "  ,/,\n",
      "  and/CC\n",
      "  I/PRP\n",
      "  told/VBD\n",
      "  them/PRP\n",
      "  that/IN\n",
      "  I/PRP\n",
      "  did/VBD\n",
      "  n't/RB\n",
      "  wan/VB\n",
      "  na/TO\n",
      "  see/VB\n",
      "  any/DT\n",
      "  of/IN\n",
      "  them/PRP\n",
      "  today/NN\n",
      "  ,/,\n",
      "  but/CC\n",
      "  my/PRP$\n",
      "  mother/NN\n",
      "  kept/VBD\n",
      "  trying/VBG\n",
      "  to/TO\n",
      "  find/VB\n",
      "  a/DT\n",
      "  reason/NN\n",
      "  to/TO\n",
      "  talk/VB\n",
      "  to/TO\n",
      "  me/PRP\n",
      "  ./.\n",
      "  Why/WRB\n",
      "  am/VBP\n",
      "  I/PRP\n",
      "  obligated/VBD\n",
      "  to/TO\n",
      "  do/VB\n",
      "  this/DT\n",
      "  ?/.\n",
      "  Is/VBZ\n",
      "  this/DT\n",
      "  normal/JJ\n",
      "  ?/.\n",
      "  I/PRP\n",
      "  do/VBP\n",
      "  n't/RB\n",
      "  wan/VB\n",
      "  na/JJ\n",
      "  talk/NN\n",
      "  at/IN\n",
      "  all/DT\n",
      "  about/IN\n",
      "  this/DT\n",
      "  !/.\n",
      "  I/PRP\n",
      "  feel/VBP\n",
      "  ashamed/VBN\n",
      "  of/IN\n",
      "  myself/PRP\n",
      "  and/CC\n",
      "  disgusted/VBD\n",
      "  with/IN\n",
      "  her/PRP$\n",
      "  behaviour/NN\n",
      "  ./.\n",
      "  Do/VBP\n",
      "  I/PRP\n",
      "  have/VBP\n",
      "  to/TO\n",
      "  tell/VB\n",
      "  her/PRP\n",
      "  about/IN\n",
      "  it/PRP\n",
      "  ?/.\n",
      "  They/PRP\n",
      "  're/VBP\n",
      "  expecting/VBG\n",
      "  that/IN\n",
      "  I/PRP\n",
      "  'll/MD\n",
      "  tell/VB\n",
      "  them/PRP\n",
      "  tomorrow/NN\n",
      "  ./.\n",
      "  Tomorrow/VB\n",
      "  I/PRP\n",
      "  'm/VBP\n",
      "  going/VBG\n",
      "  on/IN\n",
      "  a/DT\n",
      "  trip/NN\n",
      "  with/IN\n",
      "  my/PRP$\n",
      "  cousin/NN\n",
      "  ./.\n",
      "  I/PRP\n",
      "  do/VBP\n",
      "  n't/RB\n",
      "  wan/VB\n",
      "  na/JJ\n",
      "  talk/NN\n",
      "  to/TO\n",
      "  anyone/NN\n",
      "  about/IN\n",
      "  this/DT\n",
      "  f2f/NN\n",
      "  or/CC\n",
      "  phone/NN\n",
      "  call/NN\n",
      "  ./.\n",
      "  I/PRP\n",
      "  know/VBP\n",
      "  I/PRP\n",
      "  'm/VBP\n",
      "  overreacting/VBG\n",
      "  ,/,\n",
      "  but/CC\n",
      "  I/PRP\n",
      "  cried/VBD\n",
      "  so/RB\n",
      "  much/JJ\n",
      "  today/NN\n",
      "  because/IN\n",
      "  of/IN\n",
      "  her/PRP$\n",
      "  ./.\n",
      "  I/PRP\n",
      "  ca/MD\n",
      "  n't/RB\n",
      "  deal/VB\n",
      "  with/IN\n",
      "  this/DT\n",
      "  bullshit/NN\n",
      "  anymore/RB\n",
      "  ./.)\n"
     ]
    }
   ],
   "source": [
    "entities = nltk.chunk.ne_chunk(tagged)\n",
    "entities.pprint()"
   ]
  },
  {
   "cell_type": "markdown",
   "metadata": {},
   "source": [
    "### Enfoque de Analisis\n",
    "\n",
    "El enfoque que se usara para procesar el texto estructurado que ya tenemos, es el analisis de sentimientos en las palabras o estructuras identificadas en un texto pasado por parametro.\n",
    "\n",
    "En primera instancia se hara un analisis en base a una herramienta basada en lexico que usa diccionarios para clasificar las estructuras del texto como positivas, negativas o neutrales. \n",
    "\n",
    "En nuestro caso, como entrada de prueba se usuara el ejemplo que ya se estructuro y se le aplicara **VADER** (Valence Aware Dictionary and sEntiment Reasoner) que es es la herramienta de análisis de sentimientos basada en reglas y léxico escogida, que está específicamente entrenada con los sentimientos expresados ​​en las redes sociales y funciona bien en textos de otros dominios. \n",
    "\n",
    "En segunda instancia se hara un analisis de sentimientos en base a un modelo ya entrenado usando una tarea de *masked language modeling* (MLM) que es simplemente predecir qué palabra debria llenar los espacios en blanco de una oración, recibe de entrada una mascara de texto como \"la pelicula estuvo una \\[MASCARA\\]\", y retorna las posibles palabras que podrian llenar tal mascara.\n",
    "\n",
    "El modelo a usar se llama **RoBERTa** (Robustly Optimized BERT Pretraining Approach) y ees un modelo de transformadores preentrenado en un gran cuerpo de datos en inglés de manera autosupervisada. **RoBERTa** está destinado principalmente a ajustarse en una tarea especifica de modelado de lenguaje, que es nuestro caso es de sentimientos.\n",
    "\n",
    "Haremos que tambien clasifique estructuras del texto en positivas, negativas o neutras pero, en este modelo ya se consideran las relaciones entre palabras y frases, asi como tambien el sarcasmo y mas comportamientos exhibidos por las personas cuando escriben algun texto."
   ]
  },
  {
   "cell_type": "markdown",
   "metadata": {},
   "source": [
    "## Paso 1: Analisis con **VADER**\n",
    "- El resultado de analisis de VADER es una 4-tupla, que contiene 3 puntajes general para todo el texto y un puntaje compuesto que toma en cuenta los otros 3.\n",
    "    * $<PostiveScore, NeutralScore, NegativeScore, CompoundScore>$.\n",
    "    * El rango de los primeros 3 puntajes es $[0,1]$ siendo 0 el valor que tomaria un puntaje si el texto no denota tal sentimiento y 1 siendo el mayor valor sentimental que podria tomar el texto en un puntaje concreto.\n",
    "    * El rango del puntaje compuesto es $[-1,1]$, siendo -1 un sentimiento altamente negativo, 0 un sentimiento altamente neutral y 1 un sentimiento altamente positivo."
   ]
  },
  {
   "cell_type": "code",
   "execution_count": 24,
   "metadata": {},
   "outputs": [],
   "source": [
    "from nltk.sentiment import SentimentIntensityAnalyzer\n",
    "from tqdm.notebook import tqdm\n",
    "\n",
    "sia = SentimentIntensityAnalyzer()"
   ]
  },
  {
   "cell_type": "code",
   "execution_count": 25,
   "metadata": {},
   "outputs": [
    {
     "data": {
      "text/plain": [
       "{'neg': 0.592, 'neu': 0.408, 'pos': 0.0, 'compound': -0.7003}"
      ]
     },
     "execution_count": 25,
     "metadata": {},
     "output_type": "execute_result"
    }
   ],
   "source": [
    "sia.polarity_scores(\"i am a miserable, pathethic piece of crap\")"
   ]
  },
  {
   "cell_type": "code",
   "execution_count": 26,
   "metadata": {},
   "outputs": [
    {
     "data": {
      "text/plain": [
       "{'neg': 0.0, 'neu': 0.433, 'pos': 0.567, 'compound': 0.7384}"
      ]
     },
     "execution_count": 26,
     "metadata": {},
     "output_type": "execute_result"
    }
   ],
   "source": [
    "sia.polarity_scores(\"Dude, this is so awesome\")"
   ]
  },
  {
   "cell_type": "code",
   "execution_count": 27,
   "metadata": {},
   "outputs": [
    {
     "data": {
      "text/plain": [
       "{'neg': 0.118, 'neu': 0.863, 'pos': 0.019, 'compound': -0.9932}"
      ]
     },
     "execution_count": 27,
     "metadata": {},
     "output_type": "execute_result"
    }
   ],
   "source": [
    "sia.polarity_scores(eg)"
   ]
  },
  {
   "cell_type": "code",
   "execution_count": 74,
   "metadata": {},
   "outputs": [
    {
     "data": {
      "application/vnd.jupyter.widget-view+json": {
       "model_id": "dd4aa2fbbc5b482ba8ed1a932c5d556c",
       "version_major": 2,
       "version_minor": 0
      },
      "text/plain": [
       "  0%|          | 0/195683 [00:00<?, ?it/s]"
      ]
     },
     "metadata": {},
     "output_type": "display_data"
    },
    {
     "name": "stdout",
     "output_type": "stream",
     "text": [
      "1\n",
      "2\n",
      "3\n",
      "4\n",
      "5\n",
      "6\n",
      "7\n",
      "8\n",
      "9\n",
      "10\n",
      "11\n",
      "12\n",
      "13\n",
      "14\n",
      "15\n",
      "16\n",
      "17\n",
      "18\n",
      "19\n",
      "20\n",
      "21\n",
      "22\n",
      "23\n",
      "24\n",
      "25\n",
      "26\n",
      "27\n",
      "28\n",
      "29\n",
      "30\n",
      "31\n",
      "32\n",
      "33\n",
      "34\n",
      "35\n"
     ]
    }
   ],
   "source": [
    "res = {}\n",
    "puteao = []\n",
    "for i, row in tqdm(df_clean.iterrows(), total=len(df_clean)):\n",
    "    try:\n",
    "        text = row['text']\n",
    "        df_id = row['id']\n",
    "        res[df_id] = sia.polarity_scores(text)\n",
    "    except AttributeError:\n",
    "        puteao.append(df_id)\n",
    "        print(len(puteao))\n"
   ]
  },
  {
   "cell_type": "code",
   "execution_count": 39,
   "metadata": {},
   "outputs": [],
   "source": [
    "vaders = pd.DataFrame(res).T\n",
    "vaders = vaders.reset_index().rename(columns={'index':'id'})\n",
    "vaders = vaders.merge(df_clean, how='left')"
   ]
  },
  {
   "cell_type": "code",
   "execution_count": 30,
   "metadata": {},
   "outputs": [
    {
     "data": {
      "text/html": [
       "<div>\n",
       "<style scoped>\n",
       "    .dataframe tbody tr th:only-of-type {\n",
       "        vertical-align: middle;\n",
       "    }\n",
       "\n",
       "    .dataframe tbody tr th {\n",
       "        vertical-align: top;\n",
       "    }\n",
       "\n",
       "    .dataframe thead th {\n",
       "        text-align: right;\n",
       "    }\n",
       "</style>\n",
       "<table border=\"1\" class=\"dataframe\">\n",
       "  <thead>\n",
       "    <tr style=\"text-align: right;\">\n",
       "      <th></th>\n",
       "      <th>id</th>\n",
       "      <th>neg</th>\n",
       "      <th>neu</th>\n",
       "      <th>pos</th>\n",
       "      <th>compound</th>\n",
       "      <th>text</th>\n",
       "      <th>class</th>\n",
       "    </tr>\n",
       "  </thead>\n",
       "  <tbody>\n",
       "    <tr>\n",
       "      <th>0</th>\n",
       "      <td>250417</td>\n",
       "      <td>0.045</td>\n",
       "      <td>0.754</td>\n",
       "      <td>0.201</td>\n",
       "      <td>0.8074</td>\n",
       "      <td>hi fello gamers my friend made a discord whos ...</td>\n",
       "      <td>non-suicide</td>\n",
       "    </tr>\n",
       "    <tr>\n",
       "      <th>1</th>\n",
       "      <td>317614</td>\n",
       "      <td>0.056</td>\n",
       "      <td>0.817</td>\n",
       "      <td>0.127</td>\n",
       "      <td>0.7283</td>\n",
       "      <td>hi fello guys and guyettes sooo my friends hav...</td>\n",
       "      <td>non-suicide</td>\n",
       "    </tr>\n",
       "    <tr>\n",
       "      <th>2</th>\n",
       "      <td>200785</td>\n",
       "      <td>0.055</td>\n",
       "      <td>0.821</td>\n",
       "      <td>0.124</td>\n",
       "      <td>0.7283</td>\n",
       "      <td>hi fello homo sapiens and hetero sapiens sooo ...</td>\n",
       "      <td>non-suicide</td>\n",
       "    </tr>\n",
       "    <tr>\n",
       "      <th>3</th>\n",
       "      <td>54971</td>\n",
       "      <td>0.092</td>\n",
       "      <td>0.700</td>\n",
       "      <td>0.208</td>\n",
       "      <td>0.7283</td>\n",
       "      <td>hi fello peeps and peepettes discord server an...</td>\n",
       "      <td>non-suicide</td>\n",
       "    </tr>\n",
       "    <tr>\n",
       "      <th>4</th>\n",
       "      <td>139519</td>\n",
       "      <td>0.070</td>\n",
       "      <td>0.692</td>\n",
       "      <td>0.238</td>\n",
       "      <td>0.8914</td>\n",
       "      <td>hi fello peeps and peepettes hi anyone wanna h...</td>\n",
       "      <td>non-suicide</td>\n",
       "    </tr>\n",
       "  </tbody>\n",
       "</table>\n",
       "</div>"
      ],
      "text/plain": [
       "       id    neg    neu    pos  compound  \\\n",
       "0  250417  0.045  0.754  0.201    0.8074   \n",
       "1  317614  0.056  0.817  0.127    0.7283   \n",
       "2  200785  0.055  0.821  0.124    0.7283   \n",
       "3   54971  0.092  0.700  0.208    0.7283   \n",
       "4  139519  0.070  0.692  0.238    0.8914   \n",
       "\n",
       "                                                text        class  \n",
       "0  hi fello gamers my friend made a discord whos ...  non-suicide  \n",
       "1  hi fello guys and guyettes sooo my friends hav...  non-suicide  \n",
       "2  hi fello homo sapiens and hetero sapiens sooo ...  non-suicide  \n",
       "3  hi fello peeps and peepettes discord server an...  non-suicide  \n",
       "4  hi fello peeps and peepettes hi anyone wanna h...  non-suicide  "
      ]
     },
     "execution_count": 30,
     "metadata": {},
     "output_type": "execute_result"
    }
   ],
   "source": [
    "vaders.head()"
   ]
  },
  {
   "cell_type": "markdown",
   "metadata": {},
   "source": [
    "## Supuestos\n",
    "\n",
    "* Tomaremos de supuestos:\n",
    "    - $h_1$: Los textos con un score compuesto negativo son textos con la etiqueta \"suicide\"\n",
    "    - $h_1^c$: Los textos con un score compuesto positivo son textos con la etiqueta \"non-suicide\"\n",
    "    - $h_2$: Los textos con un score negativo alto son textos con la etiqueta \"suicide\"\n",
    "    - $h_2^c$: Los textos con un score positivo alto son textos con la etiqueta \"non-suicide\"\n",
    "\n",
    "Para su comprobacion se hara uso de los resultados del procesamiento hecho sobre VADER, en los datos de suicidio."
   ]
  },
  {
   "cell_type": "code",
   "execution_count": 31,
   "metadata": {},
   "outputs": [
    {
     "data": {
      "image/png": "[encoded data removed]",
      "text/plain": [
       "<Figure size 432x288 with 1 Axes>"
      ]
     },
     "metadata": {},
     "output_type": "display_data"
    }
   ],
   "source": [
    "ax = sns.barplot(data=vaders, x='class', y='compound')\n",
    "ax.set_title('Compound score by class')\n",
    "plt.show()"
   ]
  },
  {
   "cell_type": "code",
   "execution_count": 32,
   "metadata": {},
   "outputs": [
    {
     "data": {
      "image/png": "[encoded data removed]",
      "text/plain": [
       "<Figure size 864x216 with 3 Axes>"
      ]
     },
     "metadata": {},
     "output_type": "display_data"
    }
   ],
   "source": [
    "fig, axs = plt.subplots(1, 3,figsize=(12,3))\n",
    "sns.barplot(data=vaders, x='class', y='pos', ax=axs[0])\n",
    "sns.barplot(data=vaders, x='class', y='neu', ax=axs[1])\n",
    "sns.barplot(data=vaders, x='class', y='neg', ax=axs[2])\n",
    "axs[0].set_title('Positive')\n",
    "axs[1].set_title('Neutral')\n",
    "axs[2].set_title('Negative')\n",
    "plt.tight_layout()\n",
    "plt.show()"
   ]
  },
  {
   "cell_type": "markdown",
   "metadata": {},
   "source": [
    "## Analisis con el modelo pre-entrenado RoBERTa"
   ]
  },
  {
   "cell_type": "code",
   "execution_count": 33,
   "metadata": {},
   "outputs": [],
   "source": [
    "import torch\n",
    "from transformers import AutoTokenizer\n",
    "from transformers import AutoModelForSequenceClassification\n",
    "from scipy.special import softmax"
   ]
  },
  {
   "cell_type": "code",
   "execution_count": 34,
   "metadata": {},
   "outputs": [],
   "source": [
    "MODEL = f\"cardiffnlp/twitter-roberta-base-sentiment\"\n",
    "tokenizer = AutoTokenizer.from_pretrained(MODEL)\n",
    "model = AutoModelForSequenceClassification.from_pretrained(MODEL)\n",
    "model.save_pretrained(MODEL)"
   ]
  },
  {
   "cell_type": "code",
   "execution_count": 35,
   "metadata": {},
   "outputs": [
    {
     "name": "stdout",
     "output_type": "stream",
     "text": [
      "My mother found my vibe and is screaming at me for not talking about it I can't deal with this anymore. I bought an adult toy recently because my libido is quite high for a teenager and because I'm really stressed because of my mother. She gets angry at the stupidest things possible at me and dad. Today she was acting kinda mean and I didn't understand why. When I was at the mall, she changed my sheets even though she knows how much I hate when she enters my room without permission for anything  (I'm scared of her finding things that she wouldn't like and screaming at me), and found my vibrator. She called me and told me about it in a nit picking way, and kept asking me weird stuff about it. I told her that I'm super uncomfortable and stressed talking about this, and she said that we'll talk home. I told her I don't wanna talk at all about this with her, and she got super pissed, saying that \"I'm your mother and I deserve to know because I do so many things for you \", and \"you're obligated to tell me about this\". I burst out in tears at the mall telling her that I don't wanna do this, and she kept asking \"why are you crying now? I didn't even shout at you\". I ended the call, and she later called me and started the conversation by saying  \"did you finish already\"? (Here we have a word which is super mean to say to a child) which made me burst into tears even more. I texted her saying that I did not like what she said, and she said sorry numerous times. \n",
      "      When I got home:\n",
      "I went to my bedroom waiting in fear of dad coming in my room wanting to talk about it or my mom coming home from gym.  When mom came they both came in my room and started interrogating me about it. Now, my dad is pretty chill,  unlike my mother, but I wasn't prepared for the conversation so I told them numerous times that I don't wanna talk about it. None of them understood and kept trying to ask, so i raised my voice to leave me alone and my mother started shouting that \"you're obligated to tell me\" \"I'm your mother \" so many times and I told both of them to get out of my room. Dad kept trying to pamper me but I was annoyed at the both of them, so I kept repeating that i want them out of my room. They finally left after I started crying, with mom rolling her eyes, and I told them that I didn't wanna see any of them today, but my mother kept trying to find a reason to talk to me.\n",
      "\n",
      "Why am I obligated  to do this? Is this normal? I don't wanna talk at all about this! I feel ashamed of myself and disgusted with her behaviour. Do I have to tell her about it? They're expecting that I'll tell them tomorrow.  Tomorrow I'm going on a trip with my cousin.  I don't wanna talk to anyone about this f2f or phone call. I know I'm overreacting,  but I cried so much today because of her. I can't deal with this bullshit anymore.\n"
     ]
    },
    {
     "data": {
      "text/plain": [
       "{'neg': 0.118, 'neu': 0.863, 'pos': 0.019, 'compound': -0.9932}"
      ]
     },
     "execution_count": 35,
     "metadata": {},
     "output_type": "execute_result"
    }
   ],
   "source": [
    "print(eg)\n",
    "sia.polarity_scores(eg)"
   ]
  },
  {
   "cell_type": "code",
   "execution_count": 36,
   "metadata": {},
   "outputs": [],
   "source": [
    "tokenizer.model_max_length=100000000000000"
   ]
  },
  {
   "cell_type": "code",
   "execution_count": 37,
   "metadata": {},
   "outputs": [
    {
     "data": {
      "text/plain": [
       "100000000000000"
      ]
     },
     "execution_count": 37,
     "metadata": {},
     "output_type": "execute_result"
    }
   ],
   "source": [
    "tokenizer.model_max_length"
   ]
  },
  {
   "cell_type": "code",
   "execution_count": 38,
   "metadata": {},
   "outputs": [
    {
     "ename": "RuntimeError",
     "evalue": "The expanded size of the tensor (671) must match the existing size (514) at non-singleton dimension 1.  Target sizes: [1, 671].  Tensor sizes: [1, 514]",
     "output_type": "error",
     "traceback": [
      "\u001b[1;31m---------------------------------------------------------------------------\u001b[0m",
      "\u001b[1;31mRuntimeError\u001b[0m                              Traceback (most recent call last)",
      "\u001b[1;32mc:\\Users\\Daniel\\Desktop\\UNI 2\\BI\\Proyecto 1\\ISIS3301-Proyecto1-Etapa1\\roberta_vader_sentiment_analisys.ipynb Celda 37\u001b[0m in \u001b[0;36m<cell line: 2>\u001b[1;34m()\u001b[0m\n\u001b[0;32m      <a href='vscode-notebook-cell:/c%3A/Users/Daniel/Desktop/UNI%202/BI/Proyecto%201/ISIS3301-Proyecto1-Etapa1/roberta_vader_sentiment_analisys.ipynb#X51sZmlsZQ%3D%3D?line=0'>1</a>\u001b[0m encoded_text \u001b[39m=\u001b[39m tokenizer(eg, return_tensors\u001b[39m=\u001b[39m\u001b[39m'\u001b[39m\u001b[39mpt\u001b[39m\u001b[39m'\u001b[39m)\n\u001b[1;32m----> <a href='vscode-notebook-cell:/c%3A/Users/Daniel/Desktop/UNI%202/BI/Proyecto%201/ISIS3301-Proyecto1-Etapa1/roberta_vader_sentiment_analisys.ipynb#X51sZmlsZQ%3D%3D?line=1'>2</a>\u001b[0m output \u001b[39m=\u001b[39m model(encoded_text[\u001b[39m'\u001b[39;49m\u001b[39minput_ids\u001b[39;49m\u001b[39m'\u001b[39;49m],encoded_text[\u001b[39m'\u001b[39;49m\u001b[39mattention_mask\u001b[39;49m\u001b[39m'\u001b[39;49m])\n\u001b[0;32m      <a href='vscode-notebook-cell:/c%3A/Users/Daniel/Desktop/UNI%202/BI/Proyecto%201/ISIS3301-Proyecto1-Etapa1/roberta_vader_sentiment_analisys.ipynb#X51sZmlsZQ%3D%3D?line=3'>4</a>\u001b[0m scores \u001b[39m=\u001b[39m output[\u001b[39m0\u001b[39m][\u001b[39m0\u001b[39m]\u001b[39m.\u001b[39mdetach()\u001b[39m.\u001b[39mnumpy()\n\u001b[0;32m      <a href='vscode-notebook-cell:/c%3A/Users/Daniel/Desktop/UNI%202/BI/Proyecto%201/ISIS3301-Proyecto1-Etapa1/roberta_vader_sentiment_analisys.ipynb#X51sZmlsZQ%3D%3D?line=4'>5</a>\u001b[0m scores \u001b[39m=\u001b[39m softmax(scores)\n",
      "File \u001b[1;32mc:\\Python39\\lib\\site-packages\\torch\\nn\\modules\\module.py:1130\u001b[0m, in \u001b[0;36mModule._call_impl\u001b[1;34m(self, *input, **kwargs)\u001b[0m\n\u001b[0;32m   1126\u001b[0m \u001b[39m# If we don't have any hooks, we want to skip the rest of the logic in\u001b[39;00m\n\u001b[0;32m   1127\u001b[0m \u001b[39m# this function, and just call forward.\u001b[39;00m\n\u001b[0;32m   1128\u001b[0m \u001b[39mif\u001b[39;00m \u001b[39mnot\u001b[39;00m (\u001b[39mself\u001b[39m\u001b[39m.\u001b[39m_backward_hooks \u001b[39mor\u001b[39;00m \u001b[39mself\u001b[39m\u001b[39m.\u001b[39m_forward_hooks \u001b[39mor\u001b[39;00m \u001b[39mself\u001b[39m\u001b[39m.\u001b[39m_forward_pre_hooks \u001b[39mor\u001b[39;00m _global_backward_hooks\n\u001b[0;32m   1129\u001b[0m         \u001b[39mor\u001b[39;00m _global_forward_hooks \u001b[39mor\u001b[39;00m _global_forward_pre_hooks):\n\u001b[1;32m-> 1130\u001b[0m     \u001b[39mreturn\u001b[39;00m forward_call(\u001b[39m*\u001b[39m\u001b[39minput\u001b[39m, \u001b[39m*\u001b[39m\u001b[39m*\u001b[39mkwargs)\n\u001b[0;32m   1131\u001b[0m \u001b[39m# Do not call functions when jit is used\u001b[39;00m\n\u001b[0;32m   1132\u001b[0m full_backward_hooks, non_full_backward_hooks \u001b[39m=\u001b[39m [], []\n",
      "File \u001b[1;32mc:\\Python39\\lib\\site-packages\\transformers\\models\\roberta\\modeling_roberta.py:1202\u001b[0m, in \u001b[0;36mRobertaForSequenceClassification.forward\u001b[1;34m(self, input_ids, attention_mask, token_type_ids, position_ids, head_mask, inputs_embeds, labels, output_attentions, output_hidden_states, return_dict)\u001b[0m\n\u001b[0;32m   1194\u001b[0m \u001b[39mr\u001b[39m\u001b[39m\"\"\"\u001b[39;00m\n\u001b[0;32m   1195\u001b[0m \u001b[39mlabels (`torch.LongTensor` of shape `(batch_size,)`, *optional*):\u001b[39;00m\n\u001b[0;32m   1196\u001b[0m \u001b[39m    Labels for computing the sequence classification/regression loss. Indices should be in `[0, ...,\u001b[39;00m\n\u001b[0;32m   1197\u001b[0m \u001b[39m    config.num_labels - 1]`. If `config.num_labels == 1` a regression loss is computed (Mean-Square loss), If\u001b[39;00m\n\u001b[0;32m   1198\u001b[0m \u001b[39m    `config.num_labels > 1` a classification loss is computed (Cross-Entropy).\u001b[39;00m\n\u001b[0;32m   1199\u001b[0m \u001b[39m\"\"\"\u001b[39;00m\n\u001b[0;32m   1200\u001b[0m return_dict \u001b[39m=\u001b[39m return_dict \u001b[39mif\u001b[39;00m return_dict \u001b[39mis\u001b[39;00m \u001b[39mnot\u001b[39;00m \u001b[39mNone\u001b[39;00m \u001b[39melse\u001b[39;00m \u001b[39mself\u001b[39m\u001b[39m.\u001b[39mconfig\u001b[39m.\u001b[39muse_return_dict\n\u001b[1;32m-> 1202\u001b[0m outputs \u001b[39m=\u001b[39m \u001b[39mself\u001b[39;49m\u001b[39m.\u001b[39;49mroberta(\n\u001b[0;32m   1203\u001b[0m     input_ids,\n\u001b[0;32m   1204\u001b[0m     attention_mask\u001b[39m=\u001b[39;49mattention_mask,\n\u001b[0;32m   1205\u001b[0m     token_type_ids\u001b[39m=\u001b[39;49mtoken_type_ids,\n\u001b[0;32m   1206\u001b[0m     position_ids\u001b[39m=\u001b[39;49mposition_ids,\n\u001b[0;32m   1207\u001b[0m     head_mask\u001b[39m=\u001b[39;49mhead_mask,\n\u001b[0;32m   1208\u001b[0m     inputs_embeds\u001b[39m=\u001b[39;49minputs_embeds,\n\u001b[0;32m   1209\u001b[0m     output_attentions\u001b[39m=\u001b[39;49moutput_attentions,\n\u001b[0;32m   1210\u001b[0m     output_hidden_states\u001b[39m=\u001b[39;49moutput_hidden_states,\n\u001b[0;32m   1211\u001b[0m     return_dict\u001b[39m=\u001b[39;49mreturn_dict,\n\u001b[0;32m   1212\u001b[0m )\n\u001b[0;32m   1213\u001b[0m sequence_output \u001b[39m=\u001b[39m outputs[\u001b[39m0\u001b[39m]\n\u001b[0;32m   1214\u001b[0m logits \u001b[39m=\u001b[39m \u001b[39mself\u001b[39m\u001b[39m.\u001b[39mclassifier(sequence_output)\n",
      "File \u001b[1;32mc:\\Python39\\lib\\site-packages\\torch\\nn\\modules\\module.py:1130\u001b[0m, in \u001b[0;36mModule._call_impl\u001b[1;34m(self, *input, **kwargs)\u001b[0m\n\u001b[0;32m   1126\u001b[0m \u001b[39m# If we don't have any hooks, we want to skip the rest of the logic in\u001b[39;00m\n\u001b[0;32m   1127\u001b[0m \u001b[39m# this function, and just call forward.\u001b[39;00m\n\u001b[0;32m   1128\u001b[0m \u001b[39mif\u001b[39;00m \u001b[39mnot\u001b[39;00m (\u001b[39mself\u001b[39m\u001b[39m.\u001b[39m_backward_hooks \u001b[39mor\u001b[39;00m \u001b[39mself\u001b[39m\u001b[39m.\u001b[39m_forward_hooks \u001b[39mor\u001b[39;00m \u001b[39mself\u001b[39m\u001b[39m.\u001b[39m_forward_pre_hooks \u001b[39mor\u001b[39;00m _global_backward_hooks\n\u001b[0;32m   1129\u001b[0m         \u001b[39mor\u001b[39;00m _global_forward_hooks \u001b[39mor\u001b[39;00m _global_forward_pre_hooks):\n\u001b[1;32m-> 1130\u001b[0m     \u001b[39mreturn\u001b[39;00m forward_call(\u001b[39m*\u001b[39m\u001b[39minput\u001b[39m, \u001b[39m*\u001b[39m\u001b[39m*\u001b[39mkwargs)\n\u001b[0;32m   1131\u001b[0m \u001b[39m# Do not call functions when jit is used\u001b[39;00m\n\u001b[0;32m   1132\u001b[0m full_backward_hooks, non_full_backward_hooks \u001b[39m=\u001b[39m [], []\n",
      "File \u001b[1;32mc:\\Python39\\lib\\site-packages\\transformers\\models\\roberta\\modeling_roberta.py:810\u001b[0m, in \u001b[0;36mRobertaModel.forward\u001b[1;34m(self, input_ids, attention_mask, token_type_ids, position_ids, head_mask, inputs_embeds, encoder_hidden_states, encoder_attention_mask, past_key_values, use_cache, output_attentions, output_hidden_states, return_dict)\u001b[0m\n\u001b[0;32m    808\u001b[0m \u001b[39mif\u001b[39;00m \u001b[39mhasattr\u001b[39m(\u001b[39mself\u001b[39m\u001b[39m.\u001b[39membeddings, \u001b[39m\"\u001b[39m\u001b[39mtoken_type_ids\u001b[39m\u001b[39m\"\u001b[39m):\n\u001b[0;32m    809\u001b[0m     buffered_token_type_ids \u001b[39m=\u001b[39m \u001b[39mself\u001b[39m\u001b[39m.\u001b[39membeddings\u001b[39m.\u001b[39mtoken_type_ids[:, :seq_length]\n\u001b[1;32m--> 810\u001b[0m     buffered_token_type_ids_expanded \u001b[39m=\u001b[39m buffered_token_type_ids\u001b[39m.\u001b[39;49mexpand(batch_size, seq_length)\n\u001b[0;32m    811\u001b[0m     token_type_ids \u001b[39m=\u001b[39m buffered_token_type_ids_expanded\n\u001b[0;32m    812\u001b[0m \u001b[39melse\u001b[39;00m:\n",
      "\u001b[1;31mRuntimeError\u001b[0m: The expanded size of the tensor (671) must match the existing size (514) at non-singleton dimension 1.  Target sizes: [1, 671].  Tensor sizes: [1, 514]"
     ]
    }
   ],
   "source": [
    "encoded_text = tokenizer(eg, return_tensors='pt')\n",
    "output = model(encoded_text['input_ids'],encoded_text['attention_mask'])\n",
    "\n",
    "scores = output[0][0].detach().numpy()\n",
    "scores = softmax(scores)\n",
    "scores_dict = {\n",
    "    'roberta_neg': scores[0],\n",
    "    \n",
    "    'roberta_neu': scores[1],\n",
    "    \n",
    "    'roberta_pos': scores[2],\n",
    "}\n",
    "\n",
    "print(scores_dict)\n"
   ]
  },
  {
   "cell_type": "code",
   "execution_count": 40,
   "metadata": {},
   "outputs": [
    {
     "name": "stdout",
     "output_type": "stream",
     "text": [
      "{'roberta_neg': 0.001641685, 'roberta_neu': 0.015003683, 'roberta_pos': 0.9833547}\n"
     ]
    }
   ],
   "source": [
    "test= tokenizer(\"Great stuff my dude :)\", return_tensors='pt')\n",
    "output = model(test['input_ids'],test['attention_mask'])\n",
    "scores = output[0][0].detach().numpy()\n",
    "scores = softmax(scores)\n",
    "scores_dict = {\n",
    "    'roberta_neg': scores[0],\n",
    "    \n",
    "    'roberta_neu': scores[1],\n",
    "    \n",
    "    'roberta_pos': scores[2],\n",
    "}\n",
    "\n",
    "print(scores_dict)"
   ]
  },
  {
   "cell_type": "code",
   "execution_count": 41,
   "metadata": {},
   "outputs": [
    {
     "name": "stdout",
     "output_type": "stream",
     "text": [
      "671\n",
      "671\n"
     ]
    }
   ],
   "source": [
    "print(len(encoded_text['input_ids'][0]))\n",
    "print(len(encoded_text['attention_mask'][0]))"
   ]
  },
  {
   "cell_type": "code",
   "execution_count": 42,
   "metadata": {},
   "outputs": [
    {
     "data": {
      "text/plain": [
       "7"
      ]
     },
     "execution_count": 42,
     "metadata": {},
     "output_type": "execute_result"
    }
   ],
   "source": [
    "len(test['input_ids'][0])"
   ]
  },
  {
   "cell_type": "code",
   "execution_count": 43,
   "metadata": {},
   "outputs": [
    {
     "data": {
      "text/plain": [
       "{'input_ids': tensor([[    0, 19065,  2682,   127, 22633, 44660,     2]]), 'attention_mask': tensor([[1, 1, 1, 1, 1, 1, 1]])}"
      ]
     },
     "execution_count": 43,
     "metadata": {},
     "output_type": "execute_result"
    }
   ],
   "source": [
    "test"
   ]
  },
  {
   "cell_type": "markdown",
   "metadata": {},
   "source": [
    "# Limitaciones de **RoBERTa**\n",
    "    (o cualquier modelo de transformadores en general)\n",
    "\n",
    "Como podemos apreciar en el error de arriba, el modelo RoBERTa y en general los modelos basados en transformadores solo pueden procesar *textos cortos* (como los tweets), en especifico, textos que no generen mas de 512 tokens al realizar el preprocesamiento para estructurar el texto, y mas tecnicamente, textos que junto con los *tags* puestos por el tokenizer, \\[CLS\\] y \\[SEP\\], no generen mas de 514 tokens.\n",
    "\n",
    "Luego es necesario considerar una manera de procesar nuestro ejemplo, y en particular, los textos a procesar dentro de los datos que sean medianamente largos o realmente largos. \n",
    "\n",
    "Nuestra propuesta es:\n",
    "\n",
    "1. **dividir** toda la tokenizacion en segmentos de 512 tokens, esto es $\\frac{||text||}{512}$.\n",
    "2. Modificar los tokens para que sean validos , es decir, añadir *tags* manualmente al tensor que retorna la tokenizacion \n",
    "3. Procesar los tensores en RoBERTa.\n",
    "4. Realizar un promedio podenrado de los puntajes de cada uno de los tensores. \n",
    "5. Se retorna ese promedio y se almacena. \n",
    "\n",
    "\n",
    "### ¿Por qué no en pedazos de 514? \n",
    "Porque habra que añadir manualmente los tags del modelo despues de dividir la tokenizacion en segmentos de 512 tokens.\n"
   ]
  },
  {
   "cell_type": "code",
   "execution_count": 59,
   "metadata": {},
   "outputs": [],
   "source": [
    "def sentiment_roberta(tokens):\n",
    "    # get output logits from the model\n",
    "    output = model(**tokens)\n",
    "    # convert to probabilities\n",
    "    probs = torch.nn.functional.softmax(output[0], dim=-1)\n",
    "    probs = probs.detach().numpy()\n",
    "    N =len(probs)\n",
    "\n",
    "    neg,neu,pos=0,0,0\n",
    "\n",
    "    for tensor in probs:\n",
    "        neg +=tensor[0]\n",
    "        neu +=tensor[1]\n",
    "        pos +=tensor[2]\n",
    "\n",
    "    probs_dict = {\n",
    "            'roberta_neg': neg/N,\n",
    "            'roberta_neu': neu/N,\n",
    "            'roberta_pos': pos/N,\n",
    "        }    \n",
    "    return probs_dict"
   ]
  },
  {
   "cell_type": "code",
   "execution_count": 45,
   "metadata": {},
   "outputs": [
    {
     "name": "stdout",
     "output_type": "stream",
     "text": [
      "512\n",
      "512\n"
     ]
    },
    {
     "data": {
      "text/plain": [
       "tensor([1.0100e+02, 6.6000e+01, 9.0000e+00, 1.2700e+02, 9.2900e+02, 4.0000e+00,\n",
       "        2.5200e+02, 1.7470e+03, 3.1400e+02, 7.1000e+01, 3.8000e+01, 5.5400e+02,\n",
       "        9.7010e+03, 6.0000e+00, 1.9000e+01, 3.7950e+03, 6.3460e+03, 6.9000e+01,\n",
       "        2.4730e+03, 6.0000e+00, 8.0000e+00, 3.8000e+01, 1.7400e+02, 1.0600e+02,\n",
       "        1.4000e+01, 3.8000e+01, 3.9900e+02, 7.5000e+01, 2.3126e+04, 1.9200e+02,\n",
       "        1.4300e+02, 9.0000e+00, 1.0600e+02, 4.5200e+02, 6.0000e+00, 5.3000e+01,\n",
       "        1.2700e+02, 9.8500e+02, 1.6820e+03, 6.6700e+02, 7.0000e+00, 4.6500e+02,\n",
       "        1.0000e+01, 1.2190e+03, 7.0000e+00, 1.0670e+03, 7.0000e+00, 1.6200e+02,\n",
       "        4.0000e+00, 5.0118e+04, 5.0118e+04, 7.6080e+03, 5.2400e+02, 3.8000e+01,\n",
       "        2.9301e+04, 1.4370e+03, 7.0000e+00, 1.0900e+02, 4.2000e+01, 1.1600e+02,\n",
       "        1.5340e+03, 4.2000e+01, 2.3400e+03, 1.1600e+02, 3.8000e+01, 2.1800e+02,\n",
       "        7.5000e+01, 2.3126e+04, 1.0670e+03, 2.3000e+01, 7.0000e+01, 5.9000e+01,\n",
       "        4.2000e+01, 3.2800e+02, 3.8000e+01, 6.1900e+02, 2.0085e+04, 9.0000e+00,\n",
       "        2.1850e+03, 8.0000e+00, 3.2759e+04, 1.9000e+01, 6.9000e+01, 5.7590e+03,\n",
       "        4.0000e+00, 1.8320e+03, 3.8000e+01, 3.3000e+01, 7.0000e+00, 1.1370e+03,\n",
       "        6.9000e+01, 5.9000e+01, 2.4000e+01, 1.1600e+02, 2.5200e+02, 2.1400e+02,\n",
       "        4.8040e+03, 1.4000e+01, 3.8000e+01, 5.8100e+02, 1.1370e+03, 1.0600e+02,\n",
       "        3.8590e+03, 4.0000e+00, 1.4370e+03, 1.9681e+04, 3.8000e+01, 4.3700e+02,\n",
       "        1.6400e+02, 1.5000e+01, 1.0000e+01, 1.8050e+03, 1.9000e+01, 1.2700e+02,\n",
       "        1.1204e+04, 4.0000e+00, 1.4370e+03, 3.8000e+01, 2.1800e+02, 7.5000e+01,\n",
       "        2.3126e+04, 1.0670e+03, 7.0000e+00, 1.2680e+03, 5.9000e+01, 4.2000e+01,\n",
       "        8.5600e+02, 1.7600e+02, 5.0600e+02, 5.0000e+01, 1.0280e+03, 4.8600e+02,\n",
       "        4.0000e+00, 3.8000e+01, 2.1600e+02, 3.8000e+01, 4.3700e+02, 8.1000e+01,\n",
       "        2.4100e+02, 2.4906e+04, 6.0000e+00, 1.4370e+03, 5.3000e+01, 3.8000e+01,\n",
       "        1.6670e+04, 9.8000e+01, 2.0300e+02, 4.5200e+02, 1.4200e+02, 9.0000e+00,\n",
       "        6.9000e+01, 4.0000e+00, 3.8000e+01, 6.4000e+01, 7.5000e+01, 4.3200e+02,\n",
       "        1.9000e+01, 4.2000e+01, 3.7568e+04, 5.9880e+03, 4.0000e+00, 2.0000e+00,\n",
       "        1.0200e+02, 0.0000e+00, 0.0000e+00, 0.0000e+00, 0.0000e+00, 0.0000e+00,\n",
       "        0.0000e+00, 0.0000e+00, 0.0000e+00, 0.0000e+00, 0.0000e+00, 0.0000e+00,\n",
       "        0.0000e+00, 0.0000e+00, 0.0000e+00, 0.0000e+00, 0.0000e+00, 0.0000e+00,\n",
       "        0.0000e+00, 0.0000e+00, 0.0000e+00, 0.0000e+00, 0.0000e+00, 0.0000e+00,\n",
       "        0.0000e+00, 0.0000e+00, 0.0000e+00, 0.0000e+00, 0.0000e+00, 0.0000e+00,\n",
       "        0.0000e+00, 0.0000e+00, 0.0000e+00, 0.0000e+00, 0.0000e+00, 0.0000e+00,\n",
       "        0.0000e+00, 0.0000e+00, 0.0000e+00, 0.0000e+00, 0.0000e+00, 0.0000e+00,\n",
       "        0.0000e+00, 0.0000e+00, 0.0000e+00, 0.0000e+00, 0.0000e+00, 0.0000e+00,\n",
       "        0.0000e+00, 0.0000e+00, 0.0000e+00, 0.0000e+00, 0.0000e+00, 0.0000e+00,\n",
       "        0.0000e+00, 0.0000e+00, 0.0000e+00, 0.0000e+00, 0.0000e+00, 0.0000e+00,\n",
       "        0.0000e+00, 0.0000e+00, 0.0000e+00, 0.0000e+00, 0.0000e+00, 0.0000e+00,\n",
       "        0.0000e+00, 0.0000e+00, 0.0000e+00, 0.0000e+00, 0.0000e+00, 0.0000e+00,\n",
       "        0.0000e+00, 0.0000e+00, 0.0000e+00, 0.0000e+00, 0.0000e+00, 0.0000e+00,\n",
       "        0.0000e+00, 0.0000e+00, 0.0000e+00, 0.0000e+00, 0.0000e+00, 0.0000e+00,\n",
       "        0.0000e+00, 0.0000e+00, 0.0000e+00, 0.0000e+00, 0.0000e+00, 0.0000e+00,\n",
       "        0.0000e+00, 0.0000e+00, 0.0000e+00, 0.0000e+00, 0.0000e+00, 0.0000e+00,\n",
       "        0.0000e+00, 0.0000e+00, 0.0000e+00, 0.0000e+00, 0.0000e+00, 0.0000e+00,\n",
       "        0.0000e+00, 0.0000e+00, 0.0000e+00, 0.0000e+00, 0.0000e+00, 0.0000e+00,\n",
       "        0.0000e+00, 0.0000e+00, 0.0000e+00, 0.0000e+00, 0.0000e+00, 0.0000e+00,\n",
       "        0.0000e+00, 0.0000e+00, 0.0000e+00, 0.0000e+00, 0.0000e+00, 0.0000e+00,\n",
       "        0.0000e+00, 0.0000e+00, 0.0000e+00, 0.0000e+00, 0.0000e+00, 0.0000e+00,\n",
       "        0.0000e+00, 0.0000e+00, 0.0000e+00, 0.0000e+00, 0.0000e+00, 0.0000e+00,\n",
       "        0.0000e+00, 0.0000e+00, 0.0000e+00, 0.0000e+00, 0.0000e+00, 0.0000e+00,\n",
       "        0.0000e+00, 0.0000e+00, 0.0000e+00, 0.0000e+00, 0.0000e+00, 0.0000e+00,\n",
       "        0.0000e+00, 0.0000e+00, 0.0000e+00, 0.0000e+00, 0.0000e+00, 0.0000e+00,\n",
       "        0.0000e+00, 0.0000e+00, 0.0000e+00, 0.0000e+00, 0.0000e+00, 0.0000e+00,\n",
       "        0.0000e+00, 0.0000e+00, 0.0000e+00, 0.0000e+00, 0.0000e+00, 0.0000e+00,\n",
       "        0.0000e+00, 0.0000e+00, 0.0000e+00, 0.0000e+00, 0.0000e+00, 0.0000e+00,\n",
       "        0.0000e+00, 0.0000e+00, 0.0000e+00, 0.0000e+00, 0.0000e+00, 0.0000e+00,\n",
       "        0.0000e+00, 0.0000e+00, 0.0000e+00, 0.0000e+00, 0.0000e+00, 0.0000e+00,\n",
       "        0.0000e+00, 0.0000e+00, 0.0000e+00, 0.0000e+00, 0.0000e+00, 0.0000e+00,\n",
       "        0.0000e+00, 0.0000e+00, 0.0000e+00, 0.0000e+00, 0.0000e+00, 0.0000e+00,\n",
       "        0.0000e+00, 0.0000e+00, 0.0000e+00, 0.0000e+00, 0.0000e+00, 0.0000e+00,\n",
       "        0.0000e+00, 0.0000e+00, 0.0000e+00, 0.0000e+00, 0.0000e+00, 0.0000e+00,\n",
       "        0.0000e+00, 0.0000e+00, 0.0000e+00, 0.0000e+00, 0.0000e+00, 0.0000e+00,\n",
       "        0.0000e+00, 0.0000e+00, 0.0000e+00, 0.0000e+00, 0.0000e+00, 0.0000e+00,\n",
       "        0.0000e+00, 0.0000e+00, 0.0000e+00, 0.0000e+00, 0.0000e+00, 0.0000e+00,\n",
       "        0.0000e+00, 0.0000e+00, 0.0000e+00, 0.0000e+00, 0.0000e+00, 0.0000e+00,\n",
       "        0.0000e+00, 0.0000e+00, 0.0000e+00, 0.0000e+00, 0.0000e+00, 0.0000e+00,\n",
       "        0.0000e+00, 0.0000e+00, 0.0000e+00, 0.0000e+00, 0.0000e+00, 0.0000e+00,\n",
       "        0.0000e+00, 0.0000e+00, 0.0000e+00, 0.0000e+00, 0.0000e+00, 0.0000e+00,\n",
       "        0.0000e+00, 0.0000e+00, 0.0000e+00, 0.0000e+00, 0.0000e+00, 0.0000e+00,\n",
       "        0.0000e+00, 0.0000e+00, 0.0000e+00, 0.0000e+00, 0.0000e+00, 0.0000e+00,\n",
       "        0.0000e+00, 0.0000e+00, 0.0000e+00, 0.0000e+00, 0.0000e+00, 0.0000e+00,\n",
       "        0.0000e+00, 0.0000e+00, 0.0000e+00, 0.0000e+00, 0.0000e+00, 0.0000e+00,\n",
       "        0.0000e+00, 0.0000e+00, 0.0000e+00, 0.0000e+00, 0.0000e+00, 0.0000e+00,\n",
       "        0.0000e+00, 0.0000e+00, 0.0000e+00, 0.0000e+00, 0.0000e+00, 0.0000e+00,\n",
       "        0.0000e+00, 0.0000e+00, 0.0000e+00, 0.0000e+00, 0.0000e+00, 0.0000e+00,\n",
       "        0.0000e+00, 0.0000e+00, 0.0000e+00, 0.0000e+00, 0.0000e+00, 0.0000e+00,\n",
       "        0.0000e+00, 0.0000e+00, 0.0000e+00, 0.0000e+00, 0.0000e+00, 0.0000e+00,\n",
       "        0.0000e+00, 0.0000e+00, 0.0000e+00, 0.0000e+00, 0.0000e+00, 0.0000e+00,\n",
       "        0.0000e+00, 0.0000e+00, 0.0000e+00, 0.0000e+00, 0.0000e+00, 0.0000e+00,\n",
       "        0.0000e+00, 0.0000e+00, 0.0000e+00, 0.0000e+00, 0.0000e+00, 0.0000e+00,\n",
       "        0.0000e+00, 0.0000e+00, 0.0000e+00, 0.0000e+00, 0.0000e+00, 0.0000e+00,\n",
       "        0.0000e+00, 0.0000e+00, 0.0000e+00, 0.0000e+00, 0.0000e+00, 0.0000e+00,\n",
       "        0.0000e+00, 0.0000e+00, 0.0000e+00, 0.0000e+00, 0.0000e+00, 0.0000e+00,\n",
       "        0.0000e+00, 0.0000e+00, 0.0000e+00, 0.0000e+00, 0.0000e+00, 0.0000e+00,\n",
       "        0.0000e+00, 0.0000e+00, 0.0000e+00, 0.0000e+00, 0.0000e+00, 0.0000e+00,\n",
       "        0.0000e+00, 0.0000e+00])"
      ]
     },
     "execution_count": 45,
     "metadata": {},
     "output_type": "execute_result"
    }
   ],
   "source": [
    "\n",
    "chunksize = 512\n",
    "\n",
    "input_id_chunks = list(encoded_text['input_ids'][0].split(int(chunksize - 2)))\n",
    "mask_chunks = list(encoded_text['attention_mask'][0].split(int(chunksize - 2)))\n",
    "\n",
    "for i in range(len(input_id_chunks)):\n",
    "    # añadir CLS y SEP a cada chunck de tokens\n",
    "    input_id_chunks[i] = torch.cat([\n",
    "        torch.tensor([101]), input_id_chunks[i], torch.tensor([102])\n",
    "    ])\n",
    "    # añádir los attention tokens el padding de los tags\n",
    "    mask_chunks[i] = torch.cat([\n",
    "        torch.tensor([1]), mask_chunks[i], torch.tensor([1])\n",
    "    ])\n",
    "    #calcular el tamaño del padding \n",
    "    pad_len = chunksize - input_id_chunks[i].shape[0]\n",
    "    # revisar si la longitud del padding en el tensor es la requerida\n",
    "    if pad_len > 0:\n",
    "        # en caso de que no, se añade el padding necesario\n",
    "        input_id_chunks[i] = torch.cat([\n",
    "            input_id_chunks[i], torch.Tensor([0] * pad_len)\n",
    "        ])\n",
    "        mask_chunks[i] = torch.cat([\n",
    "            mask_chunks[i], torch.Tensor([0] * pad_len)\n",
    "        ])\n",
    "\n",
    "for chunk in input_id_chunks:\n",
    "    print(len(chunk))\n",
    "# imprimir el chunk final para ver si quedo bien configurado\n",
    "chunk"
   ]
  },
  {
   "cell_type": "code",
   "execution_count": 46,
   "metadata": {},
   "outputs": [
    {
     "data": {
      "text/plain": [
       "{'input_ids': tensor([[ 101,    0, 2387,  ...,  236,  106,  102],\n",
       "         [ 101,   66,    9,  ...,    0,    0,    0]]),\n",
       " 'attention_mask': tensor([[1, 1, 1,  ..., 1, 1, 1],\n",
       "         [1, 1, 1,  ..., 0, 0, 0]], dtype=torch.int32)}"
      ]
     },
     "execution_count": 46,
     "metadata": {},
     "output_type": "execute_result"
    }
   ],
   "source": [
    "input_ids = torch.stack(input_id_chunks)\n",
    "attention_mask = torch.stack(mask_chunks)\n",
    "\n",
    "input_dict = {\n",
    "    'input_ids': input_ids.long(),\n",
    "    'attention_mask': attention_mask.int()\n",
    "}\n",
    "input_dict"
   ]
  },
  {
   "cell_type": "code",
   "execution_count": 48,
   "metadata": {},
   "outputs": [
    {
     "name": "stdout",
     "output_type": "stream",
     "text": [
      "[[0.84268534 0.1395222  0.01779247]\n",
      " [0.97722363 0.02047614 0.00230022]]\n"
     ]
    },
    {
     "data": {
      "text/plain": [
       "{'roberta_neg': 0.9099544882774353,\n",
       " 'roberta_neu': 0.07999916840344667,\n",
       " 'roberta_pos': 0.010046346462331712}"
      ]
     },
     "execution_count": 48,
     "metadata": {},
     "output_type": "execute_result"
    }
   ],
   "source": [
    "sentiment_roberta(input_dict)"
   ]
  },
  {
   "cell_type": "code",
   "execution_count": 50,
   "metadata": {},
   "outputs": [],
   "source": [
    "def chunkify_tokens(ptokens):  \n",
    "    \n",
    "    chunksize = 512\n",
    "\n",
    "    input_id_chunks = list(ptokens['input_ids'][0].split(int(chunksize - 2)))\n",
    "    mask_chunks = list(ptokens['attention_mask'][0].split(int(chunksize - 2)))\n",
    "\n",
    "    for i in range(len(input_id_chunks)):\n",
    "        # añadir CLS y SEP a cada chunck de tokens\n",
    "        input_id_chunks[i] = torch.cat([\n",
    "            torch.tensor([101]), input_id_chunks[i], torch.tensor([102])\n",
    "        ])\n",
    "        # añádir los attention tokens el padding de los tags\n",
    "        mask_chunks[i] = torch.cat([\n",
    "            torch.tensor([1]), mask_chunks[i], torch.tensor([1])\n",
    "        ])\n",
    "        #calcular el tamaño del padding \n",
    "        pad_len = chunksize - input_id_chunks[i].shape[0]\n",
    "        # revisar si la longitud del padding en el tensor es la requerida\n",
    "        if pad_len > 0:\n",
    "            # en caso de que no, se añade el padding necesario\n",
    "            input_id_chunks[i] = torch.cat([\n",
    "                input_id_chunks[i], torch.Tensor([0] * pad_len)\n",
    "            ])\n",
    "            mask_chunks[i] = torch.cat([\n",
    "                mask_chunks[i], torch.Tensor([0] * pad_len)\n",
    "            ])\n",
    "        input_ids = torch.stack(input_id_chunks)\n",
    "        attention_mask = torch.stack(mask_chunks)\n",
    "\n",
    "        input_dict = {\n",
    "            'input_ids': input_ids.long(),\n",
    "            'attention_mask': attention_mask.int()\n",
    "            }\n",
    "        return input_dict  \n"
   ]
  },
  {
   "cell_type": "code",
   "execution_count": 69,
   "metadata": {},
   "outputs": [],
   "source": [
    "def polarity_scores_roberta(text):\n",
    "    tokens = tokenizer(text, return_tensors='pt')\n",
    "    if len(tokens[0]) > 512:\n",
    "        input_dict = chunkify_tokens(tokens)\n",
    "        r_dict = sentiment_roberta(input_dict)\n",
    "    else:\n",
    "        r_dict = sentiment_roberta(tokens)\n",
    "    return r_dict"
   ]
  },
  {
   "cell_type": "code",
   "execution_count": 79,
   "metadata": {},
   "outputs": [
    {
     "data": {
      "application/vnd.jupyter.widget-view+json": {
       "model_id": "60f72edb3a294af187cca6c2fa2c5b73",
       "version_major": 2,
       "version_minor": 0
      },
      "text/plain": [
       "  0%|          | 0/195683 [00:00<?, ?it/s]"
      ]
     },
     "metadata": {},
     "output_type": "display_data"
    },
    {
     "name": "stdout",
     "output_type": "stream",
     "text": [
      "puteao en Runtime 1\n",
      "puteao en Runtime 2\n",
      "puteao en Runtime 3\n",
      "puteao en Runtime 4\n",
      "puteao en Runtime 5\n",
      "puteao en Runtime 6\n",
      "puteao en Runtime 7\n",
      "puteao en Runtime 8\n",
      "puteao en Runtime 9\n",
      "puteao en Runtime 10\n",
      "puteao en Runtime 11\n",
      "puteao en Runtime 12\n",
      "puteao en Runtime 13\n",
      "puteao en Runtime 14\n",
      "puteao en Runtime 15\n",
      "puteao en Runtime 16\n",
      "puteao en Runtime 17\n",
      "puteao en Runtime 18\n",
      "puteao en Runtime 19\n",
      "puteao en Runtime 20\n",
      "puteao en Runtime 21\n",
      "puteao en Runtime 22\n",
      "puteao en Runtime 23\n",
      "puteao en Runtime 24\n",
      "puteao en Runtime 25\n",
      "puteao en Runtime 26\n",
      "puteao en Runtime 27\n",
      "puteao en Runtime 28\n",
      "puteao en Runtime 29\n",
      "puteao en Runtime 30\n",
      "puteao en Runtime 31\n",
      "puteao en Runtime 32\n",
      "puteao en Runtime 33\n",
      "puteao en Runtime 34\n",
      "puteao en Runtime 35\n",
      "puteao en Runtime 36\n",
      "puteao en Runtime 37\n",
      "puteao en Runtime 38\n",
      "puteao en Runtime 39\n",
      "puteao en Runtime 40\n",
      "puteao en Runtime 41\n",
      "puteao en Runtime 42\n",
      "puteao en Runtime 43\n",
      "puteao en Runtime 44\n",
      "puteao en Runtime 45\n",
      "puteao en Runtime 46\n",
      "puteao en Runtime 47\n",
      "puteao en Runtime 48\n",
      "puteao en Runtime 49\n",
      "puteao en Runtime 50\n",
      "puteao en Runtime 51\n",
      "puteao en Runtime 52\n",
      "puteao en Runtime 53\n",
      "puteao en Runtime 54\n",
      "puteao en Runtime 55\n",
      "puteao en Runtime 56\n",
      "puteao en Runtime 57\n",
      "puteao en Runtime 58\n"
     ]
    }
   ],
   "source": [
    "res = {}\n",
    "puteaoRuntime = []\n",
    "for i, row in tqdm(df_clean.iterrows(), total=len(df_clean)):\n",
    "    try:\n",
    "        text = row['text']\n",
    "        myid = row['id']\n",
    "        vader_result = sia.polarity_scores(text)\n",
    "        vader_result_rename = {}\n",
    "        for key, value in vader_result.items():\n",
    "            vader_result_rename[f\"vader_{key}\"] = value\n",
    "        roberta_result = polarity_scores_roberta(text)\n",
    "        both = {**vader_result_rename, **roberta_result}\n",
    "        res[myid] = both\n",
    "    except RuntimeError:\n",
    "        puteaoRuntime.append(myid)\n",
    "        print(f'puteao en Runtime {len(puteaoRuntime)}')\n",
    "    except AttributeError:\n",
    "        puteao.append(myid)\n",
    "        print(f'puteao {len(puteao)}')\n",
    "\n"
   ]
  },
  {
   "cell_type": "code",
   "execution_count": 65,
   "metadata": {},
   "outputs": [],
   "source": [
    "err = df_clean['text'][122]"
   ]
  },
  {
   "cell_type": "code",
   "execution_count": 68,
   "metadata": {},
   "outputs": [
    {
     "name": "stdout",
     "output_type": "stream",
     "text": [
      "514\n",
      "{'input_ids': tensor([[    0,   506,  3306,     7,   465,  3099,  1375,   556,   118,  8109,\n",
      "            42,    16,    10,   828,     9,    10,   251, 25693,    98,  3392,\n",
      "            47,  1268,    54, 10200,     7,  1166,   149,    24,   939,   269,\n",
      "          5478,    24,  6992,   939,    33,  1341,    10,   367,   205,   383,\n",
      "            11,   127,   301,   217,   205,   964,     8,    10,  8520,   284,\n",
      "            53,   114,    47,  1394,   162,    99,  7416,  3127,   120,   162,\n",
      "            62,    11,     5,   662,    19,     5,    40,     7,   697,    89,\n",
      "            32,    80, 13176,  9240,  2855,  5274,  8592,    10,   756,    11,\n",
      "          2410,     8,     5,  1114,     9,  3064,    11,   657,    19,     5,\n",
      "          1816,     9,   127,  7416,    11,   239,   334,   939,  1276,   939,\n",
      "            21,   164,     7,   146,    23,   513,    65,     9,   167,    80,\n",
      "          7416,   283,  1528,    98,   939,  2208,    10,  2410,  3093,     8,\n",
      "           554,  6016,   127,   173,   804,    24,    21, 24022,  1800,    11,\n",
      "             5,   107,   187,   939,  8505,   939,  5030,  8329,    10,   410,\n",
      "           223,    10,    76,   227,   127,   308,  1377,     8, 18150,  1377,\n",
      "           172,     5, 23387, 14414,   478,     8,   127,  1425,  2198,   856,\n",
      "          6352,  1329,    66,   122,   939,  2220,   326,    57,  4547,   187,\n",
      "          1236,  4438,     8,   524,  1207,    19,   127,  1041,     7,   146,\n",
      "          3587,   972,   939,    21,   416,   562, 36239,  6796, 16969,   556,\n",
      "            15,    98,   410,  1425,   122,   939,   475,  8020,    99,     5,\n",
      "         17835,    40,   190,    28,   314,    71,    42,  1086, 23387, 14414,\n",
      "         18621,  4376,   939,   156,     5,   568,    10,   353,   536,     7,\n",
      "           386,  9889,    13,    10,  1675,   793,   633,    53,    24,  2653,\n",
      "           101,    24,   579, 18389,   162,    24,   579,    45,    14,   939,\n",
      "         28101,     5,  1315,   939,   475,  9889,    13,    24,   579,    95,\n",
      "            14,    42,  3366,    34,    57,     5,    65,   631,  1311,   162,\n",
      "          3508,     5,   631,   939,  5030,  1006,   722,    10,   186,    13,\n",
      "             8, 13414,   127,  7047,    88,     8,    24,   579,   543,     7,\n",
      "          4744, 43436,  1295,    24,     7,    10,   526,   695,   939,   189,\n",
      "            50,   189,    45,    33,    86,    50,  1007,    13,  5988,  6122,\n",
      "            15,    99,   183,   633,   939,  1212,  9574,     5,   657,   526,\n",
      "            34,    57,   190,   540,  1800,  4927,    19,   592,  6882,    16,\n",
      "           543,  4927,   150,  5100,    19,   592,  6882,    16,  4851,  4927,\n",
      "           150,  5100,    19,   592,  6882,   150,    67,   667,     7,  3922,\n",
      "            14,    47,   769,    45, 10625,  4375,   235,   122,    16,   190,\n",
      "          4851,    87,    14, 35088,     7,   224,   939,   202,  2220,   326,\n",
      "           303,    14,  3366,  1816,     8,  1153,   351,   326,    13,    10,\n",
      "           150,   939,   216,   127,  7416,    32,    10,   828, 40531,     8,\n",
      "           939,   619,  2181,    14,   519,    10,  8520,   284,     8,     5,\n",
      "         28146,     9,   301,   218,   326,   619,   101,   615,    53,     5,\n",
      "          2015,    16,   939,   619,   101,   939,   475,  6254, 13838,   235,\n",
      "           122,   939,   475,   667,     7,   517,   556, 35510,    10,    92,\n",
      "           301,    14,   189,    45,    33,  1169,     9,   167,   383,   939,\n",
      "           770,   959,    24,  1335,  2012,     7,   619,   101,     5,   301,\n",
      "           939,   460,  9741, 19841,    62,    11,     5,   662,     7,   213,\n",
      "             7,    10,   633,   939,   475,   784,  7480, 29530,    59,   129,\n",
      "             7,   283,   184, 35650,   198,   127,  3537,  1937,     8,   172,\n",
      "           213,     7,  3267,    98,   939,    64,   109,    24,    70,    81,\n",
      "           456,     5,   220,   183,   939,   240,    10,    92,  3099,    65,\n",
      "            14,   579,   888,    11,   127,   797,    53,   939,   475,   145,\n",
      "         28635,   159,    88,     5, 40902,    19,    42,   203,  3845,    87,\n",
      "           939,    64,  3679,     2]]), 'attention_mask': tensor([[1, 1, 1, 1, 1, 1, 1, 1, 1, 1, 1, 1, 1, 1, 1, 1, 1, 1, 1, 1, 1, 1, 1, 1,\n",
      "         1, 1, 1, 1, 1, 1, 1, 1, 1, 1, 1, 1, 1, 1, 1, 1, 1, 1, 1, 1, 1, 1, 1, 1,\n",
      "         1, 1, 1, 1, 1, 1, 1, 1, 1, 1, 1, 1, 1, 1, 1, 1, 1, 1, 1, 1, 1, 1, 1, 1,\n",
      "         1, 1, 1, 1, 1, 1, 1, 1, 1, 1, 1, 1, 1, 1, 1, 1, 1, 1, 1, 1, 1, 1, 1, 1,\n",
      "         1, 1, 1, 1, 1, 1, 1, 1, 1, 1, 1, 1, 1, 1, 1, 1, 1, 1, 1, 1, 1, 1, 1, 1,\n",
      "         1, 1, 1, 1, 1, 1, 1, 1, 1, 1, 1, 1, 1, 1, 1, 1, 1, 1, 1, 1, 1, 1, 1, 1,\n",
      "         1, 1, 1, 1, 1, 1, 1, 1, 1, 1, 1, 1, 1, 1, 1, 1, 1, 1, 1, 1, 1, 1, 1, 1,\n",
      "         1, 1, 1, 1, 1, 1, 1, 1, 1, 1, 1, 1, 1, 1, 1, 1, 1, 1, 1, 1, 1, 1, 1, 1,\n",
      "         1, 1, 1, 1, 1, 1, 1, 1, 1, 1, 1, 1, 1, 1, 1, 1, 1, 1, 1, 1, 1, 1, 1, 1,\n",
      "         1, 1, 1, 1, 1, 1, 1, 1, 1, 1, 1, 1, 1, 1, 1, 1, 1, 1, 1, 1, 1, 1, 1, 1,\n",
      "         1, 1, 1, 1, 1, 1, 1, 1, 1, 1, 1, 1, 1, 1, 1, 1, 1, 1, 1, 1, 1, 1, 1, 1,\n",
      "         1, 1, 1, 1, 1, 1, 1, 1, 1, 1, 1, 1, 1, 1, 1, 1, 1, 1, 1, 1, 1, 1, 1, 1,\n",
      "         1, 1, 1, 1, 1, 1, 1, 1, 1, 1, 1, 1, 1, 1, 1, 1, 1, 1, 1, 1, 1, 1, 1, 1,\n",
      "         1, 1, 1, 1, 1, 1, 1, 1, 1, 1, 1, 1, 1, 1, 1, 1, 1, 1, 1, 1, 1, 1, 1, 1,\n",
      "         1, 1, 1, 1, 1, 1, 1, 1, 1, 1, 1, 1, 1, 1, 1, 1, 1, 1, 1, 1, 1, 1, 1, 1,\n",
      "         1, 1, 1, 1, 1, 1, 1, 1, 1, 1, 1, 1, 1, 1, 1, 1, 1, 1, 1, 1, 1, 1, 1, 1,\n",
      "         1, 1, 1, 1, 1, 1, 1, 1, 1, 1, 1, 1, 1, 1, 1, 1, 1, 1, 1, 1, 1, 1, 1, 1,\n",
      "         1, 1, 1, 1, 1, 1, 1, 1, 1, 1, 1, 1, 1, 1, 1, 1, 1, 1, 1, 1, 1, 1, 1, 1,\n",
      "         1, 1, 1, 1, 1, 1, 1, 1, 1, 1, 1, 1, 1, 1, 1, 1, 1, 1, 1, 1, 1, 1, 1, 1,\n",
      "         1, 1, 1, 1, 1, 1, 1, 1, 1, 1, 1, 1, 1, 1, 1, 1, 1, 1, 1, 1, 1, 1, 1, 1,\n",
      "         1, 1, 1, 1, 1, 1, 1, 1, 1, 1, 1, 1, 1, 1, 1, 1, 1, 1, 1, 1, 1, 1, 1, 1,\n",
      "         1, 1, 1, 1, 1, 1, 1, 1, 1, 1]])}\n"
     ]
    }
   ],
   "source": [
    "tokens = tokenizer(err, return_tensors='pt')\n",
    "print(len(tokens[0]))\n",
    "print(tokens)"
   ]
  },
  {
   "cell_type": "code",
   "execution_count": null,
   "metadata": {},
   "outputs": [],
   "source": [
    "results_df = pd.DataFrame(res).T\n",
    "results_df = results_df.reset_index().rename(columns={'index': 'id'})\n",
    "results_df = results_df.merge(df, how='left')"
   ]
  },
  {
   "cell_type": "code",
   "execution_count": null,
   "metadata": {},
   "outputs": [
    {
     "data": {
      "text/html": [
       "<div>\n",
       "<style scoped>\n",
       "    .dataframe tbody tr th:only-of-type {\n",
       "        vertical-align: middle;\n",
       "    }\n",
       "\n",
       "    .dataframe tbody tr th {\n",
       "        vertical-align: top;\n",
       "    }\n",
       "\n",
       "    .dataframe thead th {\n",
       "        text-align: right;\n",
       "    }\n",
       "</style>\n",
       "<table border=\"1\" class=\"dataframe\">\n",
       "  <thead>\n",
       "    <tr style=\"text-align: right;\">\n",
       "      <th></th>\n",
       "      <th>id</th>\n",
       "      <th>text</th>\n",
       "      <th>class</th>\n",
       "    </tr>\n",
       "  </thead>\n",
       "  <tbody>\n",
       "    <tr>\n",
       "      <th>0</th>\n",
       "      <td>250417</td>\n",
       "      <td>hi fello gamers my friend made a discord whos ...</td>\n",
       "      <td>non-suicide</td>\n",
       "    </tr>\n",
       "    <tr>\n",
       "      <th>1</th>\n",
       "      <td>317614</td>\n",
       "      <td>hi fello guys and guyettes sooo my friends hav...</td>\n",
       "      <td>non-suicide</td>\n",
       "    </tr>\n",
       "    <tr>\n",
       "      <th>2</th>\n",
       "      <td>200785</td>\n",
       "      <td>hi fello homo sapiens and hetero sapiens sooo ...</td>\n",
       "      <td>non-suicide</td>\n",
       "    </tr>\n",
       "    <tr>\n",
       "      <th>3</th>\n",
       "      <td>54971</td>\n",
       "      <td>hi fello peeps and peepettes discord server an...</td>\n",
       "      <td>non-suicide</td>\n",
       "    </tr>\n",
       "    <tr>\n",
       "      <th>4</th>\n",
       "      <td>139519</td>\n",
       "      <td>hi fello peeps and peepettes hi anyone wanna h...</td>\n",
       "      <td>non-suicide</td>\n",
       "    </tr>\n",
       "  </tbody>\n",
       "</table>\n",
       "</div>"
      ],
      "text/plain": [
       "       id                                               text        class\n",
       "0  250417  hi fello gamers my friend made a discord whos ...  non-suicide\n",
       "1  317614  hi fello guys and guyettes sooo my friends hav...  non-suicide\n",
       "2  200785  hi fello homo sapiens and hetero sapiens sooo ...  non-suicide\n",
       "3   54971  hi fello peeps and peepettes discord server an...  non-suicide\n",
       "4  139519  hi fello peeps and peepettes hi anyone wanna h...  non-suicide"
      ]
     },
     "execution_count": 78,
     "metadata": {},
     "output_type": "execute_result"
    }
   ],
   "source": [
    "df_clean.head()"
   ]
  },
  {
   "cell_type": "code",
   "execution_count": null,
   "metadata": {},
   "outputs": [],
   "source": [
    "results_df.columns"
   ]
  },
  {
   "cell_type": "code",
   "execution_count": null,
   "metadata": {},
   "outputs": [],
   "source": [
    "sns.pairplot(data=results_df,\n",
    "             vars=['vader_neg', 'vader_neu', 'vader_pos',\n",
    "                  'roberta_neg', 'roberta_neu', 'roberta_pos'],\n",
    "            hue='class',\n",
    "            palette='tab10')\n",
    "plt.show()"
   ]
  },
  {
   "cell_type": "code",
   "execution_count": null,
   "metadata": {},
   "outputs": [],
   "source": []
  }
 ],
 "metadata": {
  "kernelspec": {
   "display_name": "Python 3.9.1 64-bit",
   "language": "python",
   "name": "python3"
  },
  "language_info": {
   "codemirror_mode": {
    "name": "ipython",
    "version": 3
   },
   "file_extension": ".py",
   "mimetype": "text/x-python",
   "name": "python",
   "nbconvert_exporter": "python",
   "pygments_lexer": "ipython3",
   "version": "3.9.1"
  },
  "orig_nbformat": 4,
  "vscode": {
   "interpreter": {
    "hash": "81794d4967e6c3204c66dcd87b604927b115b27c00565d3d43f05ba2f3a2cb0d"
   }
  }
 },
 "nbformat": 4,
 "nbformat_minor": 2
}
