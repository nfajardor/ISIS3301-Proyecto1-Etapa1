{
  "cells": [
    {
      "cell_type": "code",
      "execution_count": 1,
      "metadata": {
        "id": "mbaM4g5Q9DeO"
      },
      "outputs": [],
      "source": [
        "#from google.colab import drive\n",
        "#drive.mount('/content/drive')"
      ]
    },
    {
      "cell_type": "markdown",
      "metadata": {
        "id": "myxEFwpSV75T"
      },
      "source": [
        "# Procesamiento de Lenguaje Natural (NLP): Análisis (clasificación) de sentimientos"
      ]
    },
    {
      "cell_type": "code",
      "execution_count": 2,
      "metadata": {
        "colab": {
          "base_uri": "https://localhost:8080/"
        },
        "id": "nRU0t1gW9wCG",
        "outputId": "b32615b3-b484-485d-af67-fce4959440b7"
      },
      "outputs": [],
      "source": [
        "#%pip install git+https://github.com/erikavaris/tokenizer.git"
      ]
    },
    {
      "cell_type": "code",
      "execution_count": 3,
      "metadata": {
        "id": "aPt8MdWrV75U"
      },
      "outputs": [],
      "source": [
        "import string\n",
        "\n",
        "import numpy as np\n",
        "import pandas as pd\n",
        "\n",
        "import nltk\n",
        "from nltk.corpus import stopwords\n",
        "from nltk.tokenize import TweetTokenizer\n",
        "\n",
        "from sklearn.model_selection import train_test_split\n",
        "from sklearn.feature_extraction.text import CountVectorizer, TfidfVectorizer\n",
        "\n",
        "from sklearn.ensemble import RandomForestClassifier\n",
        "\n",
        "from sklearn.pipeline import Pipeline\n",
        "from sklearn.model_selection import GridSearchCV\n",
        "\n",
        "from sklearn.metrics import ConfusionMatrixDisplay, precision_score, recall_score, f1_score\n",
        "\n",
        "from tokenizer import tokenizer as tk\n"
      ]
    },
    {
      "cell_type": "code",
      "execution_count": 4,
      "metadata": {
        "id": "0cBd0zCFV75W"
      },
      "outputs": [],
      "source": [
        "pd.set_option('display.max_colwidth', None)"
      ]
    },
    {
      "cell_type": "code",
      "execution_count": 5,
      "metadata": {
        "colab": {
          "base_uri": "https://localhost:8080/"
        },
        "id": "YDjKHH0OV75W",
        "outputId": "0593e048-849d-40a8-86c6-640928bbd0fb"
      },
      "outputs": [
        {
          "name": "stderr",
          "output_type": "stream",
          "text": [
            "[nltk_data] Downloading package stopwords to\n",
            "[nltk_data]     /Users/Gabriel/nltk_data...\n",
            "[nltk_data]   Package stopwords is already up-to-date!\n"
          ]
        }
      ],
      "source": [
        "# Descargando las stopwords\n",
        "nltk.download('stopwords')\n",
        "stop_words = set(stopwords.words('english'))"
      ]
    },
    {
      "cell_type": "code",
      "execution_count": 6,
      "metadata": {
        "id": "uo-fcIB6V75W"
      },
      "outputs": [],
      "source": [
        "# Función para tokenizar los comments\n",
        "def tokenizer(text):\n",
        "    rt = tk.RedditTokenizer()\n",
        "    return rt.tokenize(text)"
      ]
    },
    {
      "cell_type": "markdown",
      "metadata": {
        "id": "C03jljJcV75W"
      },
      "source": [
        "### Loading comments"
      ]
    },
    {
      "cell_type": "code",
      "execution_count": 7,
      "metadata": {
        "id": "QVHlFhW1V75X"
      },
      "outputs": [],
      "source": [
        "comments_df = pd.read_csv('SuicidiosProyecto_clean.csv', sep = ',', names = ['id','text','class'], index_col='id',header = 1)\n",
        "\n",
        "\n"
      ]
    },
    {
      "cell_type": "code",
      "execution_count": 8,
      "metadata": {
        "colab": {
          "base_uri": "https://localhost:8080/"
        },
        "id": "yKDKvT0aV75X",
        "outputId": "4087fb8e-eeee-497c-c275-2eef86e2dde5"
      },
      "outputs": [
        {
          "data": {
            "text/plain": [
              "(195682, 2)"
            ]
          },
          "execution_count": 8,
          "metadata": {},
          "output_type": "execute_result"
        }
      ],
      "source": [
        "comments_df.shape"
      ]
    },
    {
      "cell_type": "code",
      "execution_count": 9,
      "metadata": {
        "colab": {
          "base_uri": "https://localhost:8080/",
          "height": 768
        },
        "id": "J30R-hypV75X",
        "outputId": "e6fafbfd-01dc-4047-fdc1-26dfe6c5fa15"
      },
      "outputs": [
        {
          "data": {
            "text/html": [
              "<div>\n",
              "<style scoped>\n",
              "    .dataframe tbody tr th:only-of-type {\n",
              "        vertical-align: middle;\n",
              "    }\n",
              "\n",
              "    .dataframe tbody tr th {\n",
              "        vertical-align: top;\n",
              "    }\n",
              "\n",
              "    .dataframe thead th {\n",
              "        text-align: right;\n",
              "    }\n",
              "</style>\n",
              "<table border=\"1\" class=\"dataframe\">\n",
              "  <thead>\n",
              "    <tr style=\"text-align: right;\">\n",
              "      <th></th>\n",
              "      <th>text</th>\n",
              "      <th>class</th>\n",
              "    </tr>\n",
              "    <tr>\n",
              "      <th>id</th>\n",
              "      <th></th>\n",
              "      <th></th>\n",
              "    </tr>\n",
              "  </thead>\n",
              "  <tbody>\n",
              "    <tr>\n",
              "      <th>162855</th>\n",
              "      <td>please help mei have a friend who is trying to help stop someone from self harming committing suicide and we dont know how to get through to him and help him to stop</td>\n",
              "      <td>suicide</td>\n",
              "    </tr>\n",
              "    <tr>\n",
              "      <th>54249</th>\n",
              "      <td>no rest for the wickeddoes anyone else have serious trouble getting out of bed the only thing i seem to look forward too everyday is when i get to go to sleep it seems like im just existing through my boring day so i can escape to my dreams at night i ve had days off where i just lay in bed with my eyes closed wishing i could just escape this reality has anyone else even if death just leads to an emoty void i cant help but wanting to end it just so i dont have to wake up again i guess i just need to make a plan already and stop procrastinating the inevitable</td>\n",
              "      <td>suicide</td>\n",
              "    </tr>\n",
              "    <tr>\n",
              "      <th>280831</th>\n",
              "      <td>i m just plain losti don t know why i can t do it i ve gone to counseling of the bat i struggle with my identity i feel homeless and lost not accepted anywhere raised on my parents second language struggled to make close friends and keep them struggled to get into uni struggled to maintain the sports in good at yet i m wondering why it s even worth it just to have a good life what is a good life what does it all mean once you for it all goes away poof like that meaningless so why don t i leave</td>\n",
              "      <td>suicide</td>\n",
              "    </tr>\n",
              "    <tr>\n",
              "      <th>220222</th>\n",
              "      <td>i wanna kill myself to escape my shitty life that im livingi cant keep doing this</td>\n",
              "      <td>suicide</td>\n",
              "    </tr>\n",
              "    <tr>\n",
              "      <th>199378</th>\n",
              "      <td>im cold and northern of my hoodies are clean sad time doin your mom doin doin your mom</td>\n",
              "      <td>non-suicide</td>\n",
              "    </tr>\n",
              "  </tbody>\n",
              "</table>\n",
              "</div>"
            ],
            "text/plain": [
              "                                                                                                                                                                                                                                                                                                                                                                                                                                                                                                                                                                                        text  \\\n",
              "id                                                                                                                                                                                                                                                                                                                                                                                                                                                                                                                                                                                             \n",
              "162855                                                                                                                                                                                                                                                                                                                                                                                                                 please help mei have a friend who is trying to help stop someone from self harming committing suicide and we dont know how to get through to him and help him to stop   \n",
              "54249   no rest for the wickeddoes anyone else have serious trouble getting out of bed the only thing i seem to look forward too everyday is when i get to go to sleep it seems like im just existing through my boring day so i can escape to my dreams at night i ve had days off where i just lay in bed with my eyes closed wishing i could just escape this reality has anyone else even if death just leads to an emoty void i cant help but wanting to end it just so i dont have to wake up again i guess i just need to make a plan already and stop procrastinating the inevitable   \n",
              "280831                                                                    i m just plain losti don t know why i can t do it i ve gone to counseling of the bat i struggle with my identity i feel homeless and lost not accepted anywhere raised on my parents second language struggled to make close friends and keep them struggled to get into uni struggled to maintain the sports in good at yet i m wondering why it s even worth it just to have a good life what is a good life what does it all mean once you for it all goes away poof like that meaningless so why don t i leave   \n",
              "220222                                                                                                                                                                                                                                                                                                                                                                                                                                                                                                     i wanna kill myself to escape my shitty life that im livingi cant keep doing this   \n",
              "199378                                                                                                                                                                                                                                                                                                                                                                                                                                                                                                im cold and northern of my hoodies are clean sad time doin your mom doin doin your mom   \n",
              "\n",
              "              class  \n",
              "id                   \n",
              "162855      suicide  \n",
              "54249       suicide  \n",
              "280831      suicide  \n",
              "220222      suicide  \n",
              "199378  non-suicide  "
            ]
          },
          "execution_count": 9,
          "metadata": {},
          "output_type": "execute_result"
        }
      ],
      "source": [
        "comments_df.sample(5)"
      ]
    },
    {
      "cell_type": "code",
      "execution_count": 10,
      "metadata": {
        "colab": {
          "base_uri": "https://localhost:8080/"
        },
        "id": "t7_pB49kV75X",
        "outputId": "50e1f71f-69e8-489d-c8ab-a8594aa32698"
      },
      "outputs": [
        {
          "data": {
            "text/plain": [
              "non-suicide    0.562898\n",
              "suicide        0.437102\n",
              "Name: class, dtype: float64"
            ]
          },
          "execution_count": 10,
          "metadata": {},
          "output_type": "execute_result"
        }
      ],
      "source": [
        "comments_df['class'].value_counts(dropna = False, normalize = True)"
      ]
    },
    {
      "cell_type": "markdown",
      "metadata": {
        "id": "rCfrAlZEV75Y"
      },
      "source": [
        "### Filtrando los comments que aún no han sido etiquetados"
      ]
    },
    {
      "cell_type": "code",
      "execution_count": 11,
      "metadata": {
        "id": "Q1CPRJdoV75Y"
      },
      "outputs": [],
      "source": [
        "comments_labeled_df = comments_df.loc[comments_df['class'].notnull()]"
      ]
    },
    {
      "cell_type": "code",
      "execution_count": 12,
      "metadata": {
        "colab": {
          "base_uri": "https://localhost:8080/"
        },
        "id": "mMyxUYWRV75Y",
        "outputId": "b269d9e9-1a6d-4934-9004-d0bcda9e0e2e"
      },
      "outputs": [
        {
          "data": {
            "text/plain": [
              "(195682, 2)"
            ]
          },
          "execution_count": 12,
          "metadata": {},
          "output_type": "execute_result"
        }
      ],
      "source": [
        "# comments a ser usados para entrenar y evaluar el modelo\n",
        "comments_labeled_df.shape"
      ]
    },
    {
      "cell_type": "code",
      "execution_count": 13,
      "metadata": {
        "colab": {
          "base_uri": "https://localhost:8080/"
        },
        "id": "WCmxomwOV75Y",
        "outputId": "ff6c057c-3009-4981-c182-d3284c2716e6"
      },
      "outputs": [
        {
          "data": {
            "text/plain": [
              "(0, 2)"
            ]
          },
          "execution_count": 13,
          "metadata": {},
          "output_type": "execute_result"
        }
      ],
      "source": [
        "# comments descartados debido a que no se encuentran etiquetados\n",
        "comments_df.loc[comments_df['class'].isnull()].shape"
      ]
    },
    {
      "cell_type": "code",
      "execution_count": 14,
      "metadata": {
        "id": "RvnCfPd5V75Y"
      },
      "outputs": [],
      "source": [
        "# Scenario 1: Treating neutral as suicide classes\n",
        "#comments_labeled_df['class'] = comments_labeled_df['class'].replace({'neutral': 'suicide'})\n",
        "\n",
        "# Scenario 2: Working only with suicide and non-suicide classes\n",
        "# Removing neutral class\n",
        "comments_labeled_df = comments_labeled_df.loc[comments_labeled_df['class'].isin(['suicide', 'non-suicide'])]\n",
        "\n",
        "# Scenario 3: Working with all classes"
      ]
    },
    {
      "cell_type": "code",
      "execution_count": 15,
      "metadata": {
        "colab": {
          "base_uri": "https://localhost:8080/"
        },
        "id": "s4GsVj95V75Z",
        "outputId": "b2fbe670-ab24-455a-fa3e-df976e49b6f4"
      },
      "outputs": [
        {
          "data": {
            "text/plain": [
              "non-suicide    0.562898\n",
              "suicide        0.437102\n",
              "Name: class, dtype: float64"
            ]
          },
          "execution_count": 15,
          "metadata": {},
          "output_type": "execute_result"
        }
      ],
      "source": [
        "\n",
        "comments_labeled_df['class'].value_counts(dropna = False, normalize = True)"
      ]
    },
    {
      "cell_type": "markdown",
      "metadata": {
        "id": "h4fdWXhaV75Z"
      },
      "source": [
        "### Diviendo los comments etiquetados en los conjuntos de entrenamiento y prueba"
      ]
    },
    {
      "cell_type": "code",
      "execution_count": 16,
      "metadata": {
        "id": "y4k0gYYLV75Z"
      },
      "outputs": [],
      "source": [
        "# El parámetro 'stratify' es útil para asegurar que ambos conjuntos de datos queden aproximadamente balanceados\n",
        "# Cuando se cuenta con muy pocos datos etiquetados, por lo general se debe disponer de una menor cantidad de datos para evaluación\n",
        "X_train, X_test, y_train, y_test = train_test_split(comments_labeled_df['text'], comments_labeled_df['class'], test_size = 0.35, stratify = comments_labeled_df['class'], random_state = 1)"
      ]
    },
    {
      "cell_type": "code",
      "execution_count": 17,
      "metadata": {
        "colab": {
          "base_uri": "https://localhost:8080/"
        },
        "id": "xBQni5K0V75Z",
        "outputId": "9381acf1-edf1-4989-a0c3-cda01e97fe79"
      },
      "outputs": [
        {
          "data": {
            "text/plain": [
              "(127193,)"
            ]
          },
          "execution_count": 17,
          "metadata": {},
          "output_type": "execute_result"
        }
      ],
      "source": [
        "X_train.shape"
      ]
    },
    {
      "cell_type": "code",
      "execution_count": 18,
      "metadata": {
        "colab": {
          "base_uri": "https://localhost:8080/"
        },
        "id": "VWb9eP2UV75a",
        "outputId": "23f01ced-21c8-4bef-a2e8-eb0066272337"
      },
      "outputs": [
        {
          "data": {
            "text/plain": [
              "non-suicide    0.5629\n",
              "suicide        0.4371\n",
              "Name: class, dtype: float64"
            ]
          },
          "execution_count": 18,
          "metadata": {},
          "output_type": "execute_result"
        }
      ],
      "source": [
        "pd.Series(y_train).value_counts(normalize = True)"
      ]
    },
    {
      "cell_type": "code",
      "execution_count": 19,
      "metadata": {
        "colab": {
          "base_uri": "https://localhost:8080/"
        },
        "id": "q2eodq8rV75a",
        "outputId": "56f1f2bf-ef76-4826-ec9c-3231fceeeeb4"
      },
      "outputs": [
        {
          "data": {
            "text/plain": [
              "(68489,)"
            ]
          },
          "execution_count": 19,
          "metadata": {},
          "output_type": "execute_result"
        }
      ],
      "source": [
        "X_test.shape"
      ]
    },
    {
      "cell_type": "code",
      "execution_count": 20,
      "metadata": {
        "colab": {
          "base_uri": "https://localhost:8080/"
        },
        "id": "FF-GibO1V75a",
        "outputId": "d480c627-6440-4f51-9a5d-7ad0676ef118"
      },
      "outputs": [
        {
          "data": {
            "text/plain": [
              "non-suicide    0.562893\n",
              "suicide        0.437107\n",
              "Name: class, dtype: float64"
            ]
          },
          "execution_count": 20,
          "metadata": {},
          "output_type": "execute_result"
        }
      ],
      "source": [
        "pd.Series(y_test).value_counts(normalize = True)"
      ]
    },
    {
      "cell_type": "markdown",
      "metadata": {
        "id": "nA6ZvECXV75a"
      },
      "source": [
        "### Vectorizando los comments"
      ]
    },
    {
      "cell_type": "markdown",
      "metadata": {
        "id": "eJM3ph9cV75b"
      },
      "source": [
        "<table>\n",
        "    <tbody>\n",
        "        <tr>\n",
        "            <td>\n",
        "                <h4>Bag of Words</h4>\n",
        "                <img src=\"./imgs/bow.png\" style=\"width: 500px;\">\n",
        "            </td>\n",
        "            <td>\n",
        "                <h4>TF-IDF</h4>\n",
        "                <img src=\"./imgs/tf-idf.png\" style=\"width: 500px;\">\n",
        "            </td>\n",
        "        </tr>\n",
        "    </tbody>\n",
        "</table>"
      ]
    },
    {
      "cell_type": "code",
      "execution_count": 21,
      "metadata": {
        "colab": {
          "base_uri": "https://localhost:8080/"
        },
        "id": "3-tDSrkMV75b",
        "outputId": "f90882b9-d12e-465d-c4fc-b20cce93adfe"
      },
      "outputs": [
        {
          "data": {
            "text/plain": [
              "id\n",
              "322468    last person to care dropped mei was just told by my last real friend to not call or text or have anything to fo with him because he was tired of my depression and when i could act normal then he would talk to me again i don t know what to do anymore\n",
              "331765                                                                                                                      so guys i told my crush i liked her update she hasn t said if she likes me back but i m hopeful because she keeps dropping subtle hints\n",
              "281797          carbon monoxidejust curious here but i spent a total of hours with a tarp over the exhaust of my car while i slept to try to end it but i still woke up fine curious as how that happens i figured that long was way more then enough to do the job\n",
              "35826                                          death won t stop be appealing to mei still cannot get over death having more appeal to me than life nothing is good enough here none of it is enough at least in death i won t suffer anymore or have these thoughts\n",
              "144465                                                                                                                      all you redditors are getting girlfriends and here i am sitting down tryna complete my ds collection whos living the good life now zach\n",
              "Name: text, dtype: object"
            ]
          },
          "execution_count": 21,
          "metadata": {},
          "output_type": "execute_result"
        }
      ],
      "source": [
        "X_train.head()"
      ]
    },
    {
      "cell_type": "code",
      "execution_count": 22,
      "metadata": {
        "id": "uv6KmmqaV75c"
      },
      "outputs": [],
      "source": [
        "tfidf = TfidfVectorizer(tokenizer = tokenizer, stop_words = stop_words, lowercase = True)"
      ]
    },
    {
      "cell_type": "code",
      "execution_count": 23,
      "metadata": {
        "id": "Vu_7hRR5V75c"
      },
      "outputs": [],
      "source": [
        "X_tfidf = tfidf.fit_transform(X_train.values.astype('U'))"
      ]
    },
    {
      "cell_type": "code",
      "execution_count": 24,
      "metadata": {
        "colab": {
          "base_uri": "https://localhost:8080/"
        },
        "id": "ceAcArpKV75c",
        "outputId": "22f95abd-73c9-46fb-9a4e-eac92e386ba1"
      },
      "outputs": [
        {
          "data": {
            "text/plain": [
              "107342"
            ]
          },
          "execution_count": 24,
          "metadata": {},
          "output_type": "execute_result"
        }
      ],
      "source": [
        "len(tfidf.vocabulary_)"
      ]
    },
    {
      "cell_type": "markdown",
      "metadata": {
        "id": "v6Ikv2VJ9f-7"
      },
      "source": [
        "### Entrenamiento de un modelo lr\n"
      ]
    },
    {
      "cell_type": "code",
      "execution_count": 25,
      "metadata": {
        "id": "DJxHRxhN9ogk"
      },
      "outputs": [],
      "source": [
        "from sklearn.linear_model import LogisticRegression"
      ]
    },
    {
      "cell_type": "code",
      "execution_count": 26,
      "metadata": {
        "id": "UrsCRIC1fpoS"
      },
      "outputs": [],
      "source": [
        "lr_model = LogisticRegression(class_weight = \"balanced\")"
      ]
    },
    {
      "cell_type": "code",
      "execution_count": 27,
      "metadata": {
        "colab": {
          "base_uri": "https://localhost:8080/"
        },
        "id": "KQAEhDshgd8N",
        "outputId": "acdb15a4-ec1f-4bec-d072-552a8f324a14"
      },
      "outputs": [
        {
          "data": {
            "text/html": [
              "<style>#sk-container-id-1 {color: black;background-color: white;}#sk-container-id-1 pre{padding: 0;}#sk-container-id-1 div.sk-toggleable {background-color: white;}#sk-container-id-1 label.sk-toggleable__label {cursor: pointer;display: block;width: 100%;margin-bottom: 0;padding: 0.3em;box-sizing: border-box;text-align: center;}#sk-container-id-1 label.sk-toggleable__label-arrow:before {content: \"▸\";float: left;margin-right: 0.25em;color: #696969;}#sk-container-id-1 label.sk-toggleable__label-arrow:hover:before {color: black;}#sk-container-id-1 div.sk-estimator:hover label.sk-toggleable__label-arrow:before {color: black;}#sk-container-id-1 div.sk-toggleable__content {max-height: 0;max-width: 0;overflow: hidden;text-align: left;background-color: #f0f8ff;}#sk-container-id-1 div.sk-toggleable__content pre {margin: 0.2em;color: black;border-radius: 0.25em;background-color: #f0f8ff;}#sk-container-id-1 input.sk-toggleable__control:checked~div.sk-toggleable__content {max-height: 200px;max-width: 100%;overflow: auto;}#sk-container-id-1 input.sk-toggleable__control:checked~label.sk-toggleable__label-arrow:before {content: \"▾\";}#sk-container-id-1 div.sk-estimator input.sk-toggleable__control:checked~label.sk-toggleable__label {background-color: #d4ebff;}#sk-container-id-1 div.sk-label input.sk-toggleable__control:checked~label.sk-toggleable__label {background-color: #d4ebff;}#sk-container-id-1 input.sk-hidden--visually {border: 0;clip: rect(1px 1px 1px 1px);clip: rect(1px, 1px, 1px, 1px);height: 1px;margin: -1px;overflow: hidden;padding: 0;position: absolute;width: 1px;}#sk-container-id-1 div.sk-estimator {font-family: monospace;background-color: #f0f8ff;border: 1px dotted black;border-radius: 0.25em;box-sizing: border-box;margin-bottom: 0.5em;}#sk-container-id-1 div.sk-estimator:hover {background-color: #d4ebff;}#sk-container-id-1 div.sk-parallel-item::after {content: \"\";width: 100%;border-bottom: 1px solid gray;flex-grow: 1;}#sk-container-id-1 div.sk-label:hover label.sk-toggleable__label {background-color: #d4ebff;}#sk-container-id-1 div.sk-serial::before {content: \"\";position: absolute;border-left: 1px solid gray;box-sizing: border-box;top: 0;bottom: 0;left: 50%;z-index: 0;}#sk-container-id-1 div.sk-serial {display: flex;flex-direction: column;align-items: center;background-color: white;padding-right: 0.2em;padding-left: 0.2em;position: relative;}#sk-container-id-1 div.sk-item {position: relative;z-index: 1;}#sk-container-id-1 div.sk-parallel {display: flex;align-items: stretch;justify-content: center;background-color: white;position: relative;}#sk-container-id-1 div.sk-item::before, #sk-container-id-1 div.sk-parallel-item::before {content: \"\";position: absolute;border-left: 1px solid gray;box-sizing: border-box;top: 0;bottom: 0;left: 50%;z-index: -1;}#sk-container-id-1 div.sk-parallel-item {display: flex;flex-direction: column;z-index: 1;position: relative;background-color: white;}#sk-container-id-1 div.sk-parallel-item:first-child::after {align-self: flex-end;width: 50%;}#sk-container-id-1 div.sk-parallel-item:last-child::after {align-self: flex-start;width: 50%;}#sk-container-id-1 div.sk-parallel-item:only-child::after {width: 0;}#sk-container-id-1 div.sk-dashed-wrapped {border: 1px dashed gray;margin: 0 0.4em 0.5em 0.4em;box-sizing: border-box;padding-bottom: 0.4em;background-color: white;}#sk-container-id-1 div.sk-label label {font-family: monospace;font-weight: bold;display: inline-block;line-height: 1.2em;}#sk-container-id-1 div.sk-label-container {text-align: center;}#sk-container-id-1 div.sk-container {/* jupyter's `normalize.less` sets `[hidden] { display: none; }` but bootstrap.min.css set `[hidden] { display: none !important; }` so we also need the `!important` here to be able to override the default hidden behavior on the sphinx rendered scikit-learn.org. See: https://github.com/scikit-learn/scikit-learn/issues/21755 */display: inline-block !important;position: relative;}#sk-container-id-1 div.sk-text-repr-fallback {display: none;}</style><div id=\"sk-container-id-1\" class=\"sk-top-container\"><div class=\"sk-text-repr-fallback\"><pre>LogisticRegression(class_weight=&#x27;balanced&#x27;)</pre><b>In a Jupyter environment, please rerun this cell to show the HTML representation or trust the notebook. <br />On GitHub, the HTML representation is unable to render, please try loading this page with nbviewer.org.</b></div><div class=\"sk-container\" hidden><div class=\"sk-item\"><div class=\"sk-estimator sk-toggleable\"><input class=\"sk-toggleable__control sk-hidden--visually\" id=\"sk-estimator-id-1\" type=\"checkbox\" checked><label for=\"sk-estimator-id-1\" class=\"sk-toggleable__label sk-toggleable__label-arrow\">LogisticRegression</label><div class=\"sk-toggleable__content\"><pre>LogisticRegression(class_weight=&#x27;balanced&#x27;)</pre></div></div></div></div></div>"
            ],
            "text/plain": [
              "LogisticRegression(class_weight='balanced')"
            ]
          },
          "execution_count": 27,
          "metadata": {},
          "output_type": "execute_result"
        }
      ],
      "source": [
        "lr_model.fit(X_tfidf, y_train)"
      ]
    },
    {
      "cell_type": "code",
      "execution_count": 28,
      "metadata": {
        "id": "QgMWtSvW-nw7"
      },
      "outputs": [],
      "source": [
        "y_train_lr_predict = lr_model.predict(X_tfidf)"
      ]
    },
    {
      "cell_type": "code",
      "execution_count": 29,
      "metadata": {
        "id": "jqB-h77boWtg"
      },
      "outputs": [],
      "source": [
        "X_test_tfidf = tfidf.transform(X_test.values.astype('U'))"
      ]
    },
    {
      "cell_type": "code",
      "execution_count": 30,
      "metadata": {
        "colab": {
          "base_uri": "https://localhost:8080/"
        },
        "id": "NK5RORBKpdj-",
        "outputId": "24a5f7c3-e3a5-47ab-af4b-acb7784d0303"
      },
      "outputs": [
        {
          "data": {
            "text/plain": [
              "scipy.sparse.csr.csr_matrix"
            ]
          },
          "execution_count": 30,
          "metadata": {},
          "output_type": "execute_result"
        }
      ],
      "source": [
        "type(X_tfidf)"
      ]
    },
    {
      "cell_type": "code",
      "execution_count": 31,
      "metadata": {
        "colab": {
          "base_uri": "https://localhost:8080/",
          "height": 316
        },
        "id": "XdVUgGMu-tvI",
        "outputId": "441c804b-f56e-4183-bd04-e3df7f940514"
      },
      "outputs": [],
      "source": [
        "y_test_lr_predict = lr_model.predict(X_test_tfidf)"
      ]
    },
    {
      "cell_type": "code",
      "execution_count": 32,
      "metadata": {},
      "outputs": [
        {
          "data": {
            "text/plain": [
              "<sklearn.metrics._plot.confusion_matrix.ConfusionMatrixDisplay at 0x7fcaaf88abb0>"
            ]
          },
          "execution_count": 32,
          "metadata": {},
          "output_type": "execute_result"
        },
        {
          "data": {
            "image/png": "[encoded data removed]",
            "text/plain": [
              "<Figure size 432x288 with 2 Axes>"
            ]
          },
          "metadata": {
            "needs_background": "light"
          },
          "output_type": "display_data"
        }
      ],
      "source": [
        "ConfusionMatrixDisplay.from_predictions(y_train, y_train_lr_predict)"
      ]
    },
    {
      "cell_type": "code",
      "execution_count": 33,
      "metadata": {},
      "outputs": [
        {
          "data": {
            "text/plain": [
              "<sklearn.metrics._plot.confusion_matrix.ConfusionMatrixDisplay at 0x7fca93981dc0>"
            ]
          },
          "execution_count": 33,
          "metadata": {},
          "output_type": "execute_result"
        },
        {
          "data": {
            "image/png": "[encoded data removed]",
            "text/plain": [
              "<Figure size 432x288 with 2 Axes>"
            ]
          },
          "metadata": {
            "needs_background": "light"
          },
          "output_type": "display_data"
        }
      ],
      "source": [
        "ConfusionMatrixDisplay.from_predictions(y_test, y_test_lr_predict)"
      ]
    },
    {
      "cell_type": "code",
      "execution_count": 34,
      "metadata": {},
      "outputs": [
        {
          "name": "stdout",
          "output_type": "stream",
          "text": [
            "Precision: 0.9393545122700495\n",
            "Recall: 0.9349953234045615\n",
            "F1: 0.9371698487388899\n"
          ]
        }
      ],
      "source": [
        "if len(lr_model.classes_) == 2:\n",
        "    print('Precision:', precision_score(y_train, y_train_lr_predict, pos_label = 'suicide'))\n",
        "    print('Recall:', recall_score(y_train, y_train_lr_predict, pos_label = 'suicide'))\n",
        "    print('F1:', f1_score(y_train, y_train_lr_predict, pos_label = 'suicide'))\n",
        "else:\n",
        "    # Para casos no binarios, es común calcular las métricas para cada clase\n",
        "    print('Precision:', precision_score(y_train, y_train_lr_predict, average = None))\n",
        "    print('Recall:', recall_score(y_train, y_train_lr_predict, average = None))\n",
        "    print('F1:', f1_score(y_train, y_train_lr_predict, average = None))"
      ]
    },
    {
      "cell_type": "code",
      "execution_count": 35,
      "metadata": {},
      "outputs": [
        {
          "name": "stdout",
          "output_type": "stream",
          "text": [
            "Precision: 0.9287578637397939\n",
            "Recall: 0.9271136052376657\n",
            "F1: 0.9279350061015362\n"
          ]
        }
      ],
      "source": [
        "if len(lr_model.classes_) == 2:\n",
        "    print('Precision:', precision_score(y_test, y_test_lr_predict, pos_label = 'suicide'))\n",
        "    print('Recall:', recall_score(y_test, y_test_lr_predict, pos_label = 'suicide'))\n",
        "    print('F1:', f1_score(y_test, y_test_lr_predict, pos_label = 'suicide'))\n",
        "else:\n",
        "    # Para casos no binarios, es común calcular las métricas para cada clase\n",
        "    print('Precision:', precision_score(y_test, y_test_lr_predict, average = None))\n",
        "    print('Recall:', recall_score(y_test, y_test_lr_predict, average = None))\n",
        "    print('F1:', f1_score(y_test, y_test_lr_predict, average = None))"
      ]
    },
    {
      "cell_type": "markdown",
      "metadata": {
        "id": "WcM4bbtLV75g"
      },
      "source": [
        "### Análisis del error"
      ]
    },
    {
      "cell_type": "code",
      "execution_count": 36,
      "metadata": {
        "colab": {
          "base_uri": "https://localhost:8080/",
          "height": 235
        },
        "id": "FQN4kTktV75g",
        "outputId": "31b13e66-8eb1-4397-8f21-f57e639f1a73"
      },
      "outputs": [],
      "source": [
        "error_df = pd.concat(\n",
        "    [ pd.concat([X_test, y_test], axis = 1).reset_index(),\n",
        "    pd.Series(y_test_lr_predict) ]\n",
        ", axis = 1).rename(columns = { 'class': 'actual', 0: 'predicted' })\n",
        "\n",
        "error_df.drop('id', inplace = True, axis = 1)"
      ]
    },
    {
      "cell_type": "code",
      "execution_count": 37,
      "metadata": {
        "id": "dhsf5rOfV75g"
      },
      "outputs": [
        {
          "data": {
            "text/plain": [
              "(4311, 3)"
            ]
          },
          "execution_count": 37,
          "metadata": {},
          "output_type": "execute_result"
        }
      ],
      "source": [
        "error_df.loc[error_df['actual'] != error_df['predicted']].shape"
      ]
    },
    {
      "cell_type": "code",
      "execution_count": 38,
      "metadata": {
        "id": "kdyiXO6yV75g"
      },
      "outputs": [
        {
          "data": {
            "text/html": [
              "<div>\n",
              "<style scoped>\n",
              "    .dataframe tbody tr th:only-of-type {\n",
              "        vertical-align: middle;\n",
              "    }\n",
              "\n",
              "    .dataframe tbody tr th {\n",
              "        vertical-align: top;\n",
              "    }\n",
              "\n",
              "    .dataframe thead th {\n",
              "        text-align: right;\n",
              "    }\n",
              "</style>\n",
              "<table border=\"1\" class=\"dataframe\">\n",
              "  <thead>\n",
              "    <tr style=\"text-align: right;\">\n",
              "      <th></th>\n",
              "      <th>text</th>\n",
              "      <th>actual</th>\n",
              "      <th>predicted</th>\n",
              "    </tr>\n",
              "  </thead>\n",
              "  <tbody>\n",
              "    <tr>\n",
              "      <th>41369</th>\n",
              "      <td>i want to end myselfsad pain sad pain sad pain sad pain sad pain sad pain sad pain sad pain sad pain sad pain sad pain sad pain sad pain sad pain sad pain sad pain sad pain sad pain sad pain sad pain sad pain sad pain sad pain sad pain sad pain sad pain sad pain sad pain sad pain sad pain sad pain sad pain sad pain sad pain sad pain sad pain sad pain sad pain sad pain sad pain sad pain sad pain sad pain sad pain sad pain sad pain sad pain sad pain sad pain sad pain sad pain sad pain sad pain sad pain sad pain sad pain sad pain sad pain sad pain sad pain sad pain sad pain sad pain sad pain sad pain sad pain sad pain sad pain sad pain sad pain sad pain sad pain sad pain sad pain sad pain sad pain sad pain sad pain sad pain sad pain sad pain sad pain sad pain sad pain sad pain sad pain</td>\n",
              "      <td>suicide</td>\n",
              "      <td>non-suicide</td>\n",
              "    </tr>\n",
              "    <tr>\n",
              "      <th>59737</th>\n",
              "      <td>should i break up with my so before i do it im tired</td>\n",
              "      <td>suicide</td>\n",
              "      <td>non-suicide</td>\n",
              "    </tr>\n",
              "    <tr>\n",
              "      <th>5899</th>\n",
              "      <td>realism is what i strive for i tend to be a realistic person overall or at least i try to when im in a crappy mood i may be pessimistic or when im in a good mood then i may be optimistic but in general i am just realistic or at least i try to that may include some pessimistic thinking but that pessimistic thinking is reality or at least i think it is you can say the same for optimistic thinking its reality or at least i think it is and the reason i want to be realistic is because i think realistically and i end up in the right direction sure optimism will make you feel happy and motivate you but i feel like it will also end up in a bad path thinking ur in a good path but sure as long as youre happy and with pessimism you feel like you need to keep pushing yourself which can be good to improve a lot but with realism you get both in a way you push when reality is youre not there but when you are there you congratulate yourself for it or whatever i wanna think realistically because i wanna be truthful and get the right deserving amount of criticism and congrats and thatll push me in the right direction in life</td>\n",
              "      <td>non-suicide</td>\n",
              "      <td>suicide</td>\n",
              "    </tr>\n",
              "    <tr>\n",
              "      <th>17231</th>\n",
              "      <td>i cbfathats it</td>\n",
              "      <td>suicide</td>\n",
              "      <td>non-suicide</td>\n",
              "    </tr>\n",
              "    <tr>\n",
              "      <th>32211</th>\n",
              "      <td>days until the day that decides me fatei can t wait it s freedom from the pain either way</td>\n",
              "      <td>suicide</td>\n",
              "      <td>non-suicide</td>\n",
              "    </tr>\n",
              "    <tr>\n",
              "      <th>16343</th>\n",
              "      <td>i hate the greed of humans one of my best friends was this girl anna she was amazing in every way we used to do all kinds of things and get in all kinds of fucking trouble together she always managed to make someone feel good about themselves even if they didn t deserve it but she had type diabetes as well as other shit that made living a pain for her her parents have never made enough money but they always barely had enough for her insulin but after covid they didn t have enough money at all so anna was trying to ration her insulin but it wasn t for her it was false hope for her parents she knew she was going to die either way she had a quater of a months worth of insulin to ration for months she even told me don t miss me too much ok i was always there for her and it hurts that i wasn t there when she passed she was all alone there wasn t even a funeral because of covid she would have been today she always wanted to be just so she could now she s never going to be able to fuck human greed she needed medicine to stay alive that her parents couldn t afford because some asshats exploit the needs of others for their own gain</td>\n",
              "      <td>non-suicide</td>\n",
              "      <td>suicide</td>\n",
              "    </tr>\n",
              "    <tr>\n",
              "      <th>12337</th>\n",
              "      <td>will it ever get better people that say it will gets better never really helps were not where its better tbh i hate it here</td>\n",
              "      <td>suicide</td>\n",
              "      <td>non-suicide</td>\n",
              "    </tr>\n",
              "    <tr>\n",
              "      <th>30232</th>\n",
              "      <td>getting sick of everything so i m a year old boy whose life has been boring and lonely for years of it from the day that i was born until the age of i did not have someone who i would consider a friend people who were my friends at that time only used me for my skills and they were manipulating me in every way you might wonder why didn t i leave these people in the first place the answer is that i had no idea that i was being used the whole time so i decided to make a change and start making real friends and talk to people i started doing this back in march of i joined a gc and talked to people in that gc a girl was doing self harm and was suicidal i decided to help her because i had nothing else to do at that time little did i know that she was doing all of this for attention so we became good friends and i was really happy because it was the first time that i had the chance to talk to a girl and become friends with one the friendship was very one sided and she was cheating and lying every time she even lied to me about her age the whole i was ignoring these major red flags even though i know it was not right i thought that if i stopped talking to that girl no one else will so fast forward into a few months i meet another girl and this time the new girl helped me overcome all the lies and fakeness that i ve been through i easily got over that first girl things went really great for a long time and i was in my all time high and i was happier than ever things were going really great until september of months with my new friend and i made a mistake that ruined everything and she blocked me out everywhere a few days after the incident we came back together but it was never the same as before fast forward to december she stops talking to me completely because she was being uncomfortable with me i went through some huge breakdowns and needed to visit a therapist which revealed that i ve had some major issues including anxiety disorder social anxiety abandonment issues fomo and that i am a very sensitive person for the entire month of december i was completely alone and i tried making new friends because i lost the only one that i had i tried finding new friends but it didn t work it was new year s eve that she started talking to me again and i was happy once again because i now have a friend after all of that hard time i went through fast forward to march and april she severely reduces the amount of conversation that we have and i only talked to her in a gc that we were in very rarely in the dms yesterday she told me that she wants to unfriend me for good and not talk to me again she was sounding sarcastic because we quite often insult each other for fun and i thought that she was just kidding like all the other times but it turns out that it was not the case this time she removed me as a friend on every social media and i left the gc that we were in because i m sure that she was not talking because of my existence in there and now i m left with no friends or social life again she is a very straightforward person which is good and she told that i am a boring person i m not denying that at all she was the most impactful and interesting thing ever to happen in my whole life for my entire life i ve been emotionally and mentally abused by everyone surrounding me including my parents i was always being victimized even when it was not my fault no one ever committed to a real friendship with me except her that s why she is the most important person in my life compared to most people i m inferior and i have nothing to offer but that doesn t mean that i won t put any effort into my friendships for the entire time that we were friends i always had her chat windows open discord and it was always covering up half of my screen even if we were not talking just to be prepared to reply on time i changed my entire sleeping schedule just to not miss a single text from her and i never said no to anything if she ever asked to do anything i was always doing it and i never let her down she is the only person that i fully trust and feel comfortable around even though we live thousands of miles away from each other the average person might consider me very picky of choosing friends and that s true i completely lack self identity and i tend to copy the person that i like or i m talking to that s one big reason why she didn t feel comfortable around me i was listening to the same music she listened to and etc but the truth is that i actually liked them because i never had any taste in basic things such as music shows choices and everything else that s why i need to be careful in choosing friends i will easily get influenced by them and now i m here again starting from zero no friends no social life spending hours a day on tiktok and achieving nothing due to lack of motivation and i don t get a single notification the whole day luckily i have weeks of spring break right now and i don t have any school work i m really getting sick and tired of this i always put the most effort into everything and i always do my best in a friendship and to add more to that i only had friend the whole time just so i can always be there for her i was feeling content but why does all my effort go into nothing i promise you i m doing my best and i m going overboard to be a good friend if you want some context about my personality search these up i m an intj w and i have virgo placements in my big if you are into that i m not saying that these define my life or anything but they have become major barriers in my life i know i lack emotional intelligence and i don t have the best talking skills out there but i m still doing everything that i can i m a simple person i just want a friend i just want to be a part of a group of gc which i m not at all now believe me i ll do my best and ill be fully committed if you are my friend i m always available to talk to you in discord tiktok snapchat instagram and everywhere else if you reached here thank you for reading that and my dms are open if you wanted to talk to say anything and maybe even become friends</td>\n",
              "      <td>non-suicide</td>\n",
              "      <td>suicide</td>\n",
              "    </tr>\n",
              "    <tr>\n",
              "      <th>52702</th>\n",
              "      <td>i m just so lonelyit s almost am for me rn i ve been sitting on the ledge of my window for like half an hour listening to my playlist waiting for a notification a comment a dm anything but incase i want to jump of i m already at the window i know i m to shy to kill myself but i still want to do it there s just actually no one i have a long term friendship with not a relationship just a friendship</td>\n",
              "      <td>suicide</td>\n",
              "      <td>non-suicide</td>\n",
              "    </tr>\n",
              "    <tr>\n",
              "      <th>29155</th>\n",
              "      <td>fridays are supposed to be good so why do mine always suck my job is just so trash it makes my entire weekend shit i hate it but i think any other job i get will be just as shit and talking to my ex would always make me feel better on fridays when i have to work but hes not around anymore bc other than that talking to him just stresses me out im sad this week is probably gonna be the worst week of my life just so much stressful shit going on and no one to talk to and im so busy i cant get a break until after christmas ugh</td>\n",
              "      <td>non-suicide</td>\n",
              "      <td>suicide</td>\n",
              "    </tr>\n",
              "  </tbody>\n",
              "</table>\n",
              "</div>"
            ],
            "text/plain": [
              "                                                                                                                                                                                                                                                                                                                                                                                                                                                                                                                                                                                                                                                                                                                                                                                                                                                                                                                                                                                                                                                                                                                                                                                                                                                                                                                                                                                                                                                                                                                                                                                                                                                                                                                                                                                                                                                                                                                                                                                                                                                                                                                                                                                                                                                                                                                                                                                                                                                                                                                                                                                                                                                                                                                                                                                                                                                                                                                                                                                                                                                                                                                                                                                                                                                                                                                                                                                                                                                                                                                                                                                                                                                                                                                                                                                                                                                                                                                                                                                                                                                                                                                                                                                                                                                                                                                                                                                                                                                                                                                                                                                                                                                                                                                                                                                                                                                                                                                                                                                                                                                                                                                                                                                                                                                                                                                                                                                                                                                                                                                                                                                                                                                                                                                                                                                                                                                                                                                                                                                                                                                                                                                                                                                                                                                                                                                                                             text  \\\n",
              "41369                                                                                                                                                                                                                                                                                                                                                                                                                                                                                                                                                                                                                                                                                                                                                                                                                                                                                                                                                                                                                                                                                                                                                                                                                                                                                                                                                                                                                                                                                                                                                                                                                                                                                                                                                                                                                                                                                                                                                                                                                                                                                                                                                                                                                                                                                                                                                                                                                                                                                                                                                                                                                                                                                                                                                                                                                                                                                                                                                                                                                                                                                                                                                                                                                                                                                                                                                                                                                                                                                                                                                                                                                                                                                                                                                                                                                                                                                                                                                                                                                                                                                                                                                                                                                                                                                                                                                                                                                                                                                                                                                                                                                                                                                                                                                                                                                                                                                                                                                                                                                                                                                                                                                                                                                                                                                                                                                                                                                                                                                                                                   i want to end myselfsad pain sad pain sad pain sad pain sad pain sad pain sad pain sad pain sad pain sad pain sad pain sad pain sad pain sad pain sad pain sad pain sad pain sad pain sad pain sad pain sad pain sad pain sad pain sad pain sad pain sad pain sad pain sad pain sad pain sad pain sad pain sad pain sad pain sad pain sad pain sad pain sad pain sad pain sad pain sad pain sad pain sad pain sad pain sad pain sad pain sad pain sad pain sad pain sad pain sad pain sad pain sad pain sad pain sad pain sad pain sad pain sad pain sad pain sad pain sad pain sad pain sad pain sad pain sad pain sad pain sad pain sad pain sad pain sad pain sad pain sad pain sad pain sad pain sad pain sad pain sad pain sad pain sad pain sad pain sad pain sad pain sad pain sad pain sad pain sad pain sad pain   \n",
              "59737                                                                                                                                                                                                                                                                                                                                                                                                                                                                                                                                                                                                                                                                                                                                                                                                                                                                                                                                                                                                                                                                                                                                                                                                                                                                                                                                                                                                                                                                                                                                                                                                                                                                                                                                                                                                                                                                                                                                                                                                                                                                                                                                                                                                                                                                                                                                                                                                                                                                                                                                                                                                                                                                                                                                                                                                                                                                                                                                                                                                                                                                                                                                                                                                                                                                                                                                                                                                                                                                                                                                                                                                                                                                                                                                                                                                                                                                                                                                                                                                                                                                                                                                                                                                                                                                                                                                                                                                                                                                                                                                                                                                                                                                                                                                                                                                                                                                                                                                                                                                                                                                                                                                                                                                                                                                                                                                                                                                                                                                                                                                                                                                                                                                                                                                                                                                                                                                                                                                                                                                                                                                                                                                                                                                                                                                                                        should i break up with my so before i do it im tired   \n",
              "5899                                                                                                                                                                                                                                                                                                                                                                                                                                                                                                                                                                                                                                                                                                                                                                                                                                                                                                                                                                                                                                                                                                                                                                                                                                                                                                                                                                                                                                                                                                                                                                                                                                                                                                                                                                                                                                                                                                                                                                                                                                                                                                                                                                                                                                                                                                                                                                                                                                                                                                                                                                                                                                                                                                                                                                                                                                                                                                                                                                                                                                                                                                                                                                                                                                                                                                                                                                                                                                                                                                                                                                                                                                                                                                                                                                                                                                                                                                                                                                                                                                                                                                                                                                                                                                                                                                                                                                                                                                                                                                                                                                                                                                                                                                                                                                                                                                                                                                                                                                                                                                                                                                                                                                                         realism is what i strive for i tend to be a realistic person overall or at least i try to when im in a crappy mood i may be pessimistic or when im in a good mood then i may be optimistic but in general i am just realistic or at least i try to that may include some pessimistic thinking but that pessimistic thinking is reality or at least i think it is you can say the same for optimistic thinking its reality or at least i think it is and the reason i want to be realistic is because i think realistically and i end up in the right direction sure optimism will make you feel happy and motivate you but i feel like it will also end up in a bad path thinking ur in a good path but sure as long as youre happy and with pessimism you feel like you need to keep pushing yourself which can be good to improve a lot but with realism you get both in a way you push when reality is youre not there but when you are there you congratulate yourself for it or whatever i wanna think realistically because i wanna be truthful and get the right deserving amount of criticism and congrats and thatll push me in the right direction in life   \n",
              "17231                                                                                                                                                                                                                                                                                                                                                                                                                                                                                                                                                                                                                                                                                                                                                                                                                                                                                                                                                                                                                                                                                                                                                                                                                                                                                                                                                                                                                                                                                                                                                                                                                                                                                                                                                                                                                                                                                                                                                                                                                                                                                                                                                                                                                                                                                                                                                                                                                                                                                                                                                                                                                                                                                                                                                                                                                                                                                                                                                                                                                                                                                                                                                                                                                                                                                                                                                                                                                                                                                                                                                                                                                                                                                                                                                                                                                                                                                                                                                                                                                                                                                                                                                                                                                                                                                                                                                                                                                                                                                                                                                                                                                                                                                                                                                                                                                                                                                                                                                                                                                                                                                                                                                                                                                                                                                                                                                                                                                                                                                                                                                                                                                                                                                                                                                                                                                                                                                                                                                                                                                                                                                                                                                                                                                                                                                                                                              i cbfathats it   \n",
              "32211                                                                                                                                                                                                                                                                                                                                                                                                                                                                                                                                                                                                                                                                                                                                                                                                                                                                                                                                                                                                                                                                                                                                                                                                                                                                                                                                                                                                                                                                                                                                                                                                                                                                                                                                                                                                                                                                                                                                                                                                                                                                                                                                                                                                                                                                                                                                                                                                                                                                                                                                                                                                                                                                                                                                                                                                                                                                                                                                                                                                                                                                                                                                                                                                                                                                                                                                                                                                                                                                                                                                                                                                                                                                                                                                                                                                                                                                                                                                                                                                                                                                                                                                                                                                                                                                                                                                                                                                                                                                                                                                                                                                                                                                                                                                                                                                                                                                                                                                                                                                                                                                                                                                                                                                                                                                                                                                                                                                                                                                                                                                                                                                                                                                                                                                                                                                                                                                                                                                                                                                                                                                                                                                                                                                                                                                   days until the day that decides me fatei can t wait it s freedom from the pain either way   \n",
              "16343                                                                                                                                                                                                                                                                                                                                                                                                                                                                                                                                                                                                                                                                                                                                                                                                                                                                                                                                                                                                                                                                                                                                                                                                                                                                                                                                                                                                                                                                                                                                                                                                                                                                                                                                                                                                                                                                                                                                                                                                                                                                                                                                                                                                                                                                                                                                                                                                                                                                                                                                                                                                                                                                                                                                                                                                                                                                                                                                                                                                                                                                                                                                                                                                                                                                                                                                                                                                                                                                                                                                                                                                                                                                                                                                                                                                                                                                                                                                                                                                                                                                                                                                                                                                                                                                                                                                                                                                                                                                                                                                                                                                                                                                                                                                                                                                                                                                                                                                                                                                                                                                                                                                                                        i hate the greed of humans one of my best friends was this girl anna she was amazing in every way we used to do all kinds of things and get in all kinds of fucking trouble together she always managed to make someone feel good about themselves even if they didn t deserve it but she had type diabetes as well as other shit that made living a pain for her her parents have never made enough money but they always barely had enough for her insulin but after covid they didn t have enough money at all so anna was trying to ration her insulin but it wasn t for her it was false hope for her parents she knew she was going to die either way she had a quater of a months worth of insulin to ration for months she even told me don t miss me too much ok i was always there for her and it hurts that i wasn t there when she passed she was all alone there wasn t even a funeral because of covid she would have been today she always wanted to be just so she could now she s never going to be able to fuck human greed she needed medicine to stay alive that her parents couldn t afford because some asshats exploit the needs of others for their own gain   \n",
              "12337                                                                                                                                                                                                                                                                                                                                                                                                                                                                                                                                                                                                                                                                                                                                                                                                                                                                                                                                                                                                                                                                                                                                                                                                                                                                                                                                                                                                                                                                                                                                                                                                                                                                                                                                                                                                                                                                                                                                                                                                                                                                                                                                                                                                                                                                                                                                                                                                                                                                                                                                                                                                                                                                                                                                                                                                                                                                                                                                                                                                                                                                                                                                                                                                                                                                                                                                                                                                                                                                                                                                                                                                                                                                                                                                                                                                                                                                                                                                                                                                                                                                                                                                                                                                                                                                                                                                                                                                                                                                                                                                                                                                                                                                                                                                                                                                                                                                                                                                                                                                                                                                                                                                                                                                                                                                                                                                                                                                                                                                                                                                                                                                                                                                                                                                                                                                                                                                                                                                                                                                                                                                                                                                                                                                                                 will it ever get better people that say it will gets better never really helps were not where its better tbh i hate it here   \n",
              "30232  getting sick of everything so i m a year old boy whose life has been boring and lonely for years of it from the day that i was born until the age of i did not have someone who i would consider a friend people who were my friends at that time only used me for my skills and they were manipulating me in every way you might wonder why didn t i leave these people in the first place the answer is that i had no idea that i was being used the whole time so i decided to make a change and start making real friends and talk to people i started doing this back in march of i joined a gc and talked to people in that gc a girl was doing self harm and was suicidal i decided to help her because i had nothing else to do at that time little did i know that she was doing all of this for attention so we became good friends and i was really happy because it was the first time that i had the chance to talk to a girl and become friends with one the friendship was very one sided and she was cheating and lying every time she even lied to me about her age the whole i was ignoring these major red flags even though i know it was not right i thought that if i stopped talking to that girl no one else will so fast forward into a few months i meet another girl and this time the new girl helped me overcome all the lies and fakeness that i ve been through i easily got over that first girl things went really great for a long time and i was in my all time high and i was happier than ever things were going really great until september of months with my new friend and i made a mistake that ruined everything and she blocked me out everywhere a few days after the incident we came back together but it was never the same as before fast forward to december she stops talking to me completely because she was being uncomfortable with me i went through some huge breakdowns and needed to visit a therapist which revealed that i ve had some major issues including anxiety disorder social anxiety abandonment issues fomo and that i am a very sensitive person for the entire month of december i was completely alone and i tried making new friends because i lost the only one that i had i tried finding new friends but it didn t work it was new year s eve that she started talking to me again and i was happy once again because i now have a friend after all of that hard time i went through fast forward to march and april she severely reduces the amount of conversation that we have and i only talked to her in a gc that we were in very rarely in the dms yesterday she told me that she wants to unfriend me for good and not talk to me again she was sounding sarcastic because we quite often insult each other for fun and i thought that she was just kidding like all the other times but it turns out that it was not the case this time she removed me as a friend on every social media and i left the gc that we were in because i m sure that she was not talking because of my existence in there and now i m left with no friends or social life again she is a very straightforward person which is good and she told that i am a boring person i m not denying that at all she was the most impactful and interesting thing ever to happen in my whole life for my entire life i ve been emotionally and mentally abused by everyone surrounding me including my parents i was always being victimized even when it was not my fault no one ever committed to a real friendship with me except her that s why she is the most important person in my life compared to most people i m inferior and i have nothing to offer but that doesn t mean that i won t put any effort into my friendships for the entire time that we were friends i always had her chat windows open discord and it was always covering up half of my screen even if we were not talking just to be prepared to reply on time i changed my entire sleeping schedule just to not miss a single text from her and i never said no to anything if she ever asked to do anything i was always doing it and i never let her down she is the only person that i fully trust and feel comfortable around even though we live thousands of miles away from each other the average person might consider me very picky of choosing friends and that s true i completely lack self identity and i tend to copy the person that i like or i m talking to that s one big reason why she didn t feel comfortable around me i was listening to the same music she listened to and etc but the truth is that i actually liked them because i never had any taste in basic things such as music shows choices and everything else that s why i need to be careful in choosing friends i will easily get influenced by them and now i m here again starting from zero no friends no social life spending hours a day on tiktok and achieving nothing due to lack of motivation and i don t get a single notification the whole day luckily i have weeks of spring break right now and i don t have any school work i m really getting sick and tired of this i always put the most effort into everything and i always do my best in a friendship and to add more to that i only had friend the whole time just so i can always be there for her i was feeling content but why does all my effort go into nothing i promise you i m doing my best and i m going overboard to be a good friend if you want some context about my personality search these up i m an intj w and i have virgo placements in my big if you are into that i m not saying that these define my life or anything but they have become major barriers in my life i know i lack emotional intelligence and i don t have the best talking skills out there but i m still doing everything that i can i m a simple person i just want a friend i just want to be a part of a group of gc which i m not at all now believe me i ll do my best and ill be fully committed if you are my friend i m always available to talk to you in discord tiktok snapchat instagram and everywhere else if you reached here thank you for reading that and my dms are open if you wanted to talk to say anything and maybe even become friends   \n",
              "52702                                                                                                                                                                                                                                                                                                                                                                                                                                                                                                                                                                                                                                                                                                                                                                                                                                                                                                                                                                                                                                                                                                                                                                                                                                                                                                                                                                                                                                                                                                                                                                                                                                                                                                                                                                                                                                                                                                                                                                                                                                                                                                                                                                                                                                                                                                                                                                                                                                                                                                                                                                                                                                                                                                                                                                                                                                                                                                                                                                                                                                                                                                                                                                                                                                                                                                                                                                                                                                                                                                                                                                                                                                                                                                                                                                                                                                                                                                                                                                                                                                                                                                                                                                                                                                                                                                                                                                                                                                                                                                                                                                                                                                                                                                                                                                                                                                                                                                                                                                                                                                                                                                                                                                                                                                                                                                                                                                                                                                                                                                                                                                                                                                                                                                                                                                                                                                                                                                                                             i m just so lonelyit s almost am for me rn i ve been sitting on the ledge of my window for like half an hour listening to my playlist waiting for a notification a comment a dm anything but incase i want to jump of i m already at the window i know i m to shy to kill myself but i still want to do it there s just actually no one i have a long term friendship with not a relationship just a friendship   \n",
              "29155                                                                                                                                                                                                                                                                                                                                                                                                                                                                                                                                                                                                                                                                                                                                                                                                                                                                                                                                                                                                                                                                                                                                                                                                                                                                                                                                                                                                                                                                                                                                                                                                                                                                                                                                                                                                                                                                                                                                                                                                                                                                                                                                                                                                                                                                                                                                                                                                                                                                                                                                                                                                                                                                                                                                                                                                                                                                                                                                                                                                                                                                                                                                                                                                                                                                                                                                                                                                                                                                                                                                                                                                                                                                                                                                                                                                                                                                                                                                                                                                                                                                                                                                                                                                                                                                                                                                                                                                                                                                                                                                                                                                                                                                                                                                                                                                                                                                                                                                                                                                                                                                                                                                                                                                                                                                                                                                                                                                                                                                                                                                                                                                                                                                                                                                                                                                             fridays are supposed to be good so why do mine always suck my job is just so trash it makes my entire weekend shit i hate it but i think any other job i get will be just as shit and talking to my ex would always make me feel better on fridays when i have to work but hes not around anymore bc other than that talking to him just stresses me out im sad this week is probably gonna be the worst week of my life just so much stressful shit going on and no one to talk to and im so busy i cant get a break until after christmas ugh   \n",
              "\n",
              "            actual    predicted  \n",
              "41369      suicide  non-suicide  \n",
              "59737      suicide  non-suicide  \n",
              "5899   non-suicide      suicide  \n",
              "17231      suicide  non-suicide  \n",
              "32211      suicide  non-suicide  \n",
              "16343  non-suicide      suicide  \n",
              "12337      suicide  non-suicide  \n",
              "30232  non-suicide      suicide  \n",
              "52702      suicide  non-suicide  \n",
              "29155  non-suicide      suicide  "
            ]
          },
          "execution_count": 38,
          "metadata": {},
          "output_type": "execute_result"
        }
      ],
      "source": [
        "error_df.loc[error_df['actual'] != error_df['predicted']].sample(10)"
      ]
    }
  ],
  "metadata": {
    "colab": {
      "collapsed_sections": [
        "C03jljJcV75W",
        "rCfrAlZEV75Y",
        "b_OPGNMbV75g"
      ],
      "provenance": []
    },
    "kernelspec": {
      "display_name": "Python 3.9.7 ('base')",
      "language": "python",
      "name": "python3"
    },
    "language_info": {
      "codemirror_mode": {
        "name": "ipython",
        "version": 3
      },
      "file_extension": ".py",
      "mimetype": "text/x-python",
      "name": "python",
      "nbconvert_exporter": "python",
      "pygments_lexer": "ipython3",
      "version": "3.9.7"
    },
    "vscode": {
      "interpreter": {
        "hash": "08257972d207e29b723ed1b102c9578b0010f8898965c44183eea9cd8f2679f1"
      }
    }
  },
  "nbformat": 4,
  "nbformat_minor": 0
}
