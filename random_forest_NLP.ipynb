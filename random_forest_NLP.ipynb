{
  "cells": [
    {
      "cell_type": "code",
      "execution_count": 20,
      "metadata": {
        "id": "mbaM4g5Q9DeO"
      },
      "outputs": [],
      "source": [
        "#from google.colab import drive\n",
        "#drive.mount('/content/drive')"
      ]
    },
    {
      "cell_type": "markdown",
      "metadata": {
        "id": "myxEFwpSV75T"
      },
      "source": [
        "# Procesamiento de Lenguaje Natural (NLP): Análisis (clasificación) de sentimientos"
      ]
    },
    {
      "cell_type": "code",
      "execution_count": 21,
      "metadata": {
        "colab": {
          "base_uri": "https://localhost:8080/"
        },
        "id": "nRU0t1gW9wCG",
        "outputId": "b32615b3-b484-485d-af67-fce4959440b7"
      },
      "outputs": [],
      "source": [
        "#%pip install git+https://github.com/erikavaris/tokenizer.git"
      ]
    },
    {
      "cell_type": "code",
      "execution_count": 43,
      "metadata": {
        "id": "aPt8MdWrV75U"
      },
      "outputs": [],
      "source": [
        "import string\n",
        "\n",
        "import numpy as np\n",
        "import pandas as pd\n",
        "\n",
        "import nltk\n",
        "from nltk.corpus import stopwords\n",
        "from nltk.tokenize import TweetTokenizer\n",
        "\n",
        "from sklearn.model_selection import train_test_split\n",
        "from sklearn.feature_extraction.text import CountVectorizer, TfidfVectorizer\n",
        "\n",
        "from sklearn.ensemble import RandomForestClassifier\n",
        "\n",
        "from sklearn.pipeline import Pipeline\n",
        "from sklearn.model_selection import GridSearchCV\n",
        "\n",
        "from sklearn.metrics import ConfusionMatrixDisplay, precision_score, recall_score, f1_score\n",
        "\n",
        "from tokenizer import tokenizer as tk\n"
      ]
    },
    {
      "cell_type": "code",
      "execution_count": 44,
      "metadata": {
        "id": "0cBd0zCFV75W"
      },
      "outputs": [],
      "source": [
        "pd.set_option('display.max_colwidth', None)"
      ]
    },
    {
      "cell_type": "code",
      "execution_count": 45,
      "metadata": {
        "colab": {
          "base_uri": "https://localhost:8080/"
        },
        "id": "YDjKHH0OV75W",
        "outputId": "0593e048-849d-40a8-86c6-640928bbd0fb"
      },
      "outputs": [
        {
          "name": "stderr",
          "output_type": "stream",
          "text": [
            "[nltk_data] Downloading package stopwords to\n",
            "[nltk_data]     /Users/Gabriel/nltk_data...\n",
            "[nltk_data]   Package stopwords is already up-to-date!\n"
          ]
        }
      ],
      "source": [
        "# Descargando las stopwords\n",
        "nltk.download('stopwords')\n",
        "stop_words = set(stopwords.words('english'))"
      ]
    },
    {
      "cell_type": "code",
      "execution_count": 46,
      "metadata": {
        "id": "uo-fcIB6V75W"
      },
      "outputs": [],
      "source": [
        "# Función para tokenizar los comments\n",
        "def tokenizer(text):\n",
        "    rt = tk.RedditTokenizer()\n",
        "    return rt.tokenize(text)"
      ]
    },
    {
      "cell_type": "markdown",
      "metadata": {
        "id": "C03jljJcV75W"
      },
      "source": [
        "### Loading comments"
      ]
    },
    {
      "cell_type": "code",
      "execution_count": 47,
      "metadata": {
        "id": "QVHlFhW1V75X"
      },
      "outputs": [],
      "source": [
        "comments_df = pd.read_csv('SuicidiosProyecto_clean.csv', sep = ',', names = ['id','text','class'], index_col='id',header = 1)\n",
        "\n",
        "\n"
      ]
    },
    {
      "cell_type": "code",
      "execution_count": 48,
      "metadata": {
        "colab": {
          "base_uri": "https://localhost:8080/"
        },
        "id": "yKDKvT0aV75X",
        "outputId": "4087fb8e-eeee-497c-c275-2eef86e2dde5"
      },
      "outputs": [
        {
          "data": {
            "text/plain": [
              "(195682, 2)"
            ]
          },
          "execution_count": 48,
          "metadata": {},
          "output_type": "execute_result"
        }
      ],
      "source": [
        "comments_df.shape"
      ]
    },
    {
      "cell_type": "code",
      "execution_count": 49,
      "metadata": {
        "colab": {
          "base_uri": "https://localhost:8080/",
          "height": 768
        },
        "id": "J30R-hypV75X",
        "outputId": "e6fafbfd-01dc-4047-fdc1-26dfe6c5fa15"
      },
      "outputs": [
        {
          "data": {
            "text/html": [
              "<div>\n",
              "<style scoped>\n",
              "    .dataframe tbody tr th:only-of-type {\n",
              "        vertical-align: middle;\n",
              "    }\n",
              "\n",
              "    .dataframe tbody tr th {\n",
              "        vertical-align: top;\n",
              "    }\n",
              "\n",
              "    .dataframe thead th {\n",
              "        text-align: right;\n",
              "    }\n",
              "</style>\n",
              "<table border=\"1\" class=\"dataframe\">\n",
              "  <thead>\n",
              "    <tr style=\"text-align: right;\">\n",
              "      <th></th>\n",
              "      <th>text</th>\n",
              "      <th>class</th>\n",
              "    </tr>\n",
              "    <tr>\n",
              "      <th>id</th>\n",
              "      <th></th>\n",
              "      <th></th>\n",
              "    </tr>\n",
              "  </thead>\n",
              "  <tbody>\n",
              "    <tr>\n",
              "      <th>206771</th>\n",
              "      <td>feari ve been struggling with depression on and off since i was in middle school i ve always felt like i was alone and that i d never be happy i ve thought about how i would want to go when i would do and how to but i ve never gotten to actually try because i m just so scared to die i don t know of death could somehow be worse then life and i ve held out hope that maybe things could get better and they did i met the most wonderful woman in the world she made me feel things i thought i never would joy excited hopeful and she s made me feel that way everyday for the past months but because of certain things that have happened between us i m starting to feel like i lost my chance to be happy with her and i don t think she loves me anymore all of my friends are her friends that she introduced me too i hate my family and ive even tried several hotlines but sit through two minutes of automated dialogue makes me lose the courage i built up to even call in the first place if my fears turn out to be real and we split up then i ll know that the best part of my life is behind me and there won t be anything left keeping me from just ending all i want is to spill all my thoughts out to her and have her tell me everything will be okay but if i did that and she stayed it wouldn t be because she loved me it would be out of pity i don t know if typing this has made me feel better or worse but either way i probably won t check this again</td>\n",
              "      <td>suicide</td>\n",
              "    </tr>\n",
              "    <tr>\n",
              "      <th>166990</th>\n",
              "      <td>how do i do this i will stay up til like am every night and still act like a got a full hours im confused</td>\n",
              "      <td>non-suicide</td>\n",
              "    </tr>\n",
              "    <tr>\n",
              "      <th>299770</th>\n",
              "      <td>we live in a society i mean holy fuck that s deep let that sink in</td>\n",
              "      <td>non-suicide</td>\n",
              "    </tr>\n",
              "    <tr>\n",
              "      <th>152172</th>\n",
              "      <td>girlfriend left me after i gave up my life for her no reason to live anymore the only reason i had to live left me yesterday said our relationship want fair to me so she broke up with me i m going to die alone whether it be today tomorrow or in a few years</td>\n",
              "      <td>suicide</td>\n",
              "    </tr>\n",
              "    <tr>\n",
              "      <th>81699</th>\n",
              "      <td>i lost another one of my friendsi was having a bad day so i just decided id make all my friends hate me and it worked at least for one they didnt even send a last picture of their cat i feel like if i dont kill my self its a waste of losing them they were really nice to me i just ruined everything also i wish i could just throw my phone out all it does is make me sad and distract me at the same time</td>\n",
              "      <td>suicide</td>\n",
              "    </tr>\n",
              "  </tbody>\n",
              "</table>\n",
              "</div>"
            ],
            "text/plain": [
              "                                                                                                                                                                                                                                                                                                                                                                                                                                                                                                                                                                                                                                                                                                                                                                                                                                                                                                                                                                                                                                                                                                                                                                                                                                                                                                                                                                                                                                                                                                       text  \\\n",
              "id                                                                                                                                                                                                                                                                                                                                                                                                                                                                                                                                                                                                                                                                                                                                                                                                                                                                                                                                                                                                                                                                                                                                                                                                                                                                                                                                                                                                                                                                                                            \n",
              "206771  feari ve been struggling with depression on and off since i was in middle school i ve always felt like i was alone and that i d never be happy i ve thought about how i would want to go when i would do and how to but i ve never gotten to actually try because i m just so scared to die i don t know of death could somehow be worse then life and i ve held out hope that maybe things could get better and they did i met the most wonderful woman in the world she made me feel things i thought i never would joy excited hopeful and she s made me feel that way everyday for the past months but because of certain things that have happened between us i m starting to feel like i lost my chance to be happy with her and i don t think she loves me anymore all of my friends are her friends that she introduced me too i hate my family and ive even tried several hotlines but sit through two minutes of automated dialogue makes me lose the courage i built up to even call in the first place if my fears turn out to be real and we split up then i ll know that the best part of my life is behind me and there won t be anything left keeping me from just ending all i want is to spill all my thoughts out to her and have her tell me everything will be okay but if i did that and she stayed it wouldn t be because she loved me it would be out of pity i don t know if typing this has made me feel better or worse but either way i probably won t check this again   \n",
              "166990                                                                                                                                                                                                                                                                                                                                                                                                                                                                                                                                                                                                                                                                                                                                                                                                                                                                                                                                                                                                                                                                                                                                                                                                                                                                                                                                                                                            how do i do this i will stay up til like am every night and still act like a got a full hours im confused   \n",
              "299770                                                                                                                                                                                                                                                                                                                                                                                                                                                                                                                                                                                                                                                                                                                                                                                                                                                                                                                                                                                                                                                                                                                                                                                                                                                                                                                                                                                                                                   we live in a society i mean holy fuck that s deep let that sink in   \n",
              "152172                                                                                                                                                                                                                                                                                                                                                                                                                                                                                                                                                                                                                                                                                                                                                                                                                                                                                                                                                                                                                                                                                                                                                                                                                                     girlfriend left me after i gave up my life for her no reason to live anymore the only reason i had to live left me yesterday said our relationship want fair to me so she broke up with me i m going to die alone whether it be today tomorrow or in a few years   \n",
              "81699                                                                                                                                                                                                                                                                                                                                                                                                                                                                                                                                                                                                                                                                                                                                                                                                                                                                                                                                                                                                                                                                                    i lost another one of my friendsi was having a bad day so i just decided id make all my friends hate me and it worked at least for one they didnt even send a last picture of their cat i feel like if i dont kill my self its a waste of losing them they were really nice to me i just ruined everything also i wish i could just throw my phone out all it does is make me sad and distract me at the same time   \n",
              "\n",
              "              class  \n",
              "id                   \n",
              "206771      suicide  \n",
              "166990  non-suicide  \n",
              "299770  non-suicide  \n",
              "152172      suicide  \n",
              "81699       suicide  "
            ]
          },
          "execution_count": 49,
          "metadata": {},
          "output_type": "execute_result"
        }
      ],
      "source": [
        "comments_df.sample(5)"
      ]
    },
    {
      "cell_type": "code",
      "execution_count": 50,
      "metadata": {
        "colab": {
          "base_uri": "https://localhost:8080/"
        },
        "id": "t7_pB49kV75X",
        "outputId": "50e1f71f-69e8-489d-c8ab-a8594aa32698"
      },
      "outputs": [
        {
          "data": {
            "text/plain": [
              "non-suicide    0.562898\n",
              "suicide        0.437102\n",
              "Name: class, dtype: float64"
            ]
          },
          "execution_count": 50,
          "metadata": {},
          "output_type": "execute_result"
        }
      ],
      "source": [
        "comments_df['class'].value_counts(dropna = False, normalize = True)"
      ]
    },
    {
      "cell_type": "markdown",
      "metadata": {
        "id": "rCfrAlZEV75Y"
      },
      "source": [
        "### Filtrando los comments que aún no han sido etiquetados"
      ]
    },
    {
      "cell_type": "code",
      "execution_count": 51,
      "metadata": {
        "id": "Q1CPRJdoV75Y"
      },
      "outputs": [],
      "source": [
        "comments_labeled_df = comments_df.loc[comments_df['class'].notnull()]"
      ]
    },
    {
      "cell_type": "code",
      "execution_count": 52,
      "metadata": {
        "colab": {
          "base_uri": "https://localhost:8080/"
        },
        "id": "mMyxUYWRV75Y",
        "outputId": "b269d9e9-1a6d-4934-9004-d0bcda9e0e2e"
      },
      "outputs": [
        {
          "data": {
            "text/plain": [
              "(195682, 2)"
            ]
          },
          "execution_count": 52,
          "metadata": {},
          "output_type": "execute_result"
        }
      ],
      "source": [
        "# comments a ser usados para entrenar y evaluar el modelo\n",
        "comments_labeled_df.shape"
      ]
    },
    {
      "cell_type": "code",
      "execution_count": 53,
      "metadata": {
        "colab": {
          "base_uri": "https://localhost:8080/"
        },
        "id": "WCmxomwOV75Y",
        "outputId": "ff6c057c-3009-4981-c182-d3284c2716e6"
      },
      "outputs": [
        {
          "data": {
            "text/plain": [
              "(0, 2)"
            ]
          },
          "execution_count": 53,
          "metadata": {},
          "output_type": "execute_result"
        }
      ],
      "source": [
        "# comments descartados debido a que no se encuentran etiquetados\n",
        "comments_df.loc[comments_df['class'].isnull()].shape"
      ]
    },
    {
      "cell_type": "code",
      "execution_count": 54,
      "metadata": {
        "id": "RvnCfPd5V75Y"
      },
      "outputs": [],
      "source": [
        "# Scenario 1: Treating neutral as suicide classes\n",
        "#comments_labeled_df['class'] = comments_labeled_df['class'].replace({'neutral': 'suicide'})\n",
        "\n",
        "# Scenario 2: Working only with suicide and non-suicide classes\n",
        "# Removing neutral class\n",
        "comments_labeled_df = comments_labeled_df.loc[comments_labeled_df['class'].isin(['suicide', 'non-suicide'])]\n",
        "\n",
        "# Scenario 3: Working with all classes"
      ]
    },
    {
      "cell_type": "code",
      "execution_count": 55,
      "metadata": {
        "colab": {
          "base_uri": "https://localhost:8080/"
        },
        "id": "s4GsVj95V75Z",
        "outputId": "b2fbe670-ab24-455a-fa3e-df976e49b6f4"
      },
      "outputs": [
        {
          "data": {
            "text/plain": [
              "non-suicide    0.562898\n",
              "suicide        0.437102\n",
              "Name: class, dtype: float64"
            ]
          },
          "execution_count": 55,
          "metadata": {},
          "output_type": "execute_result"
        }
      ],
      "source": [
        "\n",
        "comments_labeled_df['class'].value_counts(dropna = False, normalize = True)"
      ]
    },
    {
      "cell_type": "markdown",
      "metadata": {
        "id": "h4fdWXhaV75Z"
      },
      "source": [
        "### Diviendo los comments etiquetados en los conjuntos de entrenamiento y prueba"
      ]
    },
    {
      "cell_type": "code",
      "execution_count": 56,
      "metadata": {
        "id": "y4k0gYYLV75Z"
      },
      "outputs": [],
      "source": [
        "# El parámetro 'stratify' es útil para asegurar que ambos conjuntos de datos queden aproximadamente balanceados\n",
        "# Cuando se cuenta con muy pocos datos etiquetados, por lo general se debe disponer de una menor cantidad de datos para evaluación\n",
        "X_train, X_test, y_train, y_test = train_test_split(comments_labeled_df['text'], comments_labeled_df['class'], test_size = 0.35, stratify = comments_labeled_df['class'], random_state = 1)"
      ]
    },
    {
      "cell_type": "code",
      "execution_count": 57,
      "metadata": {
        "colab": {
          "base_uri": "https://localhost:8080/"
        },
        "id": "xBQni5K0V75Z",
        "outputId": "9381acf1-edf1-4989-a0c3-cda01e97fe79"
      },
      "outputs": [
        {
          "data": {
            "text/plain": [
              "(127193,)"
            ]
          },
          "execution_count": 57,
          "metadata": {},
          "output_type": "execute_result"
        }
      ],
      "source": [
        "X_train.shape"
      ]
    },
    {
      "cell_type": "code",
      "execution_count": 58,
      "metadata": {
        "colab": {
          "base_uri": "https://localhost:8080/"
        },
        "id": "VWb9eP2UV75a",
        "outputId": "23f01ced-21c8-4bef-a2e8-eb0066272337"
      },
      "outputs": [
        {
          "data": {
            "text/plain": [
              "non-suicide    0.5629\n",
              "suicide        0.4371\n",
              "Name: class, dtype: float64"
            ]
          },
          "execution_count": 58,
          "metadata": {},
          "output_type": "execute_result"
        }
      ],
      "source": [
        "pd.Series(y_train).value_counts(normalize = True)"
      ]
    },
    {
      "cell_type": "code",
      "execution_count": 59,
      "metadata": {
        "colab": {
          "base_uri": "https://localhost:8080/"
        },
        "id": "q2eodq8rV75a",
        "outputId": "56f1f2bf-ef76-4826-ec9c-3231fceeeeb4"
      },
      "outputs": [
        {
          "data": {
            "text/plain": [
              "(68489,)"
            ]
          },
          "execution_count": 59,
          "metadata": {},
          "output_type": "execute_result"
        }
      ],
      "source": [
        "X_test.shape"
      ]
    },
    {
      "cell_type": "code",
      "execution_count": 60,
      "metadata": {
        "colab": {
          "base_uri": "https://localhost:8080/"
        },
        "id": "FF-GibO1V75a",
        "outputId": "d480c627-6440-4f51-9a5d-7ad0676ef118"
      },
      "outputs": [
        {
          "data": {
            "text/plain": [
              "non-suicide    0.562893\n",
              "suicide        0.437107\n",
              "Name: class, dtype: float64"
            ]
          },
          "execution_count": 60,
          "metadata": {},
          "output_type": "execute_result"
        }
      ],
      "source": [
        "pd.Series(y_test).value_counts(normalize = True)"
      ]
    },
    {
      "cell_type": "markdown",
      "metadata": {
        "id": "nA6ZvECXV75a"
      },
      "source": [
        "### Vectorizando los comments"
      ]
    },
    {
      "cell_type": "markdown",
      "metadata": {
        "id": "eJM3ph9cV75b"
      },
      "source": [
        "<table>\n",
        "    <tbody>\n",
        "        <tr>\n",
        "            <td>\n",
        "                <h4>Bag of Words</h4>\n",
        "                <img src=\"./imgs/bow.png\" style=\"width: 500px;\">\n",
        "            </td>\n",
        "            <td>\n",
        "                <h4>TF-IDF</h4>\n",
        "                <img src=\"./imgs/tf-idf.png\" style=\"width: 500px;\">\n",
        "            </td>\n",
        "        </tr>\n",
        "    </tbody>\n",
        "</table>"
      ]
    },
    {
      "cell_type": "code",
      "execution_count": 62,
      "metadata": {
        "colab": {
          "base_uri": "https://localhost:8080/"
        },
        "id": "3-tDSrkMV75b",
        "outputId": "f90882b9-d12e-465d-c4fc-b20cce93adfe"
      },
      "outputs": [
        {
          "data": {
            "text/plain": [
              "id\n",
              "322468    last person to care dropped mei was just told by my last real friend to not call or text or have anything to fo with him because he was tired of my depression and when i could act normal then he would talk to me again i don t know what to do anymore\n",
              "331765                                                                                                                      so guys i told my crush i liked her update she hasn t said if she likes me back but i m hopeful because she keeps dropping subtle hints\n",
              "281797          carbon monoxidejust curious here but i spent a total of hours with a tarp over the exhaust of my car while i slept to try to end it but i still woke up fine curious as how that happens i figured that long was way more then enough to do the job\n",
              "35826                                          death won t stop be appealing to mei still cannot get over death having more appeal to me than life nothing is good enough here none of it is enough at least in death i won t suffer anymore or have these thoughts\n",
              "144465                                                                                                                      all you redditors are getting girlfriends and here i am sitting down tryna complete my ds collection whos living the good life now zach\n",
              "Name: text, dtype: object"
            ]
          },
          "execution_count": 62,
          "metadata": {},
          "output_type": "execute_result"
        }
      ],
      "source": [
        "X_train.head()"
      ]
    },
    {
      "cell_type": "code",
      "execution_count": 65,
      "metadata": {
        "id": "uv6KmmqaV75c"
      },
      "outputs": [],
      "source": [
        "tfidf = TfidfVectorizer(tokenizer = tokenizer, stop_words = stop_words, lowercase = True)"
      ]
    },
    {
      "cell_type": "code",
      "execution_count": 66,
      "metadata": {
        "id": "Vu_7hRR5V75c"
      },
      "outputs": [],
      "source": [
        "X_tfidf = tfidf.fit_transform(X_train.values.astype('U'))"
      ]
    },
    {
      "cell_type": "code",
      "execution_count": 67,
      "metadata": {
        "colab": {
          "base_uri": "https://localhost:8080/"
        },
        "id": "ceAcArpKV75c",
        "outputId": "22f95abd-73c9-46fb-9a4e-eac92e386ba1"
      },
      "outputs": [
        {
          "data": {
            "text/plain": [
              "107342"
            ]
          },
          "execution_count": 67,
          "metadata": {},
          "output_type": "execute_result"
        }
      ],
      "source": [
        "len(tfidf.vocabulary_)"
      ]
    },
    {
      "cell_type": "markdown",
      "metadata": {
        "id": "v6Ikv2VJ9f-7"
      },
      "source": [
        "### Entrenamiento de un modelo SVM\n"
      ]
    },
    {
      "cell_type": "code",
      "execution_count": 68,
      "metadata": {
        "id": "DJxHRxhN9ogk"
      },
      "outputs": [],
      "source": [
        "from sklearn.linear_model import LogisticRegression"
      ]
    },
    {
      "cell_type": "code",
      "execution_count": 69,
      "metadata": {
        "id": "UrsCRIC1fpoS"
      },
      "outputs": [],
      "source": [
        "lr_model = LogisticRegression(class_weight = \"balanced\")"
      ]
    },
    {
      "cell_type": "code",
      "execution_count": 70,
      "metadata": {
        "colab": {
          "base_uri": "https://localhost:8080/"
        },
        "id": "KQAEhDshgd8N",
        "outputId": "acdb15a4-ec1f-4bec-d072-552a8f324a14"
      },
      "outputs": [
        {
          "data": {
            "text/html": [
              "<style>#sk-container-id-1 {color: black;background-color: white;}#sk-container-id-1 pre{padding: 0;}#sk-container-id-1 div.sk-toggleable {background-color: white;}#sk-container-id-1 label.sk-toggleable__label {cursor: pointer;display: block;width: 100%;margin-bottom: 0;padding: 0.3em;box-sizing: border-box;text-align: center;}#sk-container-id-1 label.sk-toggleable__label-arrow:before {content: \"▸\";float: left;margin-right: 0.25em;color: #696969;}#sk-container-id-1 label.sk-toggleable__label-arrow:hover:before {color: black;}#sk-container-id-1 div.sk-estimator:hover label.sk-toggleable__label-arrow:before {color: black;}#sk-container-id-1 div.sk-toggleable__content {max-height: 0;max-width: 0;overflow: hidden;text-align: left;background-color: #f0f8ff;}#sk-container-id-1 div.sk-toggleable__content pre {margin: 0.2em;color: black;border-radius: 0.25em;background-color: #f0f8ff;}#sk-container-id-1 input.sk-toggleable__control:checked~div.sk-toggleable__content {max-height: 200px;max-width: 100%;overflow: auto;}#sk-container-id-1 input.sk-toggleable__control:checked~label.sk-toggleable__label-arrow:before {content: \"▾\";}#sk-container-id-1 div.sk-estimator input.sk-toggleable__control:checked~label.sk-toggleable__label {background-color: #d4ebff;}#sk-container-id-1 div.sk-label input.sk-toggleable__control:checked~label.sk-toggleable__label {background-color: #d4ebff;}#sk-container-id-1 input.sk-hidden--visually {border: 0;clip: rect(1px 1px 1px 1px);clip: rect(1px, 1px, 1px, 1px);height: 1px;margin: -1px;overflow: hidden;padding: 0;position: absolute;width: 1px;}#sk-container-id-1 div.sk-estimator {font-family: monospace;background-color: #f0f8ff;border: 1px dotted black;border-radius: 0.25em;box-sizing: border-box;margin-bottom: 0.5em;}#sk-container-id-1 div.sk-estimator:hover {background-color: #d4ebff;}#sk-container-id-1 div.sk-parallel-item::after {content: \"\";width: 100%;border-bottom: 1px solid gray;flex-grow: 1;}#sk-container-id-1 div.sk-label:hover label.sk-toggleable__label {background-color: #d4ebff;}#sk-container-id-1 div.sk-serial::before {content: \"\";position: absolute;border-left: 1px solid gray;box-sizing: border-box;top: 0;bottom: 0;left: 50%;z-index: 0;}#sk-container-id-1 div.sk-serial {display: flex;flex-direction: column;align-items: center;background-color: white;padding-right: 0.2em;padding-left: 0.2em;position: relative;}#sk-container-id-1 div.sk-item {position: relative;z-index: 1;}#sk-container-id-1 div.sk-parallel {display: flex;align-items: stretch;justify-content: center;background-color: white;position: relative;}#sk-container-id-1 div.sk-item::before, #sk-container-id-1 div.sk-parallel-item::before {content: \"\";position: absolute;border-left: 1px solid gray;box-sizing: border-box;top: 0;bottom: 0;left: 50%;z-index: -1;}#sk-container-id-1 div.sk-parallel-item {display: flex;flex-direction: column;z-index: 1;position: relative;background-color: white;}#sk-container-id-1 div.sk-parallel-item:first-child::after {align-self: flex-end;width: 50%;}#sk-container-id-1 div.sk-parallel-item:last-child::after {align-self: flex-start;width: 50%;}#sk-container-id-1 div.sk-parallel-item:only-child::after {width: 0;}#sk-container-id-1 div.sk-dashed-wrapped {border: 1px dashed gray;margin: 0 0.4em 0.5em 0.4em;box-sizing: border-box;padding-bottom: 0.4em;background-color: white;}#sk-container-id-1 div.sk-label label {font-family: monospace;font-weight: bold;display: inline-block;line-height: 1.2em;}#sk-container-id-1 div.sk-label-container {text-align: center;}#sk-container-id-1 div.sk-container {/* jupyter's `normalize.less` sets `[hidden] { display: none; }` but bootstrap.min.css set `[hidden] { display: none !important; }` so we also need the `!important` here to be able to override the default hidden behavior on the sphinx rendered scikit-learn.org. See: https://github.com/scikit-learn/scikit-learn/issues/21755 */display: inline-block !important;position: relative;}#sk-container-id-1 div.sk-text-repr-fallback {display: none;}</style><div id=\"sk-container-id-1\" class=\"sk-top-container\"><div class=\"sk-text-repr-fallback\"><pre>LogisticRegression(class_weight=&#x27;balanced&#x27;)</pre><b>In a Jupyter environment, please rerun this cell to show the HTML representation or trust the notebook. <br />On GitHub, the HTML representation is unable to render, please try loading this page with nbviewer.org.</b></div><div class=\"sk-container\" hidden><div class=\"sk-item\"><div class=\"sk-estimator sk-toggleable\"><input class=\"sk-toggleable__control sk-hidden--visually\" id=\"sk-estimator-id-1\" type=\"checkbox\" checked><label for=\"sk-estimator-id-1\" class=\"sk-toggleable__label sk-toggleable__label-arrow\">LogisticRegression</label><div class=\"sk-toggleable__content\"><pre>LogisticRegression(class_weight=&#x27;balanced&#x27;)</pre></div></div></div></div></div>"
            ],
            "text/plain": [
              "LogisticRegression(class_weight='balanced')"
            ]
          },
          "execution_count": 70,
          "metadata": {},
          "output_type": "execute_result"
        }
      ],
      "source": [
        "lr_model.fit(X_tfidf, y_train)"
      ]
    },
    {
      "cell_type": "code",
      "execution_count": 71,
      "metadata": {
        "id": "QgMWtSvW-nw7"
      },
      "outputs": [],
      "source": [
        "y_train_svm_predict = lr_model.predict(X_tfidf)"
      ]
    },
    {
      "cell_type": "code",
      "execution_count": 72,
      "metadata": {
        "id": "jqB-h77boWtg"
      },
      "outputs": [],
      "source": [
        "X_test_tfidf = tfidf.transform(X_test.values.astype('U'))"
      ]
    },
    {
      "cell_type": "code",
      "execution_count": null,
      "metadata": {
        "colab": {
          "base_uri": "https://localhost:8080/"
        },
        "id": "NK5RORBKpdj-",
        "outputId": "24a5f7c3-e3a5-47ab-af4b-acb7784d0303"
      },
      "outputs": [],
      "source": [
        "type(X_tfidf)"
      ]
    },
    {
      "cell_type": "code",
      "execution_count": 73,
      "metadata": {
        "colab": {
          "base_uri": "https://localhost:8080/",
          "height": 316
        },
        "id": "XdVUgGMu-tvI",
        "outputId": "441c804b-f56e-4183-bd04-e3df7f940514"
      },
      "outputs": [],
      "source": [
        "y_test_svm_predict = lr_model.predict(X_test_tfidf)"
      ]
    },
    {
      "cell_type": "code",
      "execution_count": 74,
      "metadata": {},
      "outputs": [
        {
          "data": {
            "text/plain": [
              "<sklearn.metrics._plot.confusion_matrix.ConfusionMatrixDisplay at 0x7fc5008273a0>"
            ]
          },
          "execution_count": 74,
          "metadata": {},
          "output_type": "execute_result"
        },
        {
          "data": {
            "image/png": "[encoded data removed]",
            "text/plain": [
              "<Figure size 432x288 with 2 Axes>"
            ]
          },
          "metadata": {
            "needs_background": "light"
          },
          "output_type": "display_data"
        }
      ],
      "source": [
        "ConfusionMatrixDisplay.from_predictions(y_train, y_train_svm_predict)"
      ]
    },
    {
      "cell_type": "code",
      "execution_count": 75,
      "metadata": {},
      "outputs": [
        {
          "data": {
            "text/plain": [
              "<sklearn.metrics._plot.confusion_matrix.ConfusionMatrixDisplay at 0x7fbb58d4afa0>"
            ]
          },
          "execution_count": 75,
          "metadata": {},
          "output_type": "execute_result"
        },
        {
          "data": {
            "image/png": "[encoded data removed]",
            "text/plain": [
              "<Figure size 432x288 with 2 Axes>"
            ]
          },
          "metadata": {
            "needs_background": "light"
          },
          "output_type": "display_data"
        }
      ],
      "source": [
        "ConfusionMatrixDisplay.from_predictions(y_test, y_test_svm_predict)"
      ]
    },
    {
      "cell_type": "code",
      "execution_count": 76,
      "metadata": {},
      "outputs": [
        {
          "name": "stdout",
          "output_type": "stream",
          "text": [
            "Precision: 0.9393545122700495\n",
            "Recall: 0.9349953234045615\n",
            "F1: 0.9371698487388899\n"
          ]
        }
      ],
      "source": [
        "if len(lr_model.classes_) == 2:\n",
        "    print('Precision:', precision_score(y_train, y_train_svm_predict, pos_label = 'suicide'))\n",
        "    print('Recall:', recall_score(y_train, y_train_svm_predict, pos_label = 'suicide'))\n",
        "    print('F1:', f1_score(y_train, y_train_svm_predict, pos_label = 'suicide'))\n",
        "else:\n",
        "    # Para casos no binarios, es común calcular las métricas para cada clase\n",
        "    print('Precision:', precision_score(y_train, y_train_svm_predict, average = None))\n",
        "    print('Recall:', recall_score(y_train, y_train_svm_predict, average = None))\n",
        "    print('F1:', f1_score(y_train, y_train_svm_predict, average = None))"
      ]
    },
    {
      "cell_type": "code",
      "execution_count": 78,
      "metadata": {},
      "outputs": [
        {
          "name": "stdout",
          "output_type": "stream",
          "text": [
            "Precision: 0.9287578637397939\n",
            "Recall: 0.9271136052376657\n",
            "F1: 0.9279350061015362\n"
          ]
        }
      ],
      "source": [
        "if len(lr_model.classes_) == 2:\n",
        "    print('Precision:', precision_score(y_test, y_test_svm_predict, pos_label = 'suicide'))\n",
        "    print('Recall:', recall_score(y_test, y_test_svm_predict, pos_label = 'suicide'))\n",
        "    print('F1:', f1_score(y_test, y_test_svm_predict, pos_label = 'suicide'))\n",
        "else:\n",
        "    # Para casos no binarios, es común calcular las métricas para cada clase\n",
        "    print('Precision:', precision_score(y_test, y_test_svm_predict, average = None))\n",
        "    print('Recall:', recall_score(y_test, y_test_svm_predict, average = None))\n",
        "    print('F1:', f1_score(y_test, y_test_svm_predict, average = None))"
      ]
    },
    {
      "cell_type": "code",
      "execution_count": null,
      "metadata": {
        "id": "2Di2IjH0qpA0"
      },
      "outputs": [],
      "source": [
        "X_bow_lr = bow.fit_transform(X_train.values.astype('U'))"
      ]
    },
    {
      "cell_type": "code",
      "execution_count": null,
      "metadata": {
        "id": "4bq_ozlTqwTb"
      },
      "outputs": [],
      "source": [
        "lr_model = LogisticRegression(class_weight = \"balanced\")"
      ]
    },
    {
      "cell_type": "code",
      "execution_count": null,
      "metadata": {
        "colab": {
          "base_uri": "https://localhost:8080/"
        },
        "id": "eMg1ilwAq4Vb",
        "outputId": "4fe93bd9-0941-47c8-a382-1ff5da893bc5"
      },
      "outputs": [],
      "source": [
        "lr_model.fit(X_bow_lr, y_train)"
      ]
    },
    {
      "cell_type": "code",
      "execution_count": null,
      "metadata": {
        "id": "FTNLkJ-Jq_x0"
      },
      "outputs": [],
      "source": [
        "y_train_lr_predict = lr_model.predict(X_bow_lr)"
      ]
    },
    {
      "cell_type": "code",
      "execution_count": null,
      "metadata": {
        "id": "6iLKf7darNbe"
      },
      "outputs": [],
      "source": [
        "X_test_lr = bow.fit_transform(X_test.values.astype('U'))"
      ]
    },
    {
      "cell_type": "code",
      "execution_count": null,
      "metadata": {
        "colab": {
          "base_uri": "https://localhost:8080/",
          "height": 311
        },
        "id": "XlbHVIswrGl8",
        "outputId": "ad708081-ce8c-4f46-a340-dc771348acf6"
      },
      "outputs": [],
      "source": [
        "y_test_lr_predict = lr_model.predict(X_test_lr)"
      ]
    },
    {
      "cell_type": "code",
      "execution_count": null,
      "metadata": {
        "id": "9COMbKHc5Xu2"
      },
      "outputs": [],
      "source": []
    },
    {
      "cell_type": "markdown",
      "metadata": {
        "id": "WcM4bbtLV75g"
      },
      "source": [
        "### Análisis del error"
      ]
    },
    {
      "cell_type": "code",
      "execution_count": null,
      "metadata": {
        "id": "BJFR5LhRquc9"
      },
      "outputs": [],
      "source": []
    },
    {
      "cell_type": "code",
      "execution_count": 80,
      "metadata": {
        "colab": {
          "base_uri": "https://localhost:8080/",
          "height": 235
        },
        "id": "FQN4kTktV75g",
        "outputId": "31b13e66-8eb1-4397-8f21-f57e639f1a73"
      },
      "outputs": [],
      "source": [
        "error_df = pd.concat(\n",
        "    [ pd.concat([X_test, y_test], axis = 1).reset_index(),\n",
        "    pd.Series(y_test_svm_predict) ]\n",
        ", axis = 1).rename(columns = { 'class': 'actual', 0: 'predicted' })\n",
        "\n",
        "error_df.drop('id', inplace = True, axis = 1)"
      ]
    },
    {
      "cell_type": "code",
      "execution_count": 81,
      "metadata": {
        "id": "dhsf5rOfV75g"
      },
      "outputs": [
        {
          "data": {
            "text/plain": [
              "(4311, 3)"
            ]
          },
          "execution_count": 81,
          "metadata": {},
          "output_type": "execute_result"
        }
      ],
      "source": [
        "error_df.loc[error_df['actual'] != error_df['predicted']].shape"
      ]
    },
    {
      "cell_type": "code",
      "execution_count": 82,
      "metadata": {
        "id": "kdyiXO6yV75g"
      },
      "outputs": [
        {
          "data": {
            "text/html": [
              "<div>\n",
              "<style scoped>\n",
              "    .dataframe tbody tr th:only-of-type {\n",
              "        vertical-align: middle;\n",
              "    }\n",
              "\n",
              "    .dataframe tbody tr th {\n",
              "        vertical-align: top;\n",
              "    }\n",
              "\n",
              "    .dataframe thead th {\n",
              "        text-align: right;\n",
              "    }\n",
              "</style>\n",
              "<table border=\"1\" class=\"dataframe\">\n",
              "  <thead>\n",
              "    <tr style=\"text-align: right;\">\n",
              "      <th></th>\n",
              "      <th>text</th>\n",
              "      <th>actual</th>\n",
              "      <th>predicted</th>\n",
              "    </tr>\n",
              "  </thead>\n",
              "  <tbody>\n",
              "    <tr>\n",
              "      <th>8153</th>\n",
              "      <td>does anyone need to talk i feel like playing therapist right now and i want to help people so hmu if you need it</td>\n",
              "      <td>non-suicide</td>\n",
              "      <td>suicide</td>\n",
              "    </tr>\n",
              "    <tr>\n",
              "      <th>44654</th>\n",
              "      <td>good morning usa my life is falling apart fast and it s not fucking ok the sun in the sky has gun in my face i wish he d pull the trigger to take me away from this place oh boy it s swell to say i hate my fucking liiiiiiiiiiiiiiiiiiiiiife i hate my fucking liiiiiiiiiiiiiiife</td>\n",
              "      <td>non-suicide</td>\n",
              "      <td>suicide</td>\n",
              "    </tr>\n",
              "    <tr>\n",
              "      <th>18808</th>\n",
              "      <td>life is limitless chaos is it possible to slit your own throat yo</td>\n",
              "      <td>suicide</td>\n",
              "      <td>non-suicide</td>\n",
              "    </tr>\n",
              "    <tr>\n",
              "      <th>11695</th>\n",
              "      <td>april or may is when ill goive also said i would love until my cat died i guess i lied to myself im leaving in april or may i dont know how probably by overdosing ill leave a note to my parents telling them to check my phone and go to this account and read my posts and mom if you did then im sorry but i didnt want this anymore</td>\n",
              "      <td>suicide</td>\n",
              "      <td>non-suicide</td>\n",
              "    </tr>\n",
              "    <tr>\n",
              "      <th>66006</th>\n",
              "      <td>high school sucks seriously for the last years ive been in an absolute hellhole known as high school the majority of people in this school hate me i feel for virtually no reason i look into peoples eyes and all i see back is either hatred or snarkyness everyone feels so over the top about how they are better than me there are days where i am fine being at the bottom of the high school structure though there are days where i just hate every single fucking high schooler from what they have done from how they act about things the insults they come up with i hate this damn school i hate it with all the fiber of my being im not alone some days i feel like fucking screaming in everyones face the people that rub it in that im at the bottom i try my best to do things to get on top but i will never join it and i fucking hate it all</td>\n",
              "      <td>non-suicide</td>\n",
              "      <td>suicide</td>\n",
              "    </tr>\n",
              "    <tr>\n",
              "      <th>30071</th>\n",
              "      <td>year countdown started a few months ago the day i purchase a leader bike and go to a motorway is years from now i couldn t be more fearful and relieved i hope not to hurt anyone in the process if i wear a dnr wristband in case i make it will they comply</td>\n",
              "      <td>suicide</td>\n",
              "      <td>non-suicide</td>\n",
              "    </tr>\n",
              "    <tr>\n",
              "      <th>28298</th>\n",
              "      <td>what do you do when no one relates to you when you feel all alone with your thoughts</td>\n",
              "      <td>non-suicide</td>\n",
              "      <td>suicide</td>\n",
              "    </tr>\n",
              "    <tr>\n",
              "      <th>33844</th>\n",
              "      <td>i think there is something wrong with me so for the last few weeks i feel really tried and i struggle to get out of bed everyday i stopped attending my online classes and just gave up on most of them i haven t spoken to any of my friends in a month and i have completely stopped talking to my parents as well despite living in the same house i have no idea about what s wrong with me and i might have only felt this way once or twice before i feel like i am going through a major slump and i should just give up and sleep for eternity sometimes i wish i could cry but it doesn t come out ever sometimes i inflict physical pain so that i can start crying i just want to feel something again i want to feel happy i want to laugh but i can t i dont know why but i feel like i dont deserve to be happy i want to be able to work again just do something and be someone i want to go out and breathe fresh air but something inside of me stops me from going out ever time i get ready to go out i feel like i might not come back home alive i stare at the wall for hours together not thinking about anything i feel like i should be reaching out for help or something but there s no one close to me who i could bother with my troubles i also have become very impulsive for some reason just the other i woke up randomly at am and climbed my wardrobe and jumped from the top of it and broke a tile i get jitters and i run around the house for mins non stop or just learn a new ice skating program just to replicate it in my room i wish i could be happy again</td>\n",
              "      <td>non-suicide</td>\n",
              "      <td>suicide</td>\n",
              "    </tr>\n",
              "    <tr>\n",
              "      <th>54699</th>\n",
              "      <td>feels like vomiting im having a bad day today and i really dont feel good im trying to relax and all tht but my mind is racing not even animal collective could calm me down whatevrrrrrr im gonna go try to take a nap and wake up feeling better byeeeee</td>\n",
              "      <td>non-suicide</td>\n",
              "      <td>suicide</td>\n",
              "    </tr>\n",
              "    <tr>\n",
              "      <th>10432</th>\n",
              "      <td>we are all modern day slaves on the corporate plantation life is worth losing https youtu be klodgheylvk</td>\n",
              "      <td>suicide</td>\n",
              "      <td>non-suicide</td>\n",
              "    </tr>\n",
              "  </tbody>\n",
              "</table>\n",
              "</div>"
            ],
            "text/plain": [
              "                                                                                                                                                                                                                                                                                                                                                                                                                                                                                                                                                                                                                                                                                                                                                                                                                                                                                                                                                                                                                                                                                                                                                                                                                                                                                                                                                                                                                                                                                                                                                                                                           text  \\\n",
              "8153                                                                                                                                                                                                                                                                                                                                                                                                                                                                                                                                                                                                                                                                                                                                                                                                                                                                                                                                                                                                                                                                                                                                                                                                                                                                                                                                                                                                                                                                                           does anyone need to talk i feel like playing therapist right now and i want to help people so hmu if you need it   \n",
              "44654                                                                                                                                                                                                                                                                                                                                                                                                                                                                                                                                                                                                                                                                                                                                                                                                                                                                                                                                                                                                                                                                                                                                                                                                                                                                                                                       good morning usa my life is falling apart fast and it s not fucking ok the sun in the sky has gun in my face i wish he d pull the trigger to take me away from this place oh boy it s swell to say i hate my fucking liiiiiiiiiiiiiiiiiiiiiife i hate my fucking liiiiiiiiiiiiiiife   \n",
              "18808                                                                                                                                                                                                                                                                                                                                                                                                                                                                                                                                                                                                                                                                                                                                                                                                                                                                                                                                                                                                                                                                                                                                                                                                                                                                                                                                                                                                                                                                                                                                         life is limitless chaos is it possible to slit your own throat yo   \n",
              "11695                                                                                                                                                                                                                                                                                                                                                                                                                                                                                                                                                                                                                                                                                                                                                                                                                                                                                                                                                                                                                                                                                                                                                                                                                                                                  april or may is when ill goive also said i would love until my cat died i guess i lied to myself im leaving in april or may i dont know how probably by overdosing ill leave a note to my parents telling them to check my phone and go to this account and read my posts and mom if you did then im sorry but i didnt want this anymore   \n",
              "66006                                                                                                                                                                                                                                                                                                                                                                                                                                                                                                                                                                                                                                                                                                                                        high school sucks seriously for the last years ive been in an absolute hellhole known as high school the majority of people in this school hate me i feel for virtually no reason i look into peoples eyes and all i see back is either hatred or snarkyness everyone feels so over the top about how they are better than me there are days where i am fine being at the bottom of the high school structure though there are days where i just hate every single fucking high schooler from what they have done from how they act about things the insults they come up with i hate this damn school i hate it with all the fiber of my being im not alone some days i feel like fucking screaming in everyones face the people that rub it in that im at the bottom i try my best to do things to get on top but i will never join it and i fucking hate it all   \n",
              "30071                                                                                                                                                                                                                                                                                                                                                                                                                                                                                                                                                                                                                                                                                                                                                                                                                                                                                                                                                                                                                                                                                                                                                                                                                                                                                                                                             year countdown started a few months ago the day i purchase a leader bike and go to a motorway is years from now i couldn t be more fearful and relieved i hope not to hurt anyone in the process if i wear a dnr wristband in case i make it will they comply   \n",
              "28298                                                                                                                                                                                                                                                                                                                                                                                                                                                                                                                                                                                                                                                                                                                                                                                                                                                                                                                                                                                                                                                                                                                                                                                                                                                                                                                                                                                                                                                                                                                      what do you do when no one relates to you when you feel all alone with your thoughts   \n",
              "33844  i think there is something wrong with me so for the last few weeks i feel really tried and i struggle to get out of bed everyday i stopped attending my online classes and just gave up on most of them i haven t spoken to any of my friends in a month and i have completely stopped talking to my parents as well despite living in the same house i have no idea about what s wrong with me and i might have only felt this way once or twice before i feel like i am going through a major slump and i should just give up and sleep for eternity sometimes i wish i could cry but it doesn t come out ever sometimes i inflict physical pain so that i can start crying i just want to feel something again i want to feel happy i want to laugh but i can t i dont know why but i feel like i dont deserve to be happy i want to be able to work again just do something and be someone i want to go out and breathe fresh air but something inside of me stops me from going out ever time i get ready to go out i feel like i might not come back home alive i stare at the wall for hours together not thinking about anything i feel like i should be reaching out for help or something but there s no one close to me who i could bother with my troubles i also have become very impulsive for some reason just the other i woke up randomly at am and climbed my wardrobe and jumped from the top of it and broke a tile i get jitters and i run around the house for mins non stop or just learn a new ice skating program just to replicate it in my room i wish i could be happy again   \n",
              "54699                                                                                                                                                                                                                                                                                                                                                                                                                                                                                                                                                                                                                                                                                                                                                                                                                                                                                                                                                                                                                                                                                                                                                                                                                                                                                                                                                feels like vomiting im having a bad day today and i really dont feel good im trying to relax and all tht but my mind is racing not even animal collective could calm me down whatevrrrrrr im gonna go try to take a nap and wake up feeling better byeeeee   \n",
              "10432                                                                                                                                                                                                                                                                                                                                                                                                                                                                                                                                                                                                                                                                                                                                                                                                                                                                                                                                                                                                                                                                                                                                                                                                                                                                                                                                                                                                                                                                                                  we are all modern day slaves on the corporate plantation life is worth losing https youtu be klodgheylvk   \n",
              "\n",
              "            actual    predicted  \n",
              "8153   non-suicide      suicide  \n",
              "44654  non-suicide      suicide  \n",
              "18808      suicide  non-suicide  \n",
              "11695      suicide  non-suicide  \n",
              "66006  non-suicide      suicide  \n",
              "30071      suicide  non-suicide  \n",
              "28298  non-suicide      suicide  \n",
              "33844  non-suicide      suicide  \n",
              "54699  non-suicide      suicide  \n",
              "10432      suicide  non-suicide  "
            ]
          },
          "execution_count": 82,
          "metadata": {},
          "output_type": "execute_result"
        }
      ],
      "source": [
        "error_df.loc[error_df['actual'] != error_df['predicted']].sample(10)"
      ]
    }
  ],
  "metadata": {
    "colab": {
      "collapsed_sections": [
        "C03jljJcV75W",
        "rCfrAlZEV75Y",
        "b_OPGNMbV75g"
      ],
      "provenance": []
    },
    "kernelspec": {
      "display_name": "Python 3.9.7 ('base')",
      "language": "python",
      "name": "python3"
    },
    "language_info": {
      "codemirror_mode": {
        "name": "ipython",
        "version": 3
      },
      "file_extension": ".py",
      "mimetype": "text/x-python",
      "name": "python",
      "nbconvert_exporter": "python",
      "pygments_lexer": "ipython3",
      "version": "3.9.7"
    },
    "vscode": {
      "interpreter": {
        "hash": "08257972d207e29b723ed1b102c9578b0010f8898965c44183eea9cd8f2679f1"
      }
    }
  },
  "nbformat": 4,
  "nbformat_minor": 0
}
